{
 "cells": [
  {
   "cell_type": "markdown",
   "metadata": {},
   "source": [
    "\n",
    "## Sitio Web de Referencia\n",
    "[Bolsa de Trabajo de Apple México](https://jobs.apple.com/en-us/search?location=mexico-MEXC)\n",
    "\n",
    "## Tareas a Realizar\n",
    "\n",
    "- **Scraping de Páginas Principales**: Obtener una lista de las categorías de trabajo disponibles en la bolsa de trabajo de Apple México. Extraer el enlace y el nombre de cada categoría. \n",
    "\n",
    "- **Scraping de Ofertas de Trabajo:** Seleccionar una categoría de trabajo específica (por ejemplo, \"Ingeniería\"). Extraer información de al menos 5 ofertas de trabajo, incluyendo título, ubicación, fecha de publicación y descripción\n",
    "\n",
    "- **Manejo de Paginación:** Si la bolsa de trabajo tiene múltiples páginas, desarrollar un script que maneje la paginación y extraiga información de todas las páginas.\n",
    "\n",
    "- **Datos Adicionales:** Para cada oferta de trabajo, intentar extraer información adicional como requisitos y responsabilidades (si está disponible). \n",
    "\n",
    "- **Procesamiento y almacenamiento de Datos:** Procesar la información según los parametros necesarios para la plataforma (ETL). Almacenar la información extraída en un formato estructurado como lo es un archivo .json."
   ]
  },
  {
   "cell_type": "code",
   "execution_count": 1,
   "metadata": {},
   "outputs": [],
   "source": [
    "## Importación de librerias\n",
    "import json\n",
    "import pandas as pd\n",
    "import numpy as np\n",
    "from bs4  import BeautifulSoup\n",
    "import requests"
   ]
  },
  {
   "cell_type": "markdown",
   "metadata": {},
   "source": [
    "## Punto - 1 Scraping de Páginas Principales"
   ]
  },
  {
   "cell_type": "code",
   "execution_count": 40,
   "metadata": {},
   "outputs": [],
   "source": [
    "# funcion para scraping de paginas principales, por categorias de trabajo\n",
    "#recibe la url a scrapear (website) y devuelve las categorias de trabajo con nombre y link  correspondiente.\n",
    "def categorias_trabajo(website):\n",
    "    ## creo una lista vacia para guardar categorias\n",
    "    categories = []\n",
    "    \n",
    "    # realizo el request a la pagina web de trabajo y obtengo los links que contienen las categorias\n",
    "    response = requests.get(website)\n",
    "    \n",
    "    # verifico si  la peticion fue exitosa\n",
    "    if response.status_code  == 200:\n",
    "    # parseo el html de la pagina con BeautifulSoup\n",
    "        soup = BeautifulSoup(response.content,\"html.parser\")\n",
    "    \n",
    "        #busco todos los elementos que contengan categorias de trabajo\n",
    "        category_elements = soup.find_all(\"a\", class_= \"table--advanced-search__title\")\n",
    "        #itero sobre los elementos para extraer nombre y enlace de categoria\n",
    "        for category in  category_elements:\n",
    "            category_name = category.text.strip()   #elimino espacios en blanco alrededor del texto\n",
    "            category_link = \"https://jobs.apple.com\" + category[\"href\"]\n",
    "            # agrego cada categoria a mi lista de categorias\n",
    "            categories.append({\"name\":category_name , \"link\":category_link})\n",
    "    \n",
    "    return categories"
   ]
  },
  {
   "cell_type": "code",
   "execution_count": 41,
   "metadata": {},
   "outputs": [
    {
     "name": "stdout",
     "output_type": "stream",
     "text": [
      "Nombre: MX-Operations Expert, Enlace: https://jobs.apple.com/en-us/details/114438285/mx-operations-expert?team=APPST\n",
      "Nombre: MX-Genius, Enlace: https://jobs.apple.com/en-us/details/114438291/mx-genius?team=APPST\n",
      "Nombre: MX-Business Pro, Enlace: https://jobs.apple.com/en-us/details/200125422/mx-business-pro?team=APPST\n",
      "Nombre: MX-Technical Specialist, Enlace: https://jobs.apple.com/en-us/details/114438287/mx-technical-specialist?team=APPST\n",
      "Nombre: MX-Creative, Enlace: https://jobs.apple.com/en-us/details/114438295/mx-creative?team=APPST\n",
      "Nombre: MX-Business Expert, Enlace: https://jobs.apple.com/en-us/details/114438292/mx-business-expert?team=APPST\n",
      "Nombre: MX-Expert, Enlace: https://jobs.apple.com/en-us/details/114438290/mx-expert?team=APPST\n",
      "Nombre: MX - Specialist: Full-Time, Part-Time, and Part-Time Temporary, Enlace: https://jobs.apple.com/en-us/details/114438297/mx-specialist-full-time-part-time-and-part-time-temporary?team=APPST\n",
      "Nombre: Channel Account Executive - SMB and Carriers, Enlace: https://jobs.apple.com/en-us/details/200523926/channel-account-executive-smb-and-carriers?team=SLDEV\n",
      "Nombre: Account Executive - Enterprise, Enlace: https://jobs.apple.com/en-us/details/200523921/account-executive-enterprise?team=SLDEV\n",
      "Nombre: Apple Solutions Consultant (ASC), Enlace: https://jobs.apple.com/en-us/details/200519865/apple-solutions-consultant-asc?team=SLDEV\n",
      "Nombre: Music Programmer, Apple Music, Enlace: https://jobs.apple.com/en-us/details/200536356/music-programmer-apple-music?team=MKTG\n",
      "Nombre: Carrier Account Manager, Enlace: https://jobs.apple.com/en-us/details/200526836/carrier-account-manager?team=SFTWR\n",
      "Nombre: Services Marketing Manager, Mexico and Spanish-Speaking Latin America, Enlace: https://jobs.apple.com/en-us/details/200524098/services-marketing-manager-mexico-and-spanish-speaking-latin-america?team=MKTG\n",
      "Nombre: Apple Music Lead, Mexico and Spanish-Speaking Latin America, Enlace: https://jobs.apple.com/en-us/details/200502576/apple-music-lead-mexico-and-spanish-speaking-latin-america?team=SLDEV\n",
      "Nombre: Enterprise Channel Account Executive, Enlace: https://jobs.apple.com/en-us/details/200509363/enterprise-channel-account-executive?team=SLDEV\n"
     ]
    }
   ],
   "source": [
    "#url del sitio de apple filtrado por pais MEX\n",
    "website = \"https://jobs.apple.com/en-us/search?location=mexico-MEXC\"\n",
    "#llamado a la funcion\n",
    "categories= categorias_trabajo(website)\n",
    "for category in categories:\n",
    "    print(f\"Nombre: {category['name']}, Enlace: {category['link']}\")"
   ]
  },
  {
   "cell_type": "code",
   "execution_count": 42,
   "metadata": {},
   "outputs": [
    {
     "name": "stdout",
     "output_type": "stream",
     "text": [
      "Categorías guardadas en categories.json\n"
     ]
    }
   ],
   "source": [
    "# guardar las categorías en un archivo JSON\n",
    "with open('Archivos json/categories.json', 'w') as json_file:\n",
    "    json.dump(categories, json_file, indent=4)\n",
    "\n",
    "print(\"Categorías guardadas en categories.json\")"
   ]
  },
  {
   "cell_type": "markdown",
   "metadata": {},
   "source": [
    "## Punto - 2 Scraping de Ofertas de Trabajo"
   ]
  },
  {
   "cell_type": "code",
   "execution_count": 72,
   "metadata": {},
   "outputs": [],
   "source": [
    "# funcion para scraping de ofertas de trabajo, por categorias de trabajo específica\n",
    "#recibe la url a scrapear (website) y devuelve según la categoria de trabajo, Título, Ubicación, Fecha de publicación y descripción del empleo.\n",
    "def ofertas_trabajo(website_categoria):\n",
    "    ## creo una lista vacia para guardar categorias\n",
    "    job_offers = []\n",
    "    \n",
    "    # realizo el request a la pagina web de trabajo y obtengo los links que contienen las categorias\n",
    "    response = requests.get(website_categoria)\n",
    "    \n",
    "    # verifico si  la peticion fue exitosa\n",
    "    if response.status_code  == 200:\n",
    "    # parseo el html de la pagina con BeautifulSoup\n",
    "        soup = BeautifulSoup(response.content,\"html.parser\")\n",
    "    \n",
    "        #busco todos los elementos que contengan categorias de trabajo\n",
    "        offer_elements = soup.find_all(\"a\", class_= \"table--advanced-search__title\")\n",
    "        \n",
    "        #itero sobre los elementos para extraer nombre y enlace de categoria\n",
    "        # limito a solo 5 ofertas por ahora (utilizo filtro en página por categoria)\n",
    "        for offer in  offer_elements[:5]:\n",
    "            offer_title = offer.text.strip()   #elimino espacios en blanco alrededor del texto\n",
    "            offer_link = \"https://jobs.apple.com\" + offer[\"href\"]\n",
    "\n",
    "        #buscar la ubicación y fecha de publicación dentro de las etiquetas span\n",
    "            offer_location_elem = offer.find_next_sibling(\"span\", class_=\"table--advanced-search__role\")\n",
    "            offer_date_elem = offer_location_elem.find_next_sibling(\"span\",class_=\"table--advanced-search__date\") if offer_location_elem else None\n",
    "            \n",
    "        #verifico si se encontro ubicación y fecha para luego acceder al link \n",
    "            offer_location = offer_location_elem.text.strip() if offer_location_elem else \"No disponible\"\n",
    "            offer_date = offer_date_elem.text.strip() if offer_date_elem else \"No disponible\"\n",
    "            \n",
    "        # ingresar en el link extraido para obtener la descripcion de la oferta\n",
    "        #se realiza nuevamente un request en el nuevo link\n",
    "            offer_response= requests.get(offer_link)\n",
    "            if offer_response.status_code ==  200 :\n",
    "                offer_soup = BeautifulSoup(offer_response.content, \"html.parser\")\n",
    "                offer_description_elem =  offer_soup.find(\"div\", id =\"jd-description\",class_=\"jd__row--main jd__summary--main\")\n",
    "                offer_description = offer_description_elem.text.strip() if offer_description_elem else\"No disponible\"\n",
    "\n",
    "            # agrego cada oferta de trabajo a mi lista de ofertas\n",
    "            job_offers.append({\"title\": offer_title, \"location\": offer_location, \"date\": offer_date, \"description\": offer_description})\n",
    "    return job_offers"
   ]
  },
  {
   "cell_type": "code",
   "execution_count": 73,
   "metadata": {},
   "outputs": [
    {
     "name": "stdout",
     "output_type": "stream",
     "text": [
      "Título: MX-Operations Expert\n",
      "Ubicación: Apple Retail\n",
      "Fecha de publicación: Feb 16, 2024\n",
      "Descripción: As an Operations Expert, you and your team have the incredible responsibility of ensuring products take the final step in the supply chain: getting into customers' hands. You're in charge of the store's entire inventory - products, parts, tools, supplies, and everything else. You make sure your team has the support, knowledge, and resources required to maintain product availability, complete inventory tasks, and keep the stockroom organized as new products arrive. You're in constant contact with the management and leadership teams, sharing data about the status of products and parts. And when exciting new products arrive, you're the first to open them up and present them to the entire store team. Apple makes the products, but you make it happen by being ready to place our products in customers' hands.\n",
      "\n",
      "Título: MX-Business Pro\n",
      "Ubicación: Apple Retail\n",
      "Fecha de publicación: Feb 16, 2024\n",
      "Descripción: You lead customer engagement, deepen relationships, drive sales and awareness of Apple’s value proposition for business and build loyalty with a focus on high potential business customers. You plan and forecast business performance through account management, pipeline building, and opportunity management, utilizing CRM and other tools. You are passionate and confident and engage business customers by showcasing our technology and helping them discover how Apple and third-party solutions and services can transform the way they work. You develop effective account plans to start and expand adoption of Apple solutions across our ecosystem platform and deeper in the customer’s organization.  You lead and support briefings and leverage workshops to support customer engagement. You effectively use CRMs to build and maintain accurate customer account information, manage relationships, opportunities, tasks, and develop customer insights based on best practices. You mentor and act as a subject matter expert among peers on business customer needs and solutions. You seek, analyze, interpret, and share feedback from Business NPS to continually improve the customer experience. You partner with the Business Development Manager and account team to seamlessly transition accounts in line with account engagement strategy and ensure a smooth customer experience. You maintain process mastery of all Retail Business programs and offerings to ensure compliance with policies and procedures.\n",
      "\n",
      "Título: MX-Genius\n",
      "Ubicación: Apple Retail\n",
      "Fecha de publicación: Feb 16, 2024\n",
      "Descripción: As a Genius, you provide insightful advice and friendly, hands-on technical support to Apple customers in need. You quickly diagnose product issues on the spot, explaining situations with patience and empathy. After determining whether repairs can be done or a replacement is needed, you offer solutions to quickly get users up and running again. Even if you're juggling more than one customer, you stay conscious of their time demands as well as your own. You fulfill Apple's service commitment with style, speed, and skill. And you earn the trust of customers and coworkers alike as you offer guidance, knowledge, and even tips and training.\n",
      "\n",
      "Título: MX-Creative\n",
      "Ubicación: Apple Retail\n",
      "Fecha de publicación: Feb 16, 2024\n",
      "Descripción: As a Creative, your main role at the Apple Store is that of instructor, whether guiding small groups to learn or helping individuals. You use your presentation skills to act as a facilitator, helping users get set up, get trained, and get going. But you're also an excellent listener, taking the time to understand what each user hopes to achieve or learn. By adjusting your teaching style to each user's individual skill level, you maximize their understanding and your own time. You recognize that purchasing a new product can sometimes help customers attain their goals. You spend much of your time leading scheduled sessions, but you're still comfortable interacting with store customers between those sessions. You're proud to enrich the lives of others  - whether customers or team members  - through teaching, in the way only a Creative can.\n",
      "\n",
      "Título: MX-Technical Specialist\n",
      "Ubicación: Apple Retail\n",
      "Fecha de publicación: Feb 16, 2024\n",
      "Descripción: As a Technical Specialist, you help new owners get started and current ones get quick, efficient support — developing strong, positive relationships with Apple. When a customer needs assistance, you quickly assess their situation. Sometimes you take care of customers with advice or a solution on the spot, using your knowledge of current Apple technology to help with iPod, iPhone, and iPad devices. At other times, you refer customers to support team members who get them up and running again. You even provide personal training for new customers, helping them acquire the basic skills they need to get started on photo, video, and music projects. The entire store team benefits from your commitment to providing the best care for customers. By helping Apple maintain strong relationships with customers, you are instrumental to our success.\n",
      "\n"
     ]
    }
   ],
   "source": [
    "website_categoria= \"https://jobs.apple.com/en-us/search?location=mexico-MEXC&team=sales-APPST-ARSS+support-APPST-ARSCS\"\n",
    "\n",
    "#llamo a la función \n",
    "job_offers= ofertas_trabajo(website_categoria)\n",
    "#imprimo por separado los datos de la oferta para ordenar la salida\n",
    "for offer in job_offers:\n",
    "    print(f\"Título: {offer['title']}\")\n",
    "    print(f\"Ubicación: {offer['location']}\")\n",
    "    print(f\"Fecha de publicación: {offer['date']}\")\n",
    "    print(f\"Descripción: {offer['description']}\")\n",
    "    print()"
   ]
  },
  {
   "cell_type": "code",
   "execution_count": 74,
   "metadata": {},
   "outputs": [
    {
     "name": "stdout",
     "output_type": "stream",
     "text": [
      "Ofertas de Trabajo guardadas en job_offers.json\n"
     ]
    }
   ],
   "source": [
    "# guardar las categorías en un archivo JSON\n",
    "with open('Archivos json/job_offers.json', 'w') as json_file:\n",
    "    json.dump(job_offers, json_file, indent=4)\n",
    "\n",
    "print(\"Ofertas de Trabajo guardadas en job_offers.json\")"
   ]
  },
  {
   "cell_type": "markdown",
   "metadata": {},
   "source": [
    "## Punto - 3 Manejo de paginación"
   ]
  },
  {
   "cell_type": "code",
   "execution_count": 35,
   "metadata": {},
   "outputs": [
    {
     "name": "stdout",
     "output_type": "stream",
     "text": [
      "Título: SAP Business Governance - Security Liaison, Enlace: https://jobs.apple.com/en-us/details/200535238/sap-business-governance-security-liaison?team=OPMFG\n",
      "Título: Apple Support College Program At Home Advisor - University of North Carolina at Wilmington, Enlace: https://jobs.apple.com/en-us/details/200493551/apple-support-college-program-at-home-advisor-university-of-north-carolina-at-wilmington?team=STDNT\n",
      "Título: Apple Support College Program At Home Advisor - Appalachian State University, Enlace: https://jobs.apple.com/en-us/details/200493539/apple-support-college-program-at-home-advisor-appalachian-state-university?team=STDNT\n",
      "Título: ER Business Partner (Retail), Enlace: https://jobs.apple.com/en-us/details/200537633/er-business-partner-retail?team=CORSV\n",
      "Título: Apple Support College Program At Home Advisor - California State University, Fresno, Enlace: https://jobs.apple.com/en-us/details/200493591/apple-support-college-program-at-home-advisor-california-state-university-fresno?team=STDNT\n",
      "Título: Apple Support College Program At Home Advisor, Enlace: https://jobs.apple.com/en-us/details/200493335/apple-support-college-program-at-home-advisor?team=STDNT\n",
      "Título: Apple Support College Program At Home Advisor - University of Houston, Enlace: https://jobs.apple.com/en-us/details/200493595/apple-support-college-program-at-home-advisor-university-of-houston?team=STDNT\n",
      "Título: Financial Services Enterprise Account Executive, Major Accounts, Enlace: https://jobs.apple.com/en-us/details/200535070/financial-services-enterprise-account-executive-major-accounts?team=SLDEV\n",
      "Título: Apple Support College Program At Home Advisor - University of Texas at Arlington, Enlace: https://jobs.apple.com/en-us/details/200493603/apple-support-college-program-at-home-advisor-university-of-texas-at-arlington?team=STDNT\n",
      "Título: Apple Support College Program At Home Advisor - Sonoma State University, Enlace: https://jobs.apple.com/en-us/details/200493607/apple-support-college-program-at-home-advisor-sonoma-state-university?team=STDNT\n",
      "Título: Apple Support College Program At Home Advisor - California State University, Northridge, Enlace: https://jobs.apple.com/en-us/details/200499164/apple-support-college-program-at-home-advisor-california-state-university-northridge?team=STDNT\n",
      "Título: AIML - Sr Engineering Program Manager, Advanced Question Answering Systems, Enlace: https://jobs.apple.com/en-us/details/200537160/aiml-sr-engineering-program-manager-advanced-question-answering-systems?team=SFTWR\n",
      "Título: Apple Support College Program At Home Advisor - Fayetteville State University, Enlace: https://jobs.apple.com/en-us/details/200493555/apple-support-college-program-at-home-advisor-fayetteville-state-university?team=STDNT\n",
      "Título: Apple Support College Program At Home Advisor - San Jose State University, Enlace: https://jobs.apple.com/en-us/details/200493604/apple-support-college-program-at-home-advisor-san-jose-state-university?team=STDNT\n",
      "Título: Apple Support College Program At Home Advisor - Prairie View A&M University, Enlace: https://jobs.apple.com/en-us/details/200493579/apple-support-college-program-at-home-advisor-prairie-view-a-m-university?team=STDNT\n",
      "Título: Apple Support College Program At Home Advisor, Enlace: https://jobs.apple.com/en-us/details/200493471/apple-support-college-program-at-home-advisor?team=STDNT\n",
      "Título: Education Leadership & Learning Executive, Enlace: https://jobs.apple.com/en-us/details/200499695/education-leadership-learning-executive?team=SLDEV\n",
      "Título: Apple Support College Program At Home Advisor - University of North Carolina at Charlotte, Enlace: https://jobs.apple.com/en-us/details/200493549/apple-support-college-program-at-home-advisor-university-of-north-carolina-at-charlotte?team=STDNT\n",
      "Título: Apple Support College Program At Home Advisor - Cal Poly Humboldt University, Enlace: https://jobs.apple.com/en-us/details/200493566/apple-support-college-program-at-home-advisor-cal-poly-humboldt-university?team=STDNT\n",
      "Título: Apple Support College Program At Home Advisor - California State University, Stanislaus, Enlace: https://jobs.apple.com/en-us/details/200493592/apple-support-college-program-at-home-advisor-california-state-university-stanislaus?team=STDNT\n",
      "Título: Apple Support College Program At Home Advisor - University of Houston-Downtown, Enlace: https://jobs.apple.com/en-us/details/200493596/apple-support-college-program-at-home-advisor-university-of-houston-downtown?team=STDNT\n",
      "Título: Apple Support College Program At Home Advisor - University of California, Merced, Enlace: https://jobs.apple.com/en-us/details/200493608/apple-support-college-program-at-home-advisor-university-of-california-merced?team=STDNT\n",
      "Título: Apple Support College Program At Home Advisor - University of Texas at San Antonio, Enlace: https://jobs.apple.com/en-us/details/200493619/apple-support-college-program-at-home-advisor-university-of-texas-at-san-antonio?team=STDNT\n",
      "Título: AIML - Senior Applied ML Engineer, DMLI, Enlace: https://jobs.apple.com/en-us/details/200536741/aiml-senior-applied-ml-engineer-dmli?team=MLAI\n",
      "Título: Apple Support College Program At Home Advisor - Johnson C. Smith University at Charlotte, Enlace: https://jobs.apple.com/en-us/details/200499244/apple-support-college-program-at-home-advisor-johnson-c-smith-university-at-charlotte?team=STDNT\n",
      "Título: Apple Support College Program At Home Advisor, Enlace: https://jobs.apple.com/en-us/details/200493334/apple-support-college-program-at-home-advisor?team=STDNT\n",
      "Título: Apple Support College Program At Home Advisor - California State University, Bakersfield, Enlace: https://jobs.apple.com/en-us/details/200493588/apple-support-college-program-at-home-advisor-california-state-university-bakersfield?team=STDNT\n",
      "Título: AIML - Sr Engineering Program Manager, Data Operations for Machine Translation, Enlace: https://jobs.apple.com/en-us/details/200537475/aiml-sr-engineering-program-manager-data-operations-for-machine-translation?team=MLAI\n",
      "Título: Graphics Designer, Enlace: https://jobs.apple.com/en-us/details/200537992/graphics-designer?team=CORSV\n",
      "Título: Enterprise US Field Engineer Indirect Leader, Enlace: https://jobs.apple.com/en-us/details/200534356/enterprise-us-field-engineer-indirect-leader?team=SLDEV\n",
      "Título: Browser Security Researcher, Enlace: https://jobs.apple.com/en-us/details/200537631/browser-security-researcher?team=SFTWR\n",
      "Título: Apple Support College Program At Home Advisor - California State University, Sacramento, Enlace: https://jobs.apple.com/en-us/details/200493614/apple-support-college-program-at-home-advisor-california-state-university-sacramento?team=STDNT\n",
      "Título: Apple Support College Program At Home Advisor - Bennett College, Enlace: https://jobs.apple.com/en-us/details/200499263/apple-support-college-program-at-home-advisor-bennett-college?team=STDNT\n",
      "Título: Apple Support College Program At Home Advisor - East Carolina University, Enlace: https://jobs.apple.com/en-us/details/200493552/apple-support-college-program-at-home-advisor-east-carolina-university?team=STDNT\n",
      "Título: Apple Support College Program At Home Advisor - University of North Carolina at Greensboro, Enlace: https://jobs.apple.com/en-us/details/200493564/apple-support-college-program-at-home-advisor-university-of-north-carolina-at-greensboro?team=STDNT\n",
      "Título: Apple Support College Program At Home Advisor - North Carolina State University, Enlace: https://jobs.apple.com/en-us/details/200493559/apple-support-college-program-at-home-advisor-north-carolina-state-university?team=STDNT\n",
      "Título: Apple Support College Program At Home Advisor - University of California, Davis, Enlace: https://jobs.apple.com/en-us/details/200493616/apple-support-college-program-at-home-advisor-university-of-california-davis?team=STDNT\n",
      "Título: Apple Support College Program At Home Advisor - Texas A&M University-San Antonio, Enlace: https://jobs.apple.com/en-us/details/200493613/apple-support-college-program-at-home-advisor-texas-a-m-university-san-antonio?team=STDNT\n",
      "Título: ER Business Partner (Retail), Enlace: https://jobs.apple.com/en-us/details/200537635/er-business-partner-retail?team=CORSV\n",
      "Título: Vulnerability Researcher, Enlace: https://jobs.apple.com/en-us/details/200537641/vulnerability-researcher?team=SFTWR\n",
      "Título: Apple Support College Program At Home Advisor - Elizabeth City State University, Enlace: https://jobs.apple.com/en-us/details/200499270/apple-support-college-program-at-home-advisor-elizabeth-city-state-university?team=STDNT\n",
      "Título: ER Business Partner, Enlace: https://jobs.apple.com/en-us/details/200537636/er-business-partner?team=CORSV\n",
      "Título: Browser Security Researcher, Enlace: https://jobs.apple.com/en-us/details/200537628/browser-security-researcher?team=SFTWR\n",
      "Título: US Federal Government Account Executive, Economy & Interior, Enlace: https://jobs.apple.com/en-us/details/200519728/us-federal-government-account-executive-economy-interior?team=SLDEV\n",
      "Título: Apple Support College Program At Home Advisor - Texas A&M University, College Station, Enlace: https://jobs.apple.com/en-us/details/200493615/apple-support-college-program-at-home-advisor-texas-a-m-university-college-station?team=STDNT\n",
      "Título: Apple Support College Program At Home Advisor - San Diego State University, Enlace: https://jobs.apple.com/en-us/details/200493601/apple-support-college-program-at-home-advisor-san-diego-state-university?team=STDNT\n",
      "Título: Apple Support College Program At Home Advisor - Texas Southern University, Enlace: https://jobs.apple.com/en-us/details/200493587/apple-support-college-program-at-home-advisor-texas-southern-university?team=STDNT\n",
      "Título: Apple Support College Program At Home Advisor - Texas Tech University, Enlace: https://jobs.apple.com/en-us/details/200493589/apple-support-college-program-at-home-advisor-texas-tech-university?team=STDNT\n",
      "Título: Apple Support College Program At Home Advisor - California State University, Chico, Enlace: https://jobs.apple.com/en-us/details/200493594/apple-support-college-program-at-home-advisor-california-state-university-chico?team=STDNT\n",
      "Título: Apple Support College Program At Home Advisor - North Carolina A&T State University, Enlace: https://jobs.apple.com/en-us/details/200493545/apple-support-college-program-at-home-advisor-north-carolina-a-t-state-university?team=STDNT\n",
      "Título: US Federal Government Account Executive, Security & Justice, Enlace: https://jobs.apple.com/en-us/details/200537618/us-federal-government-account-executive-security-justice?team=SLDEV\n",
      "Título: Red Team Security Engineer - Platform & Hardware, Enlace: https://jobs.apple.com/en-us/details/200533471/red-team-security-engineer-platform-hardware?team=SFTWR\n",
      "Título: ISE, System Experience - Software Engineer, macOS System Experience, Enlace: https://jobs.apple.com/en-us/details/200525181/ise-system-experience-software-engineer-macos-system-experience?team=SFTWR\n"
     ]
    }
   ],
   "source": [
    "\n",
    "def paginacion(web):\n",
    "    job_offers = []\n",
    "\n",
    "    page = 1\n",
    "    while True:\n",
    "        # concateno el número de página a la url\n",
    "        url = f\"{web}&page={page}\"\n",
    "\n",
    "        #realizo la peticion\n",
    "        response = requests.get(url)\n",
    "\n",
    "        # corroboro si la solicitud fue exitosa \n",
    "        if response.status_code == 200:\n",
    "            # creo un objeto BeautifulSoup\n",
    "            soup = BeautifulSoup(response.content, 'html.parser')\n",
    "\n",
    "            # Busco a través de las etiquetas, las ofertas de trabajo\n",
    "            offer_elements = soup.find_all('a', class_='table--advanced-search__title')\n",
    "\n",
    "            # Si no hay ofertas de trabajo en la página, salir del bucle\n",
    "            if not offer_elements:\n",
    "                break\n",
    "\n",
    "            # itero sobre los elementos encontrados y extraer información de las ofertas de trabajo\n",
    "            for offer in offer_elements:\n",
    "                offer_title = offer.text.strip()\n",
    "                offer_link = \"https://jobs.apple.com\" + offer['href']\n",
    "                job_offers.append({'title': offer_title, 'link': offer_link})\n",
    "\n",
    "            # Incrementar el número de página para la siguiente solicitud\n",
    "            page += 1\n",
    "        else:\n",
    "            # Si la solicitud no fue exitosa, salir del bucle\n",
    "            break\n",
    "\n",
    "    return job_offers\n",
    "\n",
    "#  ejecuto la función con la URL correspondiente a Apple\n",
    "web = \"https://jobs.apple.com/en-us/search?sort=relevance&homeOffice=true\"\n",
    "\n",
    "# llamo a la función \n",
    "job_offers = paginacion(web)\n",
    "\n",
    "# imprimo las ofertas de trabajo obtenidas\n",
    "for offer in job_offers:\n",
    "    print(f\"Título: {offer['title']}, Enlace: {offer['link']}\")\n"
   ]
  },
  {
   "cell_type": "code",
   "execution_count": 38,
   "metadata": {},
   "outputs": [
    {
     "name": "stdout",
     "output_type": "stream",
     "text": [
      "Ofertas de Trabajo guardadas en pages.json\n"
     ]
    }
   ],
   "source": [
    "# guardar las categorías en un archivo JSON\n",
    "with open('Archivos json/pages.json', 'w') as json_file:\n",
    "    json.dump(job_offers, json_file, indent=4)\n",
    "\n",
    "print(\"Ofertas de Trabajo guardadas en pages.json\")"
   ]
  },
  {
   "cell_type": "markdown",
   "metadata": {},
   "source": [
    "## Punto - 4 Datos Adicionales "
   ]
  },
  {
   "cell_type": "code",
   "execution_count": 114,
   "metadata": {},
   "outputs": [],
   "source": [
    "# funcion para scraping de ofertas de trabajo, por categorias de trabajo específica\n",
    "#recibe la url a scrapear (website) y devuelve según la categoria de trabajo, Título, Ubicación, Fecha de publicación , descripción del empleo y datos adicionales .\n",
    "def adicionales(web):\n",
    "    ## creo una lista vacia para guardar categorias\n",
    "    jobs = []\n",
    "    \n",
    "    # realizo el request a la pagina web de trabajo y obtengo los links que contienen las categorias\n",
    "    response = requests.get(website_categoria)\n",
    "    \n",
    "    # verifico si  la peticion fue exitosa\n",
    "    if response.status_code  == 200:\n",
    "    # parseo el html de la pagina con BeautifulSoup\n",
    "        soup = BeautifulSoup(response.content,\"html.parser\")\n",
    "    \n",
    "        #busco todos los elementos que contengan categorias de trabajo\n",
    "        offer_elements = soup.find_all(\"a\", class_= \"table--advanced-search__title\")\n",
    "        \n",
    "        #itero sobre los elementos para extraer nombre y enlace de categoria\n",
    "        # limito a solo 5 ofertas por ahora (utilizo filtro en página por categoria)\n",
    "        for offer in  offer_elements[:5]:\n",
    "            offer_title = offer.text.strip()   #elimino espacios en blanco alrededor del texto\n",
    "            offer_link = \"https://jobs.apple.com\" + offer[\"href\"]\n",
    "\n",
    "        #buscar la ubicación y fecha de publicación dentro de las etiquetas span\n",
    "            offer_location_elem = offer.find_next_sibling(\"span\", class_=\"table--advanced-search__role\")\n",
    "            offer_date_elem = offer_location_elem.find_next_sibling(\"span\",class_=\"table--advanced-search__date\") if offer_location_elem else None\n",
    "            \n",
    "        #verifico si se encontro ubicación y fecha para luego acceder al link \n",
    "            offer_location = offer_location_elem.text.strip() if offer_location_elem else \"No disponible\"\n",
    "            offer_date = offer_date_elem.text.strip() if offer_date_elem else \"No disponible\"\n",
    "            \n",
    "        # ingresar en el link extraido para obtener la descripcion de la oferta\n",
    "        #se realiza nuevamente un request en el nuevo link\n",
    "            offer_response= requests.get(offer_link)\n",
    "            if offer_response.status_code ==  200 :\n",
    "                offer_soup = BeautifulSoup(offer_response.content, \"html.parser\")\n",
    "                offer_description_elem =  offer_soup.find(\"div\", id =\"jd-description\",class_=\"jd__row--main jd__summary--main\")\n",
    "                offer_description = offer_description_elem.text.strip() if offer_description_elem else\"No disponible\"\n",
    "\n",
    "        # busco los elementos que contienen los requisitos adicionales y habilidades\n",
    "                requirements_elem = offer_soup.find(\"div\", id =\"jd-key-qualifications\", class_=\"jd__row--main jd__summary\")\n",
    "                skills_elem = offer_soup.find(\"div\", id =\"jd-additional-requirements\",class_=\"jd__row--main jd__summary\")\n",
    "\n",
    "        # extraigo el texto de los elementos encontrados \n",
    "                key_qualifications = requirements_elem.text.strip() if requirements_elem else \"No disponible\"\n",
    "                additional= skills_elem.text.strip() if skills_elem else \"No disponible\"\n",
    "            else:\n",
    "                key_qualifications = \"No disponible\"\n",
    "                additional = \"No disponible\"\n",
    "\n",
    "\n",
    "        # agrego cada oferta de trabajo a mi lista de ofertas\n",
    "            jobs.append({\n",
    "                \"title\": offer_title, \n",
    "                \"location\": offer_location, \n",
    "                \"date\": offer_date, \n",
    "                \"description\": offer_description,\n",
    "                \"key_qualifications\": key_qualifications,\n",
    "                \"additionals\": additional\n",
    "                })\n",
    "    return jobs"
   ]
  },
  {
   "cell_type": "code",
   "execution_count": 115,
   "metadata": {},
   "outputs": [
    {
     "name": "stdout",
     "output_type": "stream",
     "text": [
      "Título: MX-Business Pro\n",
      "Ubicación: Apple Retail\n",
      "Fecha de publicación: Feb 16, 2024\n",
      "Descripción: You lead customer engagement, deepen relationships, drive sales and awareness of Apple’s value proposition for business and build loyalty with a focus on high potential business customers. You plan and forecast business performance through account management, pipeline building, and opportunity management, utilizing CRM and other tools. You are passionate and confident and engage business customers by showcasing our technology and helping them discover how Apple and third-party solutions and services can transform the way they work. You develop effective account plans to start and expand adoption of Apple solutions across our ecosystem platform and deeper in the customer’s organization.  You lead and support briefings and leverage workshops to support customer engagement. You effectively use CRMs to build and maintain accurate customer account information, manage relationships, opportunities, tasks, and develop customer insights based on best practices. You mentor and act as a subject matter expert among peers on business customer needs and solutions. You seek, analyze, interpret, and share feedback from Business NPS to continually improve the customer experience. You partner with the Business Development Manager and account team to seamlessly transition accounts in line with account engagement strategy and ensure a smooth customer experience. You maintain process mastery of all Retail Business programs and offerings to ensure compliance with policies and procedures.\n",
      "Aspectos Clave: At least three years of success and high performance in sales of technology or business solutions, or equivalent.Proven ability to take a personalized, solution-based approach to customer needs.Advanced consultative expertise in Apple and third-party solutions, mobility adoption, and business transformation.Contribute to an inclusive environment through respecting each others’ differences and having the curiosity to learn.Demonstrate Apple’s values of inclusion and diversity in daily activities.\n",
      "Adicionales: • You have outstanding communication skills, both written and oral, in person and on the phone.• You have the ability to work effectively with business owners and executives across all levels of an organization.• You have excellent organizational and process management skills, ability to set priorities, and  responsiveness to customer requests.• You have the ability to adapt in a dynamic, ever-changing retail environment.\n",
      "\n",
      "Título: MX-Genius\n",
      "Ubicación: Apple Retail\n",
      "Fecha de publicación: Feb 16, 2024\n",
      "Descripción: As a Genius, you provide insightful advice and friendly, hands-on technical support to Apple customers in need. You quickly diagnose product issues on the spot, explaining situations with patience and empathy. After determining whether repairs can be done or a replacement is needed, you offer solutions to quickly get users up and running again. Even if you're juggling more than one customer, you stay conscious of their time demands as well as your own. You fulfill Apple's service commitment with style, speed, and skill. And you earn the trust of customers and coworkers alike as you offer guidance, knowledge, and even tips and training.\n",
      "Aspectos Clave: Strong people skills and a knack for problem solving.Ability to maintain composure and customer focus while troubleshooting and solving technical issues.Ability to adhere to a schedule of customer appointments.Contribute to an inclusive environment through respecting each others’ differences and having the curiosity to learn.Demonstrate Apple’s values of inclusion and diversity in daily activities.\n",
      "Adicionales: • You have an aptitude for acquiring skills in technical repairs and an eagerness to learn.• You have excellent time management skills and can make decisions quickly.• You’ll need to be flexible with your schedule. Your work hours will be based on business needs.\n",
      "\n",
      "Título: MX-Creative\n",
      "Ubicación: Apple Retail\n",
      "Fecha de publicación: Feb 16, 2024\n",
      "Descripción: As a Creative, your main role at the Apple Store is that of instructor, whether guiding small groups to learn or helping individuals. You use your presentation skills to act as a facilitator, helping users get set up, get trained, and get going. But you're also an excellent listener, taking the time to understand what each user hopes to achieve or learn. By adjusting your teaching style to each user's individual skill level, you maximize their understanding and your own time. You recognize that purchasing a new product can sometimes help customers attain their goals. You spend much of your time leading scheduled sessions, but you're still comfortable interacting with store customers between those sessions. You're proud to enrich the lives of others  - whether customers or team members  - through teaching, in the way only a Creative can.\n",
      "Aspectos Clave: Passion for education and ability to instruct by letting users learn by doing.Ability to teach small groups and multiple customers simultaneously.Tenacity to work with users to help them get the most out of their devices.Contribute to an inclusive environment through respecting each others’ differences and having the curiosity to learn.Demonstrate Apple’s values of inclusion and diversity in daily activities.\n",
      "Adicionales: • You’re comfortable selling as well as teaching, helping your team members out as needed.• You’re self-motivated and self-directed, and can adhere to a tightly structured training schedule.• You can be adept at recommending other in-store support options, such as business services and the Genius Bar.• You’ll need to be flexible with your schedule. Your work hours will be based on business needs.\n",
      "\n",
      "Título: MX-Operations Expert\n",
      "Ubicación: Apple Retail\n",
      "Fecha de publicación: Feb 16, 2024\n",
      "Descripción: As an Operations Expert, you and your team have the incredible responsibility of ensuring products take the final step in the supply chain: getting into customers' hands. You're in charge of the store's entire inventory - products, parts, tools, supplies, and everything else. You make sure your team has the support, knowledge, and resources required to maintain product availability, complete inventory tasks, and keep the stockroom organized as new products arrive. You're in constant contact with the management and leadership teams, sharing data about the status of products and parts. And when exciting new products arrive, you're the first to open them up and present them to the entire store team. Apple makes the products, but you make it happen by being ready to place our products in customers' hands.\n",
      "Aspectos Clave: Ability to think quickly and perform problem-solving tasks, even within changing conditions.Leadership skills, whether guiding by example or coaching a group.Strong organizational skills, quickly evaluating every situation.Contribute to an inclusive environment through respecting each others’ differences and having the curiosity to learn.Demonstrate Apple’s values of inclusion and diversity in daily activities.\n",
      "Adicionales: • You can manage and meet multiple inventory deadlines each week.• You’re willing to observe guidelines to allow secure access to products and movement through the stockroom.• You’ll need to be flexible with your schedule. Your work hours will be based on business needs.\n",
      "\n",
      "Título: MX-Technical Specialist\n",
      "Ubicación: Apple Retail\n",
      "Fecha de publicación: Feb 16, 2024\n",
      "Descripción: As a Technical Specialist, you help new owners get started and current ones get quick, efficient support — developing strong, positive relationships with Apple. When a customer needs assistance, you quickly assess their situation. Sometimes you take care of customers with advice or a solution on the spot, using your knowledge of current Apple technology to help with iPod, iPhone, and iPad devices. At other times, you refer customers to support team members who get them up and running again. You even provide personal training for new customers, helping them acquire the basic skills they need to get started on photo, video, and music projects. The entire store team benefits from your commitment to providing the best care for customers. By helping Apple maintain strong relationships with customers, you are instrumental to our success.\n",
      "Aspectos Clave: Ability to assess customers’ support needs when they arrive, then provide solutions or refer them to other team membersFlexibility to regularly rotate through different technical specialties and skill setsAbility to thrive on change as products evolveContribute to an inclusive environment through respecting each others’ differences and having the curiosity to learn.Demonstrate Apple’s values of inclusion and diversity in daily activities.\n",
      "Adicionales: • You're passionate about Apple and eager to share that passion with others.• You're willing to learn and embrace the guidelines behind Apple's unique style of service.• You have strong people skills-you're approachable, a good listener, and empathetic.• You’ll need to be flexible with your schedule. Your work hours will be based on business needs.\n",
      "\n"
     ]
    }
   ],
   "source": [
    "web= \"https://jobs.apple.com/en-us/search?location=mexico-MEXC\"\n",
    "\n",
    "#llamo a la función \n",
    "jobs = adicionales(web)\n",
    "#imprimo por separado los datos de la oferta para ordenar la salida\n",
    "for offer in jobs:\n",
    "    print(f\"Título: {offer['title']}\")\n",
    "    print(f\"Ubicación: {offer['location']}\")\n",
    "    print(f\"Fecha de publicación: {offer['date']}\")\n",
    "    print(f\"Descripción: {offer['description']}\")\n",
    "    print(f\"Aspectos Clave: {offer['key_qualifications']}\")\n",
    "    print(f\"Adicionales: {offer['additionals']}\")\n",
    "    print()"
   ]
  },
  {
   "cell_type": "code",
   "execution_count": 110,
   "metadata": {},
   "outputs": [
    {
     "name": "stdout",
     "output_type": "stream",
     "text": [
      "Ofertas de Trabajo con datos adicionales guardadas en datos_adicionales.json\n"
     ]
    }
   ],
   "source": [
    "# guardar las datos adicionales en un archivo JSON\n",
    "with open('Archivos json/datos_adicionales.json', 'w') as json_file:\n",
    "    json.dump(jobs, json_file, indent=4)\n",
    "\n",
    "print(\"Ofertas de Trabajo con datos adicionales guardadas en datos_adicionales.json\")"
   ]
  },
  {
   "cell_type": "markdown",
   "metadata": {},
   "source": [
    "## Punto - 5 Crear un modelo de almacenamiento."
   ]
  },
  {
   "cell_type": "code",
   "execution_count": 140,
   "metadata": {},
   "outputs": [],
   "source": [
    "import requests\n",
    "from bs4 import BeautifulSoup\n",
    "from typing import List, Optional\n",
    "from pydantic import BaseModel, Extra\n",
    "\n",
    "class Skill(BaseModel):\n",
    "    name: str\n",
    "    level: str\n",
    "    experience: int\n",
    "\n",
    "class Aptitude(BaseModel):\n",
    "    name: str\n",
    "\n",
    "class Tool(BaseModel):\n",
    "    name: str\n",
    "    level: str\n",
    "    experience: int\n",
    "\n",
    "class Language(BaseModel):\n",
    "    name: str\n",
    "    level: str\n",
    "\n",
    "class Benefit(BaseModel):\n",
    "    name: str\n",
    "\n",
    "class JobPost(BaseModel):\n",
    "    name: Optional[str] = None\n",
    "    location: Optional[str]= None\n",
    "    date: Optional[str] = None\n",
    "    description: Optional[str] = None\n",
    "    key_qualifications: Optional[str]=None\n",
    "    additionals: Optional[str]= None\n",
    "\n",
    "\n",
    "def adicionales(website_categoria: str) -> List[JobPost]:\n",
    "    job_posts = []\n",
    "    response = requests.get(website_categoria)\n",
    "    \n",
    "    if response.status_code == 200:\n",
    "        soup = BeautifulSoup(response.content, \"html.parser\")\n",
    "        offer_elements = soup.find_all(\"a\", class_= \"table--advanced-search__title\")\n",
    "\n",
    "        for offer in offer_elements[:5]:\n",
    "            # Aquí iría la lógica para extraer los datos de la oferta de trabajo\n",
    "            # y crear instancias de JobPost, Skill, Aptitude, Tool, Language, Benefit\n",
    "            # y agregarlos a las listas correspondientes en el JobPost.\n",
    "            # Una vez que hayas creado las instancias, agregas el JobPost a la lista job_posts.\n",
    "            offer_title = offer.text.strip()   #elimino espacios en blanco alrededor del texto\n",
    "            offer_link = \"https://jobs.apple.com\" + offer[\"href\"]\n",
    "\n",
    "        #buscar la ubicación y fecha de publicación dentro de las etiquetas span\n",
    "            offer_location_elem = offer.find_next_sibling(\"span\", class_=\"table--advanced-search__role\")\n",
    "            offer_date_elem = offer_location_elem.find_next_sibling(\"span\",class_=\"table--advanced-search__date\") if offer_location_elem else None\n",
    "            \n",
    "        #verifico si se encontro ubicación y fecha para luego acceder al link \n",
    "            offer_location = offer_location_elem.text.strip() if offer_location_elem else \"No disponible\"\n",
    "            offer_date = offer_date_elem.text.strip() if offer_date_elem else \"No disponible\"\n",
    "            \n",
    "        # ingresar en el link extraido para obtener la descripcion de la oferta\n",
    "        #se realiza nuevamente un request en el nuevo link\n",
    "            offer_response= requests.get(offer_link)\n",
    "            if offer_response.status_code ==  200 :\n",
    "                offer_soup = BeautifulSoup(offer_response.content, \"html.parser\")\n",
    "                offer_description_elem =  offer_soup.find(\"div\", id =\"jd-description\",class_=\"jd__row--main jd__summary--main\")\n",
    "                offer_description = offer_description_elem.text.strip() if offer_description_elem else\"No disponible\"\n",
    "\n",
    "        # busco los elementos que contienen los requisitos adicionales y habilidades\n",
    "                requirements_elem = offer_soup.find(\"div\", id =\"jd-key-qualifications\", class_=\"jd__row--main jd__summary\")\n",
    "                skills_elem = offer_soup.find(\"div\", id =\"jd-additional-requirements\",class_=\"jd__row--main jd__summary\")\n",
    "\n",
    "        # extraigo el texto de los elementos encontrados \n",
    "                key_qualifications = requirements_elem.text.strip() if requirements_elem else \"No disponible\"\n",
    "                additional= skills_elem.text.strip() if skills_elem else \"No disponible\"\n",
    "            else:\n",
    "                key_qualifications = \"No disponible\"\n",
    "                additional = \"No disponible\"\n",
    "\n",
    "            # agrego cada oferta de trabajo a mi lista de ofertas\n",
    "            job_posts.append(JobPost(\n",
    "                name= offer_title, \n",
    "                location= offer_location, \n",
    "                date= offer_date, \n",
    "                description= offer_description,\n",
    "                key_qualifications= key_qualifications,\n",
    "                additionals= additional\n",
    "            ))\n",
    "    return job_posts\n",
    "\n",
    "\n"
   ]
  },
  {
   "cell_type": "code",
   "execution_count": 141,
   "metadata": {},
   "outputs": [
    {
     "name": "stdout",
     "output_type": "stream",
     "text": [
      "['{\"name\":\"MX-Business Pro\",\"location\":\"Apple Retail\",\"date\":\"Feb 16, 2024\",\"description\":\"You lead customer engagement, deepen relationships, drive sales and awareness of Apple’s value proposition for business and build loyalty with a focus on high potential business customers. You plan and forecast business performance through account management, pipeline building, and opportunity management, utilizing CRM and other tools. You are passionate and confident and engage business customers by showcasing our technology and helping them discover how Apple and third-party solutions and services can transform the way they work. You develop effective account plans to start and expand adoption of Apple solutions across our ecosystem platform and deeper in the customer’s organization.  You lead and support briefings and leverage workshops to support customer engagement. You effectively use CRMs to build and maintain accurate customer account information, manage relationships, opportunities, tasks, and develop customer insights based on best practices. You mentor and act as a subject matter expert among peers on business customer needs and solutions. You seek, analyze, interpret, and share feedback from Business NPS to continually improve the customer experience. You partner with the Business Development Manager and account team to seamlessly transition accounts in line with account engagement strategy and ensure a smooth customer experience. You maintain process mastery of all Retail Business programs and offerings to ensure compliance with policies and procedures.\",\"key_qualifications\":\"At least three years of success and high performance in sales of technology or business solutions, or equivalent.Proven ability to take a personalized, solution-based approach to customer needs.Advanced consultative expertise in Apple and third-party solutions, mobility adoption, and business transformation.Contribute to an inclusive environment through respecting each others’ differences and having the curiosity to learn.Demonstrate Apple’s values of inclusion and diversity in daily activities.\",\"additionals\":\"• You have outstanding communication skills, both written and oral, in person and on the phone.• You have the ability to work effectively with business owners and executives across all levels of an organization.• You have excellent organizational and process management skills, ability to set priorities, and \\u2028responsiveness to customer requests.• You have the ability to adapt in a dynamic, ever-changing retail environment.\"}', '{\"name\":\"MX-Genius\",\"location\":\"Apple Retail\",\"date\":\"Feb 16, 2024\",\"description\":\"As a Genius, you provide insightful advice and friendly, hands-on technical support to Apple customers in need. You quickly diagnose product issues on the spot, explaining situations with patience and empathy. After determining whether repairs can be done or a replacement is needed, you offer solutions to quickly get users up and running again. Even if you\\'re juggling more than one customer, you stay conscious of their time demands as well as your own. You fulfill Apple\\'s service commitment with style, speed, and skill. And you earn the trust of customers and coworkers alike as you offer guidance, knowledge, and even tips and training.\",\"key_qualifications\":\"Strong people skills and a knack for problem solving.Ability to maintain composure and customer focus while troubleshooting and solving technical issues.Ability to adhere to a schedule of customer appointments.Contribute to an inclusive environment through respecting each others’ differences and having the curiosity to learn.Demonstrate Apple’s values of inclusion and diversity in daily activities.\",\"additionals\":\"• You have an aptitude for acquiring skills in technical repairs and an eagerness to learn.• You have excellent time management skills and can make decisions quickly.• You’ll need to be flexible with your schedule. Your work hours will be based on business needs.\"}', '{\"name\":\"MX-Technical Specialist\",\"location\":\"Apple Retail\",\"date\":\"Feb 16, 2024\",\"description\":\"As a Technical Specialist, you help new owners get started and current ones get quick, efficient support — developing strong, positive relationships with Apple. When a customer needs assistance, you quickly assess their situation. Sometimes you take care of customers with advice or a solution on the spot, using your knowledge of current Apple technology to help with iPod, iPhone, and iPad devices. At other times, you refer customers to support team members who get them up and running again. You even provide personal training for new customers, helping them acquire the basic skills they need to get started on photo, video, and music projects. The entire store team benefits from your commitment to providing the best care for customers. By helping Apple maintain strong relationships with customers, you are instrumental to our success.\",\"key_qualifications\":\"Ability to assess customers’ support needs when they arrive, then provide solutions or refer them to other team membersFlexibility to regularly rotate through different technical specialties and skill setsAbility to thrive on change as products evolveContribute to an inclusive environment through respecting each others’ differences and having the curiosity to learn.Demonstrate Apple’s values of inclusion and diversity in daily activities.\",\"additionals\":\"• You\\'re passionate about Apple and eager to share that passion with others.• You\\'re willing to learn and embrace the guidelines behind Apple\\'s unique style of service.• You have strong people skills-you\\'re approachable, a good listener, and empathetic.• You’ll need to be flexible with your schedule. Your work hours will be based on business needs.\"}', '{\"name\":\"MX-Operations Expert\",\"location\":\"Apple Retail\",\"date\":\"Feb 16, 2024\",\"description\":\"As an Operations Expert, you and your team have the incredible responsibility of ensuring products take the final step in the supply chain: getting into customers\\' hands. You\\'re in charge of the store\\'s entire inventory - products, parts, tools, supplies, and everything else. You make sure your team has the support, knowledge, and resources required to maintain product availability, complete inventory tasks, and keep the stockroom organized as new products arrive. You\\'re in constant contact with the management and leadership teams, sharing data about the status of products and parts. And when exciting new products arrive, you\\'re the first to open them up and present them to the entire store team. Apple makes the products, but you make it happen by being ready to place our products in customers\\' hands.\",\"key_qualifications\":\"Ability to think quickly and perform problem-solving tasks, even within changing conditions.Leadership skills, whether guiding by example or coaching a group.Strong organizational skills, quickly evaluating every situation.Contribute to an inclusive environment through respecting each others’ differences and having the curiosity to learn.Demonstrate Apple’s values of inclusion and diversity in daily activities.\",\"additionals\":\"• You can manage and meet multiple inventory deadlines each week.• You’re willing to observe guidelines to allow secure access to products and movement through the stockroom.• You’ll need to be flexible with your schedule. Your work hours will be based on business needs.\"}', '{\"name\":\"MX-Creative\",\"location\":\"Apple Retail\",\"date\":\"Feb 16, 2024\",\"description\":\"As a Creative, your main role at the Apple Store is that of instructor, whether guiding small groups to learn or helping individuals. You use your presentation skills to act as a facilitator, helping users get set up, get trained, and get going. But you\\'re also an excellent listener, taking the time to understand what each user hopes to achieve or learn. By adjusting your teaching style to each user\\'s individual skill level, you maximize their understanding and your own time. You recognize that purchasing a new product can sometimes help customers attain their goals. You spend much of your time leading scheduled sessions, but you\\'re still comfortable interacting with store customers between those sessions. You\\'re proud to enrich the lives of others  - whether customers or team members  - through teaching, in the way only a Creative can.\",\"key_qualifications\":\"Passion for education and ability to instruct by letting users learn by doing.Ability to teach small groups and multiple customers simultaneously.Tenacity to work with users to help them get the most out of their devices.Contribute to an inclusive environment through respecting each others’ differences and having the curiosity to learn.Demonstrate Apple’s values of inclusion and diversity in daily activities.\",\"additionals\":\"• You’re comfortable selling as well as teaching, helping your team members out as needed.• You’re self-motivated and self-directed, and can adhere to a tightly structured training schedule.• You can be adept at recommending other in-store support options, such as business services and the Genius Bar.• You’ll need to be flexible with your schedule. Your work hours will be based on business needs.\"}']\n"
     ]
    }
   ],
   "source": [
    "website_categoria = \"https://jobs.apple.com/en-us/search?location=mexico-MEXC\"\n",
    "job_offers = adicionales(website_categoria)\n",
    "\n",
    "# Serializar la lista de instancias de JobPost a JSON\n",
    "json_output = [job.model_dump_json() for job in job_offers]\n",
    "print(json_output)"
   ]
  },
  {
   "cell_type": "code",
   "execution_count": 142,
   "metadata": {},
   "outputs": [
    {
     "data": {
      "text/plain": [
       "['{\"name\":\"MX-Business Pro\",\"location\":\"Apple Retail\",\"date\":\"Feb 16, 2024\",\"description\":\"You lead customer engagement, deepen relationships, drive sales and awareness of Apple’s value proposition for business and build loyalty with a focus on high potential business customers. You plan and forecast business performance through account management, pipeline building, and opportunity management, utilizing CRM and other tools. You are passionate and confident and engage business customers by showcasing our technology and helping them discover how Apple and third-party solutions and services can transform the way they work. You develop effective account plans to start and expand adoption of Apple solutions across our ecosystem platform and deeper in the customer’s organization.  You lead and support briefings and leverage workshops to support customer engagement. You effectively use CRMs to build and maintain accurate customer account information, manage relationships, opportunities, tasks, and develop customer insights based on best practices. You mentor and act as a subject matter expert among peers on business customer needs and solutions. You seek, analyze, interpret, and share feedback from Business NPS to continually improve the customer experience. You partner with the Business Development Manager and account team to seamlessly transition accounts in line with account engagement strategy and ensure a smooth customer experience. You maintain process mastery of all Retail Business programs and offerings to ensure compliance with policies and procedures.\",\"key_qualifications\":\"At least three years of success and high performance in sales of technology or business solutions, or equivalent.Proven ability to take a personalized, solution-based approach to customer needs.Advanced consultative expertise in Apple and third-party solutions, mobility adoption, and business transformation.Contribute to an inclusive environment through respecting each others’ differences and having the curiosity to learn.Demonstrate Apple’s values of inclusion and diversity in daily activities.\",\"additionals\":\"• You have outstanding communication skills, both written and oral, in person and on the phone.• You have the ability to work effectively with business owners and executives across all levels of an organization.• You have excellent organizational and process management skills, ability to set priorities, and \\u2028responsiveness to customer requests.• You have the ability to adapt in a dynamic, ever-changing retail environment.\"}',\n",
       " '{\"name\":\"MX-Genius\",\"location\":\"Apple Retail\",\"date\":\"Feb 16, 2024\",\"description\":\"As a Genius, you provide insightful advice and friendly, hands-on technical support to Apple customers in need. You quickly diagnose product issues on the spot, explaining situations with patience and empathy. After determining whether repairs can be done or a replacement is needed, you offer solutions to quickly get users up and running again. Even if you\\'re juggling more than one customer, you stay conscious of their time demands as well as your own. You fulfill Apple\\'s service commitment with style, speed, and skill. And you earn the trust of customers and coworkers alike as you offer guidance, knowledge, and even tips and training.\",\"key_qualifications\":\"Strong people skills and a knack for problem solving.Ability to maintain composure and customer focus while troubleshooting and solving technical issues.Ability to adhere to a schedule of customer appointments.Contribute to an inclusive environment through respecting each others’ differences and having the curiosity to learn.Demonstrate Apple’s values of inclusion and diversity in daily activities.\",\"additionals\":\"• You have an aptitude for acquiring skills in technical repairs and an eagerness to learn.• You have excellent time management skills and can make decisions quickly.• You’ll need to be flexible with your schedule. Your work hours will be based on business needs.\"}',\n",
       " '{\"name\":\"MX-Technical Specialist\",\"location\":\"Apple Retail\",\"date\":\"Feb 16, 2024\",\"description\":\"As a Technical Specialist, you help new owners get started and current ones get quick, efficient support — developing strong, positive relationships with Apple. When a customer needs assistance, you quickly assess their situation. Sometimes you take care of customers with advice or a solution on the spot, using your knowledge of current Apple technology to help with iPod, iPhone, and iPad devices. At other times, you refer customers to support team members who get them up and running again. You even provide personal training for new customers, helping them acquire the basic skills they need to get started on photo, video, and music projects. The entire store team benefits from your commitment to providing the best care for customers. By helping Apple maintain strong relationships with customers, you are instrumental to our success.\",\"key_qualifications\":\"Ability to assess customers’ support needs when they arrive, then provide solutions or refer them to other team membersFlexibility to regularly rotate through different technical specialties and skill setsAbility to thrive on change as products evolveContribute to an inclusive environment through respecting each others’ differences and having the curiosity to learn.Demonstrate Apple’s values of inclusion and diversity in daily activities.\",\"additionals\":\"• You\\'re passionate about Apple and eager to share that passion with others.• You\\'re willing to learn and embrace the guidelines behind Apple\\'s unique style of service.• You have strong people skills-you\\'re approachable, a good listener, and empathetic.• You’ll need to be flexible with your schedule. Your work hours will be based on business needs.\"}',\n",
       " '{\"name\":\"MX-Operations Expert\",\"location\":\"Apple Retail\",\"date\":\"Feb 16, 2024\",\"description\":\"As an Operations Expert, you and your team have the incredible responsibility of ensuring products take the final step in the supply chain: getting into customers\\' hands. You\\'re in charge of the store\\'s entire inventory - products, parts, tools, supplies, and everything else. You make sure your team has the support, knowledge, and resources required to maintain product availability, complete inventory tasks, and keep the stockroom organized as new products arrive. You\\'re in constant contact with the management and leadership teams, sharing data about the status of products and parts. And when exciting new products arrive, you\\'re the first to open them up and present them to the entire store team. Apple makes the products, but you make it happen by being ready to place our products in customers\\' hands.\",\"key_qualifications\":\"Ability to think quickly and perform problem-solving tasks, even within changing conditions.Leadership skills, whether guiding by example or coaching a group.Strong organizational skills, quickly evaluating every situation.Contribute to an inclusive environment through respecting each others’ differences and having the curiosity to learn.Demonstrate Apple’s values of inclusion and diversity in daily activities.\",\"additionals\":\"• You can manage and meet multiple inventory deadlines each week.• You’re willing to observe guidelines to allow secure access to products and movement through the stockroom.• You’ll need to be flexible with your schedule. Your work hours will be based on business needs.\"}',\n",
       " '{\"name\":\"MX-Creative\",\"location\":\"Apple Retail\",\"date\":\"Feb 16, 2024\",\"description\":\"As a Creative, your main role at the Apple Store is that of instructor, whether guiding small groups to learn or helping individuals. You use your presentation skills to act as a facilitator, helping users get set up, get trained, and get going. But you\\'re also an excellent listener, taking the time to understand what each user hopes to achieve or learn. By adjusting your teaching style to each user\\'s individual skill level, you maximize their understanding and your own time. You recognize that purchasing a new product can sometimes help customers attain their goals. You spend much of your time leading scheduled sessions, but you\\'re still comfortable interacting with store customers between those sessions. You\\'re proud to enrich the lives of others  - whether customers or team members  - through teaching, in the way only a Creative can.\",\"key_qualifications\":\"Passion for education and ability to instruct by letting users learn by doing.Ability to teach small groups and multiple customers simultaneously.Tenacity to work with users to help them get the most out of their devices.Contribute to an inclusive environment through respecting each others’ differences and having the curiosity to learn.Demonstrate Apple’s values of inclusion and diversity in daily activities.\",\"additionals\":\"• You’re comfortable selling as well as teaching, helping your team members out as needed.• You’re self-motivated and self-directed, and can adhere to a tightly structured training schedule.• You can be adept at recommending other in-store support options, such as business services and the Genius Bar.• You’ll need to be flexible with your schedule. Your work hours will be based on business needs.\"}']"
      ]
     },
     "execution_count": 142,
     "metadata": {},
     "output_type": "execute_result"
    }
   ],
   "source": [
    "json_output"
   ]
  },
  {
   "cell_type": "code",
   "execution_count": 144,
   "metadata": {},
   "outputs": [],
   "source": [
    "def guardar_en_modelo(job_offers: List[JobPost], filename: str):\n",
    "    with open(filename, 'w', encoding='utf-8') as f:\n",
    "        f.write(\"from pydantic import BaseModel, Extra\\n\\n\")\n",
    "\n",
    "        f.write(\"class JobPost(BaseModel):\\n\")\n",
    "        f.write(\"    name: str\\n\")\n",
    "        f.write(\"    description: str\\n\")\n",
    "        f.write(\"    key_qualifications: str\\n\")\n",
    "        f.write(\"    additionals: str\\n\")\n",
    "        f.write(\"    location: str\\n\")\n",
    "        f.write(\"    date: str\\n\")\n",
    "        # Agregar los otros campos definidos en el modelo JobPost\n",
    "\n",
    "        for job in job_offers:\n",
    "            f.write(f\"\\n\\n{job.name.replace(' ', '')} = JobPost(\\n\")\n",
    "            f.write(f\"    name='{job.name}',\\n\")\n",
    "            f.write(\"    description='\" + job.description.replace(\"'\", r\"\\\\'\").replace('\\n', '\\\\n') + \"',\\n\")\n",
    "            f.write(\"    key_qualifications='\" + job.key_qualifications.replace(\"'\", r\"\\\\'\").replace('\\n', '\\\\n') + \"',\\n\")\n",
    "            f.write(\"    additionals='\" + job.additionals.replace(\"'\", r\"\\\\'\").replace('\\n', '\\\\n') + \"',\\n\")\n",
    "            f.write(f\"    location='{job.location}',\\n\")\n",
    "            f.write(f\"    date='{job.date}'\\n\")\n",
    "            # Agregar los otros campos definidos en el modelo JobPost\n",
    "            f.write(\")\\n\")\n",
    "\n",
    "website_categoria = \"https://jobs.apple.com/en-us/search?location=mexico-MEXC\"\n",
    "job_offers = adicionales(website_categoria)\n",
    "guardar_en_modelo(job_offers, \"modelo.py\")\n"
   ]
  }
 ],
 "metadata": {
  "kernelspec": {
   "display_name": "Python 3",
   "language": "python",
   "name": "python3"
  },
  "language_info": {
   "codemirror_mode": {
    "name": "ipython",
    "version": 3
   },
   "file_extension": ".py",
   "mimetype": "text/x-python",
   "name": "python",
   "nbconvert_exporter": "python",
   "pygments_lexer": "ipython3",
   "version": "3.11.2"
  }
 },
 "nbformat": 4,
 "nbformat_minor": 2
}
