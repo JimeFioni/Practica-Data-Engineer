{
 "cells": [
  {
   "cell_type": "markdown",
   "metadata": {},
   "source": [
    "Scrapping Accenture MX"
   ]
  },
  {
   "cell_type": "markdown",
   "metadata": {},
   "source": [
    "url= \"https://www.accenture.com/mx-es/careers/jobsearch?jk=&sb=1&vw=0&is_rj=0&pg=1&ba=technology\"\n",
    "\n",
    "url_api= \"https://www.accenture.com/api/accenture/jobsearch/result\""
   ]
  },
  {
   "cell_type": "code",
   "execution_count": 8,
   "metadata": {},
   "outputs": [],
   "source": [
    "from bs4 import BeautifulSoup\n",
    "import requests\n",
    "import pandas as pd \n",
    "import numpy as np\n",
    "import re\n",
    "from deep_translator import GoogleTranslator\n",
    "from nanoid import generate\n",
    "from slugify import slugify"
   ]
  },
  {
   "cell_type": "code",
   "execution_count": 7,
   "metadata": {},
   "outputs": [],
   "source": [
    "def accenture():\n",
    "    url = \"https://www.accenture.com/mx-es/careers/jobsearch?jk=&sb=1&vw=0&is_rj=0&pg=1&ba=technology\"\n",
    "\n",
    "    # Definir el encabezado personalizado\n",
    "    header = {'User-Agent': 'Mozilla/5.0 (Windows NT 10.0; Win64; x64) AppleWebKit/537.36 (KHTML, like Gecko) Chrome/98.0.4758.102 Safari/537.36'}\n",
    "\n",
    "    response = requests.get(url, headers=header)\n",
    "    json_data = response.json()\n",
    "\n",
    "    offers_list = json_data['result']\n",
    "\n",
    "    vacancy_links = []\n",
    "    for offer in offers_list:\n",
    "            vacancy_links.append(offer['link'])\n",
    "\n",
    "    df_url=pd.DataFrame({\"url\":vacancy_links})\n",
    "    return vacancy_links"
   ]
  },
  {
   "cell_type": "code",
   "execution_count": 12,
   "metadata": {},
   "outputs": [],
   "source": [
    "import requests\n",
    "def accenture():\n",
    "    url = \"https://www.accenture.com/api/accenture/jobsearch/result\"\n",
    "    headers = {\n",
    "        'User-Agent': 'Mozilla/5.0 (Windows NT 10.0; Win64; x64) AppleWebKit/537.36 (KHTML, like Gecko) Chrome/98.0.4758.102 Safari/537.36',\n",
    "        \"accept\": \"*/*\",\n",
    "        \"accept-language\": \"es,es-ES;q=0.9,en;q=0.8,en-GB;q=0.7,en-US;q=0.6\",\n",
    "        \"content-type\": \"multipart/form-data; boundary=----WebKitFormBoundary9hBieCjBK148NafO\",\n",
    "        \"cookie\": \"ELOQUA=GUID=6F47085FCA174892ACE95B79EBA61374; OptanonAlertBoxClosed=2024-03-20T19:09:03.268Z; appliedJobs=[{'jobId': 'R00203821_es', 'applicationDate': '2024-03-20T19:09:05.257Z'}]; ViewedJobs=R00190623_es; _ss_cmps=[['car_glb_skillssourcingeloqua_13228159:emc_1022', '1711026996493']]; _ss_cmpu=car_glb_skillssourcingeloqua_13228159:emc_1022; acn_campaign=car_glb_skillssourcingeloqua_13228159:emc_1022; VisitedWorkdayPortal=false; boolRedirect=false; cookieURL=null; cookieHasValues=false; oldGuid=null; oldDwfid=null; oldJc=null; daExp=null; cookieFullURL=null; OptanonConsent=isGpcEnabled=0&datestamp=Wed+Apr+10+2024+11:02:28+GMT-0300+(hora+estándar+de+Argentina)&version=202403.1.0&browserGpcFlag=0&isIABGlobal=false&hosts=&consentId=e86bfff8-3f61-4ca7-9736-6568fb43f436&interactionCount=1&landingPath=NotLandingPage&groups=1:1,2:1,3:1,4:1&geolocation=AR; AwaitingReconsent=false; isAnonUser=1; at_check=true; s_ecid=MCMID|91217049560704800210575944697966632828; AMCVS_AAB73BC75245B44A0A490D4D@AdobeOrg=1; mbox=session#caca1725cfa14bb7a1f0abd537af2e4a#1712759611|PC#caca1725cfa14bb7a1f0abd537af2e4a.34_0#1776002551; AMCV_AAB73BC75245B44A0A490D4D@AdobeOrg=179643557|MCIDTS|19824|MCMID|91217049560704800210575944697966632828|MCAID|NONE|MCOPTOUT-1712764950s|NONE|MCAAMLH-1713362550|4|MCAAMB-1713362550|j8Odv6LonN4r3an7LhD3WZrU1bUpAkFkkiY1ncBR96t2PTI|MCSYNCSOP|411-19831|vVersion|5.5.0; ReferringSourceCode=os_3; s_cc=true; s_ips=892; _cs_mk_aa=0.88426573118427\"\n",
    "    }\n",
    "\n",
    "    response = requests.get(url, headers=headers)\n",
    "    json_data = response.json()\n",
    "\n",
    "    offers_list = json_data['result']\n",
    "\n",
    "    vacancy_links = []\n",
    "    for offer in offers_list:\n",
    "            vacancy_links.append(offer['link'])\n",
    "\n",
    "    df_url=pd.DataFrame({\"url\":vacancy_links})\n",
    "    return vacancy_links\n"
   ]
  },
  {
   "cell_type": "code",
   "execution_count": 13,
   "metadata": {},
   "outputs": [
    {
     "ename": "NameError",
     "evalue": "name 'vacancy_links' is not defined",
     "output_type": "error",
     "traceback": [
      "\u001b[1;31m---------------------------------------------------------------------------\u001b[0m",
      "\u001b[1;31mNameError\u001b[0m                                 Traceback (most recent call last)",
      "Cell \u001b[1;32mIn[13], line 1\u001b[0m\n\u001b[1;32m----> 1\u001b[0m \u001b[43mvacancy_links\u001b[49m\n",
      "\u001b[1;31mNameError\u001b[0m: name 'vacancy_links' is not defined"
     ]
    }
   ],
   "source": [
    "vacancy_links"
   ]
  },
  {
   "cell_type": "code",
   "execution_count": 14,
   "metadata": {},
   "outputs": [
    {
     "ename": "NameError",
     "evalue": "name 'df_url' is not defined",
     "output_type": "error",
     "traceback": [
      "\u001b[1;31m---------------------------------------------------------------------------\u001b[0m",
      "\u001b[1;31mNameError\u001b[0m                                 Traceback (most recent call last)",
      "Cell \u001b[1;32mIn[14], line 1\u001b[0m\n\u001b[1;32m----> 1\u001b[0m \u001b[43mdf_url\u001b[49m\n",
      "\u001b[1;31mNameError\u001b[0m: name 'df_url' is not defined"
     ]
    }
   ],
   "source": [
    "df_url"
   ]
  }
 ],
 "metadata": {
  "kernelspec": {
   "display_name": "Python 3",
   "language": "python",
   "name": "python3"
  },
  "language_info": {
   "codemirror_mode": {
    "name": "ipython",
    "version": 3
   },
   "file_extension": ".py",
   "mimetype": "text/x-python",
   "name": "python",
   "nbconvert_exporter": "python",
   "pygments_lexer": "ipython3",
   "version": "3.11.2"
  }
 },
 "nbformat": 4,
 "nbformat_minor": 2
}
