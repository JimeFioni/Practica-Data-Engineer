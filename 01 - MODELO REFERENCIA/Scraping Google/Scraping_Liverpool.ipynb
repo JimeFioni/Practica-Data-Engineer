{
 "cells": [
  {
   "cell_type": "markdown",
   "metadata": {},
   "source": [
    "Scraping AIRA - EL PUERRO DE LIVERPOOL\n"
   ]
  },
  {
   "cell_type": "code",
   "execution_count": 1,
   "metadata": {},
   "outputs": [],
   "source": [
    "url= \"https://jobs.airavirtual.com/el_puerto_de_liverpool#_ver_empleos\""
   ]
  },
  {
   "cell_type": "code",
   "execution_count": null,
   "metadata": {},
   "outputs": [],
   "source": [
    "json=\"https://gcs-storage.airavirtual.com/public/feeds/aira_el_puerto_de_liverpool.json?expires=1720735060&signature=88d25a8443deb4abe26b820edd309977\""
   ]
  },
  {
   "cell_type": "code",
   "execution_count": 1,
   "metadata": {},
   "outputs": [],
   "source": [
    "from bs4 import BeautifulSoup\n",
    "import requests\n",
    "import pandas as pd \n",
    "import numpy as np\n",
    "import re\n",
    "from deep_translator import GoogleTranslator\n",
    "from nanoid import generate\n",
    "from slugify import slugify"
   ]
  },
  {
   "cell_type": "code",
   "execution_count": 1,
   "metadata": {},
   "outputs": [],
   "source": [
    "def aira():\n",
    "    url = \"https://jobs.airavirtual.com/el_puerto_de_liverpool#_ver_empleos\"\n",
    "    response = requests.get(url)\n",
    "    if response.status_code == 200:\n",
    "        soup = BeautifulSoup(response.text, \"html.parser\")\n",
    "\n",
    "    # Encuentra todos los enlaces que dirigen a las vacantes\n",
    "    vacancy_links = []\n",
    "\n",
    "    for link in soup.find_all(\"div\", class_=\"offer-description\", href=True):\n",
    "        vacancy_links.append(link[\"href\"])\n",
    "\n",
    "    # Los enlaces pueden ser relativos, así que construye las URL completas\n",
    "    base_url = \"https://jobs.airavirtual.com/el_puerto_de_liverpool#_ver_empleos\"\n",
    "    full_vacancy_links = [base_url + link for link in vacancy_links]\n",
    "        \n",
    "    # Crear un DataFrame a partir de la lista de enlaces\n",
    "    df_url = pd.DataFrame({\"url\": full_vacancy_links})\n",
    "    return df_url\n"
   ]
  },
  {
   "cell_type": "code",
   "execution_count": 6,
   "metadata": {},
   "outputs": [
    {
     "name": "stdout",
     "output_type": "stream",
     "text": [
      "Error al obtener la página: 403\n"
     ]
    }
   ],
   "source": [
    "import requests\n",
    "from bs4 import BeautifulSoup\n",
    "import pandas as pd\n",
    "\n",
    "url = \"https://jobs.airavirtual.com/el_puerto_de_liverpool#_ver_empleos\"\n",
    "response = requests.get(url)\n",
    "\n",
    "if response.status_code == 200:\n",
    "    soup = BeautifulSoup(response.text, \"html.parser\")\n",
    "\n",
    "    # Encuentra todos los enlaces que dirigen a las vacantes\n",
    "    vacancy_links = []\n",
    "\n",
    "    for link in soup.find_all(\"a\", class_=\"offer-description\", href=True):\n",
    "        vacancy_links.append(link[\"href\"])\n",
    "\n",
    "    # Los enlaces pueden ser relativos, así que construye las URL completas\n",
    "    base_url = \"https://jobs.airavirtual.com\"\n",
    "    full_vacancy_links = [base_url + link for link in vacancy_links]\n",
    "    \n",
    "    # Crear un DataFrame a partir de la lista de enlaces\n",
    "    df_url = pd.DataFrame({\"url\": full_vacancy_links})\n",
    "    print(df_url.head())  # Imprime los primeros enlaces para verificar\n",
    "else:\n",
    "    print(\"Error al obtener la página:\", response.status_code)\n"
   ]
  },
  {
   "cell_type": "code",
   "execution_count": 7,
   "metadata": {},
   "outputs": [
    {
     "name": "stdout",
     "output_type": "stream",
     "text": [
      "Error al descargar el archivo: 403\n"
     ]
    }
   ],
   "source": [
    "import requests\n",
    "\n",
    "url = \"https://gcs-storage.airavirtual.com/public/feeds/aira_el_puerto_de_liverpool.json?expires=1720735060&signature=88d25a8443deb4abe26b820edd309977\"\n",
    "\n",
    "response = requests.get(url)\n",
    "\n",
    "if response.status_code == 200:\n",
    "    # Guardar el contenido del archivo JSON en un archivo local\n",
    "    with open(\"aira_el_puerto_de_liverpool.json\", \"wb\") as file:\n",
    "        file.write(response.content)\n",
    "    print(\"Archivo descargado exitosamente.\")\n",
    "else:\n",
    "    print(\"Error al descargar el archivo:\", response.status_code)\n"
   ]
  },
  {
   "cell_type": "markdown",
   "metadata": {},
   "source": [
    "Prueba con header User Agent"
   ]
  },
  {
   "cell_type": "code",
   "execution_count": 1,
   "metadata": {},
   "outputs": [
    {
     "name": "stdout",
     "output_type": "stream",
     "text": [
      "Archivo descargado exitosamente.\n"
     ]
    }
   ],
   "source": [
    "import requests\n",
    "\n",
    "url = \"https://gcs-storage.airavirtual.com/public/feeds/aira_el_puerto_de_liverpool.json?expires=1720735060&signature=88d25a8443deb4abe26b820edd309977\"\n",
    "\n",
    "# Definir el encabezado personalizado\n",
    "header = {'User-Agent': 'Mozilla/5.0 (Windows NT 10.0; Win64; x64) AppleWebKit/537.36 (KHTML, like Gecko) Chrome/98.0.4758.102 Safari/537.36'}\n",
    "\n",
    "response = requests.get(url, headers=header)\n",
    "\n",
    "if response.status_code == 200:\n",
    "    # Guardar el contenido del archivo JSON en un archivo local\n",
    "    with open(\"aira_el_puerto_de_liverpool.json\", \"wb\") as file:\n",
    "        file.write(response.content)\n",
    "    print(\"Archivo descargado exitosamente.\")\n",
    "else:\n",
    "    print(\"Error al descargar el archivo:\", response.status_code)\n"
   ]
  },
  {
   "cell_type": "markdown",
   "metadata": {},
   "source": [
    "Ingesta de datos desde json"
   ]
  },
  {
   "cell_type": "code",
   "execution_count": 7,
   "metadata": {},
   "outputs": [
    {
     "name": "stdout",
     "output_type": "stream",
     "text": [
      "cantidad de vacantes: 2\n"
     ]
    },
    {
     "data": {
      "text/html": [
       "<div>\n",
       "<style scoped>\n",
       "    .dataframe tbody tr th:only-of-type {\n",
       "        vertical-align: middle;\n",
       "    }\n",
       "\n",
       "    .dataframe tbody tr th {\n",
       "        vertical-align: top;\n",
       "    }\n",
       "\n",
       "    .dataframe thead th {\n",
       "        text-align: right;\n",
       "    }\n",
       "</style>\n",
       "<table border=\"1\" class=\"dataframe\">\n",
       "  <thead>\n",
       "    <tr style=\"text-align: right;\">\n",
       "      <th></th>\n",
       "      <th>data</th>\n",
       "    </tr>\n",
       "  </thead>\n",
       "  <tbody>\n",
       "    <tr>\n",
       "      <th>filters</th>\n",
       "      <td>[{'name': 'location', 'type': 'treeselect', 'o...</td>\n",
       "    </tr>\n",
       "    <tr>\n",
       "      <th>offers</th>\n",
       "      <td>[{'id': 415072, 'company': 'El Puerto de Liver...</td>\n",
       "    </tr>\n",
       "  </tbody>\n",
       "</table>\n",
       "</div>"
      ],
      "text/plain": [
       "                                                      data\n",
       "filters  [{'name': 'location', 'type': 'treeselect', 'o...\n",
       "offers   [{'id': 415072, 'company': 'El Puerto de Liver..."
      ]
     },
     "execution_count": 7,
     "metadata": {},
     "output_type": "execute_result"
    }
   ],
   "source": [
    "\n",
    "df_url = pd.read_json(\"aira_el_puerto_de_liverpool.json\")\n",
    "cantidad_vacantes= len(df_url)\n",
    "print(\"cantidad de vacantes:\", cantidad_vacantes)\n",
    "df_url"
   ]
  },
  {
   "cell_type": "code",
   "execution_count": 9,
   "metadata": {},
   "outputs": [
    {
     "name": "stdout",
     "output_type": "stream",
     "text": [
      "Cantidad de ofertas de empleo: 1\n"
     ]
    }
   ],
   "source": [
    "import pandas as pd\n",
    "\n",
    "# Crear un diccionario con los datos proporcionados\n",
    "data = {\n",
    "    'filters': [{'name': 'location', 'type': 'treeselect', 'options': [{'label': 'Location', 'name': 'location'}]}],\n",
    "    'offers': [{'id': 415072, 'company': 'El Puerto de Liverpool'}]\n",
    "}\n",
    "\n",
    "# Extraer la lista de ofertas de empleo del diccionario\n",
    "offers_list = data['offers']\n",
    "\n",
    "# Contar la cantidad de ofertas de empleo\n",
    "cantidad_ofertas = len(offers_list)\n",
    "\n",
    "print(\"Cantidad de ofertas de empleo:\", cantidad_ofertas)\n"
   ]
  },
  {
   "cell_type": "code",
   "execution_count": 10,
   "metadata": {},
   "outputs": [
    {
     "name": "stdout",
     "output_type": "stream",
     "text": [
      "{'data': {'offers': [{'id': 415072, 'company': 'El Puerto de Liverpool', 'company_logo': 'https://gcs-files.airavirtual.com/public/companies_assets/el_puerto_de_liverpool/logo.png?timestamp=1648567910', 'name': 'Coordinador Seguridad de la Información', 'country_id': 'mexico', 'country': 'México', 'confidential': 0, 'city_id': 'mexico##ciudad_de_mexico##cuajimalpa_de_morelos', 'city': 'Cuajimalpa de morelos', 'region_id': 'mexico##ciudad_de_mexico', 'region': 'Ciudad de mexico', 'district_id': None, 'district': '', 'flag': '🇲🇽', 'hire_mode_id': 'FULL_TIME', 'hire_mode': 'Full Time', 'remote_work_id': 'PARTIALLY_REMOTE', 'remote_work': 'Presencial y remoto', 'contract_type_id': 'OPEN_ENDED', 'contract_type': 'Permanente (Indefinido)', 'area_id': 'tecnologia_e_informatica', 'area': 'Tecnología e Informática', 'subarea_id': 'tecnologia_e_informatica##seguridad_informatica', 'subarea': 'Seguridad Informática', 'last_access_offer': '2024-04-02 14:40:05', 'link': 'https://login.airavirtual.com/postula/EuPqkazUf9qouwIqeM1o', 'publication_days': 1}, {'id': 415059, 'company': 'El Puerto de Liverpool', 'company_logo': 'https://gcs-files.airavirtual.com/public/companies_assets/el_puerto_de_liverpool/logo.png?timestamp=1648567910', 'name': 'Desarrollador Sr Java', 'country_id': 'mexico', 'country': 'México', 'confidential': 0, 'city_id': 'mexico##ciudad_de_mexico##cuajimalpa_de_morelos', 'city': 'Cuajimalpa de morelos', 'region_id': 'mexico##ciudad_de_mexico', 'region': 'Ciudad de mexico', 'district_id': None, 'district': '', 'flag': '🇲🇽', 'hire_mode_id': 'FULL_TIME', 'hire_mode': 'Full Time', 'remote_work_id': 'PARTIALLY_REMOTE', 'remote_work': 'Presencial y remoto', 'contract_type_id': 'OPEN_ENDED', 'contract_type': 'Permanente (Indefinido)', 'area_id': 'tecnologia_e_informatica', 'area': 'Tecnología e Informática', 'subarea_id': 'tecnologia_e_informatica##programacion_back_end', 'subarea': 'Programación Back-End', 'last_access_offer': '2024-04-02 12:50:54', 'link': 'https://login.airavirtual.com/postula/dXWEQ7Kzv9DeOn7ThtYC', 'publication_days': 1}, {'id': 415003, 'company': 'El Puerto de Liverpool', 'company_logo': 'https://gcs-files.airavirtual.com/public/companies_assets/el_puerto_de_liverpool/logo.png?timestamp=1648567910', 'name': 'Arquitecto de soluciones', 'country_id': 'mexico', 'country': 'México', 'confidential': 0, 'city_id': 'mexico##ciudad_de_mexico##cuajimalpa_de_morelos', 'city': 'Cuajimalpa de morelos', 'region_id': 'mexico##ciudad_de_mexico', 'region': 'Ciudad de mexico', 'district_id': None, 'district': '', 'flag': '🇲🇽', 'hire_mode_id': 'FULL_TIME', 'hire_mode': 'Full Time', 'remote_work_id': 'PARTIALLY_REMOTE', 'remote_work': 'Presencial y remoto', 'contract_type_id': 'OPEN_ENDED', 'contract_type': 'Permanente (Indefinido)', 'area_id': 'data_y_business_intelligence', 'area': 'Data y Business Intelligence', 'subarea_id': 'data_y_business_intelligence##generacion_de_datos_etl', 'subarea': 'Generación de Datos (ETL)', 'last_access_offer': '2024-04-02 11:48:35', 'link': 'https://login.airavirtual.com/postula/HnZ2hZmEY92mBdLczuW2', 'publication_days': 1}, {'id': 414756, 'company': 'El Puerto de Liverpool', 'company_logo': 'https://gcs-files.airavirtual.com/public/companies_assets/el_puerto_de_liverpool/logo.png?timestamp=1648567910', 'name': 'Data Analyst Jr', 'country_id': 'mexico', 'country': 'México', 'confidential': 0, 'city_id': 'mexico##ciudad_de_mexico##cuajimalpa_de_morelos', 'city': 'Cuajimalpa de morelos', 'region_id': 'mexico##ciudad_de_mexico', 'region': 'Ciudad de mexico', 'district_id': None, 'district': '', 'flag': '🇲🇽', 'hire_mode_id': 'FULL_TIME', 'hire_mode': 'Full Time', 'remote_work_id': 'NO_REMOTE', 'remote_work': 'Presencial', 'contract_type_id': 'OPEN_ENDED', 'contract_type': 'Permanente (Indefinido)', 'area_id': 'data_y_business_intelligence', 'area': 'Data y Business Intelligence', 'subarea_id': 'data_y_business_intelligence##base_de_datos_y_big_data', 'subarea': 'Base de Datos y Big Data', 'last_access_offer': '2024-04-01 16:14:53', 'link': 'https://login.airavirtual.com/postula/vCcVAz3XX3N6wXuQV7vI', 'publication_days': 1}, {'id': 402791, 'company': 'El Puerto de Liverpool', 'company_logo': 'https://gcs-files.airavirtual.com/public/companies_assets/el_puerto_de_liverpool/logo.png?timestamp=1648567910', 'name': 'Abogado Jr  de Cumplimiento', 'country_id': 'mexico', 'country': 'México', 'confidential': 0, 'city_id': 'mexico##ciudad_de_mexico##cuajimalpa_de_morelos', 'city': 'Cuajimalpa de morelos', 'region_id': 'mexico##ciudad_de_mexico', 'region': 'Ciudad de mexico', 'district_id': None, 'district': '', 'flag': '🇲🇽', 'hire_mode_id': 'FULL_TIME', 'hire_mode': 'Full Time', 'remote_work_id': 'NO_REMOTE', 'remote_work': 'Presencial', 'contract_type_id': 'OPEN_ENDED', 'contract_type': 'Permanente (Indefinido)', 'area_id': 'legal', 'area': 'Legal', 'subarea_id': 'legal##derecho_comercial', 'subarea': 'Derecho Comercial', 'last_access_offer': '2024-04-01 12:23:05', 'link': 'https://login.airavirtual.com/postula/Mpm1Z2z6udjpy6oC0D8y', 'publication_days': 1}, {'id': 403906, 'company': 'El Puerto de Liverpool', 'company_logo': 'https://gcs-files.airavirtual.com/public/companies_assets/el_puerto_de_liverpool/logo.png?timestamp=1648567910', 'name': 'Trafficker Digital Medios de Pago', 'country_id': 'mexico', 'country': 'México', 'confidential': 0, 'city_id': 'mexico##ciudad_de_mexico##cuajimalpa_de_morelos', 'city': 'Cuajimalpa de morelos', 'region_id': 'mexico##ciudad_de_mexico', 'region': 'Ciudad de mexico', 'district_id': None, 'district': '', 'flag': '🇲🇽', 'hire_mode_id': 'FULL_TIME', 'hire_mode': 'Full Time', 'remote_work_id': 'NO_REMOTE', 'remote_work': 'Presencial', 'contract_type_id': 'OPEN_ENDED', 'contract_type': 'Permanente (Indefinido)', 'area_id': 'marketing', 'area': 'Marketing', 'subarea_id': 'marketing##marketing_digital', 'subarea': 'Marketing Digital', 'last_access_offer': '2024-04-01 13:23:31', 'link': 'https://login.airavirtual.com/postula/vBmnDecrK58m5eUhFn0l', 'publication_days': 1}, {'id': 414517, 'company': 'El Puerto de Liverpool', 'company_logo': 'https://gcs-files.airavirtual.com/public/companies_assets/el_puerto_de_liverpool/logo.png?timestamp=1648567910', 'name': 'Jefe Sr Mantenimiento', 'country_id': 'mexico', 'country': 'México', 'confidential': 0, 'city_id': 'mexico##ciudad_de_mexico##cuajimalpa_de_morelos', 'city': 'Cuajimalpa de morelos', 'region_id': 'mexico##ciudad_de_mexico', 'region': 'Ciudad de mexico', 'district_id': None, 'district': '', 'flag': '🇲🇽', 'hire_mode_id': 'FULL_TIME', 'hire_mode': 'Full Time', 'remote_work_id': 'NO_REMOTE', 'remote_work': 'Presencial', 'contract_type_id': 'OPEN_ENDED', 'contract_type': 'Permanente (Indefinido)', 'area_id': 'servicios_generales_reparaciones_y_limpieza', 'area': 'Servicios Generales, Reparaciones y Limpieza', 'subarea_id': 'servicios_generales_reparaciones_y_limpieza##mantencion_y_reparacion', 'subarea': 'Mantención y Reparación', 'last_access_offer': '2024-04-01 21:44:11', 'link': 'https://login.airavirtual.com/postula/JCzawRDq4ny3LD6OCe4E', 'publication_days': 1}, {'id': 406936, 'company': 'El Puerto de Liverpool', 'company_logo': 'https://gcs-files.airavirtual.com/public/companies_assets/el_puerto_de_liverpool/logo.png?timestamp=1648567910', 'name': 'Consultor Sr Data Scientist', 'country_id': 'mexico', 'country': 'México', 'confidential': 0, 'city_id': 'mexico##ciudad_de_mexico##cuajimalpa_de_morelos', 'city': 'Cuajimalpa de morelos', 'region_id': 'mexico##ciudad_de_mexico', 'region': 'Ciudad de mexico', 'district_id': None, 'district': '', 'flag': '🇲🇽', 'hire_mode_id': 'FULL_TIME', 'hire_mode': 'Full Time', 'remote_work_id': 'NO_REMOTE', 'remote_work': 'Presencial', 'contract_type_id': 'OPEN_ENDED', 'contract_type': 'Permanente (Indefinido)', 'area_id': 'data_y_business_intelligence', 'area': 'Data y Business Intelligence', 'subarea_id': 'data_y_business_intelligence##data_science_modelos_ai_ml', 'subarea': 'Data Science (Modelos, AI, ML)', 'last_access_offer': '2024-04-01 09:58:48', 'link': 'https://login.airavirtual.com/postula/ABFyoVwnrRHpEsvBzpxA', 'publication_days': 1}, {'id': 414429, 'company': 'El Puerto de Liverpool', 'company_logo': 'https://gcs-files.airavirtual.com/public/companies_assets/el_puerto_de_liverpool/logo.png?timestamp=1648567910', 'name': 'Desarrollador Android', 'country_id': 'mexico', 'country': 'México', 'confidential': 0, 'city_id': 'mexico##ciudad_de_mexico##cuajimalpa_de_morelos', 'city': 'Cuajimalpa de morelos', 'region_id': 'mexico##ciudad_de_mexico', 'region': 'Ciudad de mexico', 'district_id': None, 'district': '', 'flag': '🇲🇽', 'hire_mode_id': 'FULL_TIME', 'hire_mode': 'Full Time', 'remote_work_id': 'NO_REMOTE', 'remote_work': 'Presencial', 'contract_type_id': 'OPEN_ENDED', 'contract_type': 'Permanente (Indefinido)', 'area_id': 'tecnologia_e_informatica', 'area': 'Tecnología e Informática', 'subarea_id': 'tecnologia_e_informatica##desarrollo_mobile', 'subarea': 'Desarrollo Mobile', 'last_access_offer': '2024-04-02 00:19:25', 'link': 'https://login.airavirtual.com/postula/W4z84Jiv91B6x6qHWgva', 'publication_days': 2}, {'id': 413634, 'company': 'El Puerto de Liverpool', 'company_logo': 'https://gcs-files.airavirtual.com/public/companies_assets/el_puerto_de_liverpool/logo.png?timestamp=1648567910', 'name': 'Soporte SAP  Jr.', 'country_id': 'mexico', 'country': 'México', 'confidential': 0, 'city_id': 'mexico##ciudad_de_mexico##cuajimalpa_de_morelos', 'city': 'Cuajimalpa de morelos', 'region_id': 'mexico##ciudad_de_mexico', 'region': 'Ciudad de mexico', 'district_id': None, 'district': '', 'flag': '🇲🇽', 'hire_mode_id': 'FULL_TIME', 'hire_mode': 'Full Time', 'remote_work_id': 'NO_REMOTE', 'remote_work': 'Presencial', 'contract_type_id': 'OPEN_ENDED', 'contract_type': 'Permanente (Indefinido)', 'area_id': 'tecnologia_e_informatica', 'area': 'Tecnología e Informática', 'subarea_id': 'tecnologia_e_informatica##soporte_tecnico', 'subarea': 'Soporte Técnico', 'last_access_offer': '2024-04-01 20:55:06', 'link': 'https://login.airavirtual.com/postula/gjTnBvri1crC9gESCNQQ', 'publication_days': 6}, {'id': 402137, 'company': 'El Puerto de Liverpool', 'company_logo': 'https://gcs-files.airavirtual.com/public/companies_assets/el_puerto_de_liverpool/logo.png?timestamp=1648567910', 'name': 'Consultor Contraloría Operativa', 'country_id': 'mexico', 'country': 'México', 'confidential': 0, 'city_id': 'mexico##ciudad_de_mexico##cuajimalpa_de_morelos', 'city': 'Cuajimalpa de morelos', 'region_id': 'mexico##ciudad_de_mexico', 'region': 'Ciudad de mexico', 'district_id': None, 'district': '', 'flag': '🇲🇽', 'hire_mode_id': 'FULL_TIME', 'hire_mode': 'Full Time', 'remote_work_id': 'PARTIALLY_REMOTE', 'remote_work': 'Presencial y remoto', 'contract_type_id': 'OPEN_ENDED', 'contract_type': 'Permanente (Indefinido)', 'area_id': 'finanzas_control_de_gestion_y_contabilidad', 'area': 'Finanzas, Control de Gestión y Contabilidad', 'subarea_id': 'finanzas_control_de_gestion_y_contabilidad##control_de_gestion_y_planeacion_financiera', 'subarea': 'Control de Gestión y Planeación Financiera', 'last_access_offer': '2024-04-01 14:02:05', 'link': 'https://login.airavirtual.com/postula/ZCLsjKWgoqnbeJ2GZtTF', 'publication_days': 7}, {'id': 399428, 'company': 'El Puerto de Liverpool', 'company_logo': 'https://gcs-files.airavirtual.com/public/companies_assets/el_puerto_de_liverpool/logo.png?timestamp=1648567910', 'name': 'Tester Jr', 'country_id': 'mexico', 'country': 'México', 'confidential': 0, 'city_id': 'mexico##ciudad_de_mexico##cuajimalpa_de_morelos', 'city': 'Cuajimalpa de morelos', 'region_id': 'mexico##ciudad_de_mexico', 'region': 'Ciudad de mexico', 'district_id': None, 'district': '', 'flag': '🇲🇽', 'hire_mode_id': 'FULL_TIME', 'hire_mode': 'Full Time', 'remote_work_id': 'PARTIALLY_REMOTE', 'remote_work': 'Presencial y remoto', 'contract_type_id': 'OPEN_ENDED', 'contract_type': 'Permanente (Indefinido)', 'area_id': 'tecnologia_e_informatica', 'area': 'Tecnología e Informática', 'subarea_id': 'tecnologia_e_informatica##testing_qa_y_qc', 'subarea': 'Testing, QA y QC', 'last_access_offer': '2024-04-01 13:51:10', 'link': 'https://login.airavirtual.com/postula/yJQFccVDPsz50ZpvsY6z', 'publication_days': 7}, {'id': 399409, 'company': 'El Puerto de Liverpool', 'company_logo': 'https://gcs-files.airavirtual.com/public/companies_assets/el_puerto_de_liverpool/logo.png?timestamp=1648567910', 'name': 'Jefe de Cobranza Corporativa', 'country_id': 'mexico', 'country': 'México', 'confidential': 0, 'city_id': 'mexico##ciudad_de_mexico##cuajimalpa_de_morelos', 'city': 'Cuajimalpa de morelos', 'region_id': 'mexico##ciudad_de_mexico', 'region': 'Ciudad de mexico', 'district_id': None, 'district': '', 'flag': '🇲🇽', 'hire_mode_id': 'FULL_TIME', 'hire_mode': 'Full Time', 'remote_work_id': 'NO_REMOTE', 'remote_work': 'Presencial', 'contract_type_id': 'OPEN_ENDED', 'contract_type': 'Permanente (Indefinido)', 'area_id': 'finanzas_control_de_gestion_y_contabilidad', 'area': 'Finanzas, Control de Gestión y Contabilidad', 'subarea_id': 'finanzas_control_de_gestion_y_contabilidad##creditos_y_cobranzas', 'subarea': 'Créditos y Cobranzas', 'last_access_offer': '2024-04-01 13:51:58', 'link': 'https://login.airavirtual.com/postula/LKpmnZPKSBrSq4WBsprV', 'publication_days': 7}, {'id': 387964, 'company': 'El Puerto de Liverpool', 'company_logo': 'https://gcs-files.airavirtual.com/public/companies_assets/el_puerto_de_liverpool/logo.png?timestamp=1648567910', 'name': 'Portfolio Manager', 'country_id': 'mexico', 'country': 'México', 'confidential': 0, 'city_id': 'mexico##ciudad_de_mexico##cuajimalpa_de_morelos', 'city': 'Cuajimalpa de morelos', 'region_id': 'mexico##ciudad_de_mexico', 'region': 'Ciudad de mexico', 'district_id': None, 'district': '', 'flag': '🇲🇽', 'hire_mode_id': 'FULL_TIME', 'hire_mode': 'Full Time', 'remote_work_id': 'PARTIALLY_REMOTE', 'remote_work': 'Presencial y remoto', 'contract_type_id': 'OPEN_ENDED', 'contract_type': 'Permanente (Indefinido)', 'area_id': 'tecnologia_e_informatica', 'area': 'Tecnología e Informática', 'subarea_id': 'tecnologia_e_informatica##scrum_master', 'subarea': 'Scrum Master', 'last_access_offer': '2024-04-01 13:46:18', 'link': 'https://login.airavirtual.com/postula/o7dz4eLFHOqW7SOWkRhB', 'publication_days': 7}, {'id': 408505, 'company': 'El Puerto de Liverpool', 'company_logo': 'https://gcs-files.airavirtual.com/public/companies_assets/el_puerto_de_liverpool/logo.png?timestamp=1648567910', 'name': '2a. Generación Trainee de Compras 2024', 'country_id': 'mexico', 'country': 'México', 'confidential': 0, 'city_id': 'mexico##ciudad_de_mexico##cuajimalpa_de_morelos', 'city': 'Cuajimalpa de morelos', 'region_id': 'mexico##ciudad_de_mexico', 'region': 'Ciudad de mexico', 'district_id': None, 'district': '', 'flag': '🇲🇽', 'hire_mode_id': 'FULL_TIME', 'hire_mode': 'Full Time', 'remote_work_id': 'NO_REMOTE', 'remote_work': 'Presencial', 'contract_type_id': 'OPEN_ENDED', 'contract_type': 'Permanente (Indefinido)', 'area_id': 'logistica_compras_y_abastecimiento', 'area': 'Logística, Compras y Abastecimiento', 'subarea_id': 'logistica_compras_y_abastecimiento##compras_compras_y_abastecimiento', 'subarea': 'Compras / Compras y Abastecimiento', 'last_access_offer': '2024-04-01 22:28:38', 'link': 'https://login.airavirtual.com/postula/Sb4hRye2SZWG3Y0bgrJJ', 'publication_days': 7}, {'id': 396075, 'company': 'El Puerto de Liverpool', 'company_logo': 'https://gcs-files.airavirtual.com/public/companies_assets/el_puerto_de_liverpool/logo.png?timestamp=1648567910', 'name': 'Technical Delivery Manager Back Office', 'country_id': 'mexico', 'country': 'México', 'confidential': 0, 'city_id': 'mexico##ciudad_de_mexico##cuajimalpa_de_morelos', 'city': 'Cuajimalpa de morelos', 'region_id': 'mexico##ciudad_de_mexico', 'region': 'Ciudad de mexico', 'district_id': None, 'district': '', 'flag': '🇲🇽', 'hire_mode_id': 'FULL_TIME', 'hire_mode': 'Full Time', 'remote_work_id': 'PARTIALLY_REMOTE', 'remote_work': 'Presencial y remoto', 'contract_type_id': 'OPEN_ENDED', 'contract_type': 'Permanente (Indefinido)', 'area_id': 'tecnologia_e_informatica', 'area': 'Tecnología e Informática', 'subarea_id': 'tecnologia_e_informatica##base_de_datos', 'subarea': 'Base de Datos', 'last_access_offer': '2024-04-01 13:58:50', 'link': 'https://login.airavirtual.com/postula/vfJQZPfPBWanz2uJ0ayS', 'publication_days': 7}, {'id': 395824, 'company': 'El Puerto de Liverpool', 'company_logo': 'https://gcs-files.airavirtual.com/public/companies_assets/el_puerto_de_liverpool/logo.png?timestamp=1648567910', 'name': 'Desarrollador GCP', 'country_id': 'mexico', 'country': 'México', 'confidential': 0, 'city_id': 'mexico##ciudad_de_mexico##cuajimalpa_de_morelos', 'city': 'Cuajimalpa de morelos', 'region_id': 'mexico##ciudad_de_mexico', 'region': 'Ciudad de mexico', 'district_id': None, 'district': '', 'flag': '🇲🇽', 'hire_mode_id': 'FULL_TIME', 'hire_mode': 'Full Time', 'remote_work_id': 'PARTIALLY_REMOTE', 'remote_work': 'Presencial y remoto', 'contract_type_id': 'OPEN_ENDED', 'contract_type': 'Permanente (Indefinido)', 'area_id': 'tecnologia_e_informatica', 'area': 'Tecnología e Informática', 'subarea_id': 'tecnologia_e_informatica##cloud_computing', 'subarea': 'Cloud Computing', 'last_access_offer': '2024-04-01 14:03:46', 'link': 'https://login.airavirtual.com/postula/4HLdiC54VpxbFXlCpMij', 'publication_days': 1}, {'id': 395445, 'company': 'El Puerto de Liverpool', 'company_logo': 'https://gcs-files.airavirtual.com/public/companies_assets/el_puerto_de_liverpool/logo.png?timestamp=1648567910', 'name': 'Ingeniero POS', 'country_id': 'mexico', 'country': 'México', 'confidential': 0, 'city_id': 'mexico##ciudad_de_mexico##cuajimalpa_de_morelos', 'city': 'Cuajimalpa de morelos', 'region_id': 'mexico##ciudad_de_mexico', 'region': 'Ciudad de mexico', 'district_id': None, 'district': '', 'flag': '🇲🇽', 'hire_mode_id': 'FULL_TIME', 'hire_mode': 'Full Time', 'remote_work_id': 'PARTIALLY_REMOTE', 'remote_work': 'Presencial y remoto', 'contract_type_id': 'OPEN_ENDED', 'contract_type': 'Permanente (Indefinido)', 'area_id': 'procesos_estrategia_y_tranformacion_digital', 'area': 'Procesos, Estrategia y Tranformación Digital', 'subarea_id': 'procesos_estrategia_y_tranformacion_digital##transformacion_digital', 'subarea': 'Transformación Digital', 'last_access_offer': '2024-04-01 14:06:55', 'link': 'https://login.airavirtual.com/postula/71FZbZ9vOUjMCAuhyEKv', 'publication_days': 1}, {'id': 399393, 'company': 'El Puerto de Liverpool', 'company_logo': 'https://gcs-files.airavirtual.com/public/companies_assets/el_puerto_de_liverpool/logo.png?timestamp=1648567910', 'name': 'Java Developer', 'country_id': 'mexico', 'country': 'México', 'confidential': 0, 'city_id': 'mexico##ciudad_de_mexico##cuajimalpa_de_morelos', 'city': 'Cuajimalpa de morelos', 'region_id': 'mexico##ciudad_de_mexico', 'region': 'Ciudad de mexico', 'district_id': None, 'district': '', 'flag': '🇲🇽', 'hire_mode_id': 'FULL_TIME', 'hire_mode': 'Full Time', 'remote_work_id': 'PARTIALLY_REMOTE', 'remote_work': 'Presencial y remoto', 'contract_type_id': 'OPEN_ENDED', 'contract_type': 'Permanente (Indefinido)', 'area_id': 'tecnologia_e_informatica', 'area': 'Tecnología e Informática', 'subarea_id': 'tecnologia_e_informatica##base_de_datos', 'subarea': 'Base de Datos', 'last_access_offer': '2024-04-01 13:53:15', 'link': 'https://login.airavirtual.com/postula/wSpOoMPmRT8MzIr2LGhc', 'publication_days': 7}, {'id': 399392, 'company': 'El Puerto de Liverpool', 'company_logo': 'https://gcs-files.airavirtual.com/public/companies_assets/el_puerto_de_liverpool/logo.png?timestamp=1648567910', 'name': 'Desarrollador Java', 'country_id': 'mexico', 'country': 'México', 'confidential': 0, 'city_id': 'mexico##ciudad_de_mexico##cuajimalpa_de_morelos', 'city': 'Cuajimalpa de morelos', 'region_id': 'mexico##ciudad_de_mexico', 'region': 'Ciudad de mexico', 'district_id': None, 'district': '', 'flag': '🇲🇽', 'hire_mode_id': 'FULL_TIME', 'hire_mode': 'Full Time', 'remote_work_id': 'PARTIALLY_REMOTE', 'remote_work': 'Presencial y remoto', 'contract_type_id': 'OPEN_ENDED', 'contract_type': 'Permanente (Indefinido)', 'area_id': 'tecnologia_e_informatica', 'area': 'Tecnología e Informática', 'subarea_id': 'tecnologia_e_informatica##base_de_datos', 'subarea': 'Base de Datos', 'last_access_offer': '2024-04-01 13:54:05', 'link': 'https://login.airavirtual.com/postula/hRkqZjnfYnyhVr4dxtzU', 'publication_days': 7}, {'id': 399391, 'company': 'El Puerto de Liverpool', 'company_logo': 'https://gcs-files.airavirtual.com/public/companies_assets/el_puerto_de_liverpool/logo.png?timestamp=1648567910', 'name': 'Desarrollador de Microservicios', 'country_id': 'mexico', 'country': 'México', 'confidential': 0, 'city_id': 'mexico##ciudad_de_mexico##cuajimalpa_de_morelos', 'city': 'Cuajimalpa de morelos', 'region_id': 'mexico##ciudad_de_mexico', 'region': 'Ciudad de mexico', 'district_id': None, 'district': '', 'flag': '🇲🇽', 'hire_mode_id': 'FULL_TIME', 'hire_mode': 'Full Time', 'remote_work_id': 'PARTIALLY_REMOTE', 'remote_work': 'Presencial y remoto', 'contract_type_id': 'OPEN_ENDED', 'contract_type': 'Permanente (Indefinido)', 'area_id': 'tecnologia_e_informatica', 'area': 'Tecnología e Informática', 'subarea_id': 'tecnologia_e_informatica##base_de_datos', 'subarea': 'Base de Datos', 'last_access_offer': '2024-04-01 13:55:27', 'link': 'https://login.airavirtual.com/postula/9Zi5Y83GAruCVuRq0Lyg', 'publication_days': 7}, {'id': 413626, 'company': 'El Puerto de Liverpool', 'company_logo': 'https://gcs-files.airavirtual.com/public/companies_assets/el_puerto_de_liverpool/logo.png?timestamp=1648567910', 'name': 'Consultor CRM', 'country_id': 'mexico', 'country': 'México', 'confidential': 0, 'city_id': 'mexico##ciudad_de_mexico##cuajimalpa_de_morelos', 'city': 'Cuajimalpa de morelos', 'region_id': 'mexico##ciudad_de_mexico', 'region': 'Ciudad de mexico', 'district_id': None, 'district': '', 'flag': '🇲🇽', 'hire_mode_id': 'FULL_TIME', 'hire_mode': 'Full Time', 'remote_work_id': 'PARTIALLY_REMOTE', 'remote_work': 'Presencial y remoto', 'contract_type_id': 'OPEN_ENDED', 'contract_type': 'Permanente (Indefinido)', 'area_id': 'marketing', 'area': 'Marketing', 'subarea_id': 'marketing##email_marketing', 'subarea': 'Email Marketing', 'last_access_offer': '2024-04-02 10:07:22', 'link': 'https://login.airavirtual.com/postula/P80IH0ZlEoMc1k0gbpIC', 'publication_days': 7}, {'id': 412829, 'company': 'El Puerto de Liverpool', 'company_logo': 'https://gcs-files.airavirtual.com/public/companies_assets/el_puerto_de_liverpool/logo.png?timestamp=1648567910', 'name': 'Desarrollador BW', 'country_id': 'mexico', 'country': 'México', 'confidential': 0, 'city_id': 'mexico##ciudad_de_mexico##cuajimalpa_de_morelos', 'city': 'Cuajimalpa de morelos', 'region_id': 'mexico##ciudad_de_mexico', 'region': 'Ciudad de mexico', 'district_id': None, 'district': '', 'flag': '🇲🇽', 'hire_mode_id': 'FULL_TIME', 'hire_mode': 'Full Time', 'remote_work_id': 'PARTIALLY_REMOTE', 'remote_work': 'Presencial y remoto', 'contract_type_id': 'OPEN_ENDED', 'contract_type': 'Permanente (Indefinido)', 'area_id': 'tecnologia_e_informatica', 'area': 'Tecnología e Informática', 'subarea_id': 'tecnologia_e_informatica##analisis_de_sistemas', 'subarea': 'Análisis de Sistemas', 'last_access_offer': '2024-04-01 15:18:17', 'link': 'https://login.airavirtual.com/postula/9JwpWtvywg34Sxc1RwIy', 'publication_days': 8}, {'id': 413498, 'company': 'El Puerto de Liverpool', 'company_logo': 'https://gcs-files.airavirtual.com/public/companies_assets/el_puerto_de_liverpool/logo.png?timestamp=1648567910', 'name': 'Desarrollador IOS', 'country_id': 'mexico', 'country': 'México', 'confidential': 0, 'city_id': 'mexico##ciudad_de_mexico##cuajimalpa_de_morelos', 'city': 'Cuajimalpa de morelos', 'region_id': 'mexico##ciudad_de_mexico', 'region': 'Ciudad de mexico', 'district_id': None, 'district': '', 'flag': '🇲🇽', 'hire_mode_id': 'FULL_TIME', 'hire_mode': 'Full Time', 'remote_work_id': 'NO_REMOTE', 'remote_work': 'Presencial', 'contract_type_id': 'OPEN_ENDED', 'contract_type': 'Permanente (Indefinido)', 'area_id': 'tecnologia_e_informatica', 'area': 'Tecnología e Informática', 'subarea_id': 'tecnologia_e_informatica##desarrollo_mobile', 'subarea': 'Desarrollo Mobile', 'last_access_offer': '2024-03-25 15:19:07', 'link': 'https://login.airavirtual.com/postula/jbFeaVQfYO73sOPrsiA9', 'publication_days': 8}, {'id': 413233, 'company': 'El Puerto de Liverpool', 'company_logo': 'https://gcs-files.airavirtual.com/public/companies_assets/el_puerto_de_liverpool/logo.png?timestamp=1648567910', 'name': 'Ingeniero de Procesos PMO', 'country_id': 'mexico', 'country': 'México', 'confidential': 0, 'city_id': 'mexico##ciudad_de_mexico##cuajimalpa_de_morelos', 'city': 'Cuajimalpa de morelos', 'region_id': 'mexico##ciudad_de_mexico', 'region': 'Ciudad de mexico', 'district_id': None, 'district': '', 'flag': '🇲🇽', 'hire_mode_id': 'FULL_TIME', 'hire_mode': 'Full Time', 'remote_work_id': 'NO_REMOTE', 'remote_work': 'Presencial', 'contract_type_id': 'OPEN_ENDED', 'contract_type': 'Permanente (Indefinido)', 'area_id': 'procesos_estrategia_y_tranformacion_digital', 'area': 'Procesos, Estrategia y Tranformación Digital', 'subarea_id': 'procesos_estrategia_y_tranformacion_digital##gestion_y_levantamiento_de_procesos', 'subarea': 'Gestión y Levantamiento de Procesos', 'last_access_offer': '2024-04-01 10:58:34', 'link': 'https://login.airavirtual.com/postula/mCVn6pOVqwBAvFiSv04b', 'publication_days': 11}, {'id': 412997, 'company': 'El Puerto de Liverpool', 'company_logo': 'https://gcs-files.airavirtual.com/public/companies_assets/el_puerto_de_liverpool/logo.png?timestamp=1648567910', 'name': 'Planner Comprador Sr.', 'country_id': 'mexico', 'country': 'México', 'confidential': 0, 'city_id': 'mexico##ciudad_de_mexico##cuajimalpa_de_morelos', 'city': 'Cuajimalpa de morelos', 'region_id': 'mexico##ciudad_de_mexico', 'region': 'Ciudad de mexico', 'district_id': None, 'district': '', 'flag': '🇲🇽', 'hire_mode_id': 'FULL_TIME', 'hire_mode': 'Full Time', 'remote_work_id': 'NO_REMOTE', 'remote_work': 'Presencial', 'contract_type_id': 'OPEN_ENDED', 'contract_type': 'Permanente (Indefinido)', 'area_id': 'logistica_compras_y_abastecimiento', 'area': 'Logística, Compras y Abastecimiento', 'subarea_id': 'logistica_compras_y_abastecimiento##compras_compras_y_abastecimiento', 'subarea': 'Compras / Compras y Abastecimiento', 'last_access_offer': '2024-04-01 11:15:46', 'link': 'https://login.airavirtual.com/postula/BBa4GR9kIo7UOiJET1Jz', 'publication_days': 12}, {'id': 404123, 'company': 'El Puerto de Liverpool', 'company_logo': 'https://gcs-files.airavirtual.com/public/companies_assets/el_puerto_de_liverpool/logo.png?timestamp=1648567910', 'name': 'Consultor BI', 'country_id': 'mexico', 'country': 'México', 'confidential': 0, 'city_id': 'mexico##ciudad_de_mexico##cuajimalpa_de_morelos', 'city': 'Cuajimalpa de morelos', 'region_id': 'mexico##ciudad_de_mexico', 'region': 'Ciudad de mexico', 'district_id': None, 'district': '', 'flag': '🇲🇽', 'hire_mode_id': 'FULL_TIME', 'hire_mode': 'Full Time', 'remote_work_id': 'NO_REMOTE', 'remote_work': 'Presencial', 'contract_type_id': 'OPEN_ENDED', 'contract_type': 'Permanente (Indefinido)', 'area_id': 'data_y_business_intelligence', 'area': 'Data y Business Intelligence', 'subarea_id': 'data_y_business_intelligence##business_intelligence_y_reportabilidad', 'subarea': 'Business Intelligence y Reportabilidad', 'last_access_offer': '2024-04-02 10:47:56', 'link': 'https://login.airavirtual.com/postula/n0NBwKKztTHm0d4JATt3', 'publication_days': 12}, {'id': 412824, 'company': 'El Puerto de Liverpool', 'company_logo': 'https://gcs-files.airavirtual.com/public/companies_assets/el_puerto_de_liverpool/logo.png?timestamp=1648567910', 'name': 'Jefe Promoción de Crédito', 'country_id': 'mexico', 'country': 'México', 'confidential': 0, 'city_id': 'mexico##ciudad_de_mexico##cuajimalpa_de_morelos', 'city': 'Cuajimalpa de morelos', 'region_id': 'mexico##ciudad_de_mexico', 'region': 'Ciudad de mexico', 'district_id': None, 'district': '', 'flag': '🇲🇽', 'hire_mode_id': 'FULL_TIME', 'hire_mode': 'Full Time', 'remote_work_id': 'PARTIALLY_REMOTE', 'remote_work': 'Presencial y remoto', 'contract_type_id': 'OPEN_ENDED', 'contract_type': 'Permanente (Indefinido)', 'area_id': 'venta_y_post_venta_personas_b2c', 'area': 'Venta y Post Venta -  Personas (B2C)', 'subarea_id': 'venta_y_post_venta_personas_b2c##venta_de_intangibles_b2c', 'subarea': 'Venta de Intangibles (B2C)', 'last_access_offer': '2024-03-27 15:39:53', 'link': 'https://login.airavirtual.com/postula/HB2tfvuX6M9h42KYgWLv', 'publication_days': 12}, {'id': 412634, 'company': 'El Puerto de Liverpool', 'company_logo': 'https://gcs-files.airavirtual.com/public/companies_assets/el_puerto_de_liverpool/logo.png?timestamp=1648567910', 'name': 'Coordinador de Capacitación', 'country_id': 'mexico', 'country': 'México', 'confidential': 0, 'city_id': 'mexico##ciudad_de_mexico##cuajimalpa_de_morelos', 'city': 'Cuajimalpa de morelos', 'region_id': 'mexico##ciudad_de_mexico', 'region': 'Ciudad de mexico', 'district_id': None, 'district': '', 'flag': '🇲🇽', 'hire_mode_id': 'FULL_TIME', 'hire_mode': 'Full Time', 'remote_work_id': 'NO_REMOTE', 'remote_work': 'Presencial', 'contract_type_id': 'OPEN_ENDED', 'contract_type': 'Permanente (Indefinido)', 'area_id': 'educacion_y_capacitacion', 'area': 'Educación y Capacitación', 'subarea_id': 'educacion_y_capacitacion##desarrollo_material_educacional', 'subarea': 'Desarrollo Material Educacional', 'last_access_offer': '2024-04-01 14:01:41', 'link': 'https://login.airavirtual.com/postula/sCbYwJWS4RTYbqJC6gJm', 'publication_days': 13}, {'id': 412632, 'company': 'El Puerto de Liverpool', 'company_logo': 'https://gcs-files.airavirtual.com/public/companies_assets/el_puerto_de_liverpool/logo.png?timestamp=1648567910', 'name': 'Consultor Monitoreo Seguridad de la Información', 'country_id': 'mexico', 'country': 'México', 'confidential': 0, 'city_id': 'mexico##ciudad_de_mexico##cuajimalpa_de_morelos', 'city': 'Cuajimalpa de morelos', 'region_id': 'mexico##ciudad_de_mexico', 'region': 'Ciudad de mexico', 'district_id': None, 'district': '', 'flag': '🇲🇽', 'hire_mode_id': 'FULL_TIME', 'hire_mode': 'Full Time', 'remote_work_id': 'NO_REMOTE', 'remote_work': 'Presencial', 'contract_type_id': 'OPEN_ENDED', 'contract_type': 'Permanente (Indefinido)', 'area_id': 'tecnologia_e_informatica', 'area': 'Tecnología e Informática', 'subarea_id': 'tecnologia_e_informatica##seguridad_informatica', 'subarea': 'Seguridad Informática', 'last_access_offer': '2024-04-02 10:15:14', 'link': 'https://login.airavirtual.com/postula/3ZliPyUKRZ4lGrM8s9PK', 'publication_days': 13}, {'id': 412594, 'company': 'El Puerto de Liverpool', 'company_logo': 'https://gcs-files.airavirtual.com/public/companies_assets/el_puerto_de_liverpool/logo.png?timestamp=1648567910', 'name': 'Coordinador Administrativo de Centros Comerciales', 'country_id': 'mexico', 'country': 'México', 'confidential': 0, 'city_id': 'mexico##ciudad_de_mexico##cuajimalpa_de_morelos', 'city': 'Cuajimalpa de morelos', 'region_id': 'mexico##ciudad_de_mexico', 'region': 'Ciudad de mexico', 'district_id': None, 'district': '', 'flag': '🇲🇽', 'hire_mode_id': 'FULL_TIME', 'hire_mode': 'Full Time', 'remote_work_id': 'NO_REMOTE', 'remote_work': 'Presencial', 'contract_type_id': 'OPEN_ENDED', 'contract_type': 'Permanente (Indefinido)', 'area_id': 'administracion_y_secretarias', 'area': 'Administración y Secretarías', 'subarea_id': 'administracion_y_secretarias##administracion', 'subarea': 'Administración', 'last_access_offer': '2024-03-20 14:48:56', 'link': 'https://login.airavirtual.com/postula/vi2Pd85gQDI1qlhIX9XJ', 'publication_days': 13}, {'id': 412578, 'company': 'El Puerto de Liverpool', 'company_logo': 'https://gcs-files.airavirtual.com/public/companies_assets/el_puerto_de_liverpool/logo.png?timestamp=1648567910', 'name': 'Coordinador Comercialización de Centros Comerciales', 'country_id': 'mexico', 'country': 'México', 'confidential': 0, 'city_id': 'mexico##ciudad_de_mexico##cuajimalpa_de_morelos', 'city': 'Cuajimalpa de morelos', 'region_id': 'mexico##ciudad_de_mexico', 'region': 'Ciudad de mexico', 'district_id': None, 'district': '', 'flag': '🇲🇽', 'hire_mode_id': 'FULL_TIME', 'hire_mode': 'Full Time', 'remote_work_id': 'NO_REMOTE', 'remote_work': 'Presencial', 'contract_type_id': 'OPEN_ENDED', 'contract_type': 'Permanente (Indefinido)', 'area_id': 'administracion_y_secretarias', 'area': 'Administración y Secretarías', 'subarea_id': 'administracion_y_secretarias##administracion', 'subarea': 'Administración', 'last_access_offer': '2024-04-02 10:21:39', 'link': 'https://login.airavirtual.com/postula/YkNssoLntce5BvGYom0a', 'publication_days': 13}, {'id': 412473, 'company': 'El Puerto de Liverpool', 'company_logo': 'https://gcs-files.airavirtual.com/public/companies_assets/el_puerto_de_liverpool/logo.png?timestamp=1648567910', 'name': 'DevOps', 'country_id': 'mexico', 'country': 'México', 'confidential': 0, 'city_id': 'mexico##ciudad_de_mexico##cuajimalpa_de_morelos', 'city': 'Cuajimalpa de morelos', 'region_id': 'mexico##ciudad_de_mexico', 'region': 'Ciudad de mexico', 'district_id': None, 'district': '', 'flag': '🇲🇽', 'hire_mode_id': 'FULL_TIME', 'hire_mode': 'Full Time', 'remote_work_id': 'NO_REMOTE', 'remote_work': 'Presencial', 'contract_type_id': 'OPEN_ENDED', 'contract_type': 'Permanente (Indefinido)', 'area_id': 'tecnologia_e_informatica', 'area': 'Tecnología e Informática', 'subarea_id': 'tecnologia_e_informatica##analisis_de_sistemas', 'subarea': 'Análisis de Sistemas', 'last_access_offer': '2024-03-21 20:50:49', 'link': 'https://login.airavirtual.com/postula/eVeqkVI8rW6425Q2AX2M', 'publication_days': 13}, {'id': 400900, 'company': 'El Puerto de Liverpool', 'company_logo': 'https://gcs-files.airavirtual.com/public/companies_assets/el_puerto_de_liverpool/logo.png?timestamp=1648567910', 'name': 'Jefatura Power BI', 'country_id': 'mexico', 'country': 'México', 'confidential': 0, 'city_id': 'mexico##ciudad_de_mexico##cuajimalpa_de_morelos', 'city': 'Cuajimalpa de morelos', 'region_id': 'mexico##ciudad_de_mexico', 'region': 'Ciudad de mexico', 'district_id': None, 'district': '', 'flag': '🇲🇽', 'hire_mode_id': 'FULL_TIME', 'hire_mode': 'Full Time', 'remote_work_id': 'NO_REMOTE', 'remote_work': 'Presencial', 'contract_type_id': 'OPEN_ENDED', 'contract_type': 'Permanente (Indefinido)', 'area_id': 'data_y_business_intelligence', 'area': 'Data y Business Intelligence', 'subarea_id': 'data_y_business_intelligence##business_intelligence_y_reportabilidad', 'subarea': 'Business Intelligence y Reportabilidad', 'last_access_offer': '2024-04-01 20:38:26', 'link': 'https://login.airavirtual.com/postula/TyfywiVWBIzB2OkeO7WO', 'publication_days': 13}, {'id': 410597, 'company': 'El Puerto de Liverpool', 'company_logo': 'https://gcs-files.airavirtual.com/public/companies_assets/el_puerto_de_liverpool/logo.png?timestamp=1648567910', 'name': 'Project Manager de Cadena de Suministro', 'country_id': 'mexico', 'country': 'México', 'confidential': 0, 'city_id': 'mexico##ciudad_de_mexico##cuajimalpa_de_morelos', 'city': 'Cuajimalpa de morelos', 'region_id': 'mexico##ciudad_de_mexico', 'region': 'Ciudad de mexico', 'district_id': None, 'district': '', 'flag': '🇲🇽', 'hire_mode_id': 'FULL_TIME', 'hire_mode': 'Full Time', 'remote_work_id': 'NO_REMOTE', 'remote_work': 'Presencial', 'contract_type_id': 'OPEN_ENDED', 'contract_type': 'Permanente (Indefinido)', 'area_id': 'procesos_estrategia_y_tranformacion_digital', 'area': 'Procesos, Estrategia y Tranformación Digital', 'subarea_id': 'procesos_estrategia_y_tranformacion_digital##gestion_y_evaluacion_de_proyectos', 'subarea': 'Gestión y Evaluación de Proyectos', 'last_access_offer': '2024-04-01 18:10:00', 'link': 'https://login.airavirtual.com/postula/7yLRFmbhaSHezcBms1UN', 'publication_days': 18}, {'id': 407252, 'company': 'El Puerto de Liverpool', 'company_logo': 'https://gcs-files.airavirtual.com/public/companies_assets/el_puerto_de_liverpool/logo.png?timestamp=1648567910', 'name': 'Arquitecto Cloud Jr', 'country_id': 'mexico', 'country': 'México', 'confidential': 0, 'city_id': 'mexico##ciudad_de_mexico##cuajimalpa_de_morelos', 'city': 'Cuajimalpa de morelos', 'region_id': 'mexico##ciudad_de_mexico', 'region': 'Ciudad de mexico', 'district_id': None, 'district': '', 'flag': '🇲🇽', 'hire_mode_id': 'FULL_TIME', 'hire_mode': 'Full Time', 'remote_work_id': 'PARTIALLY_REMOTE', 'remote_work': 'Presencial y remoto', 'contract_type_id': 'OPEN_ENDED', 'contract_type': 'Permanente (Indefinido)', 'area_id': 'tecnologia_e_informatica', 'area': 'Tecnología e Informática', 'subarea_id': 'tecnologia_e_informatica##base_de_datos', 'subarea': 'Base de Datos', 'last_access_offer': '2024-03-20 15:13:11', 'link': 'https://login.airavirtual.com/postula/IM874j8fCwjvH41UZtUx', 'publication_days': 18}, {'id': 411308, 'company': 'El Puerto de Liverpool', 'company_logo': 'https://gcs-files.airavirtual.com/public/companies_assets/el_puerto_de_liverpool/logo.png?timestamp=1648567910', 'name': 'PMO Jr / Project Manager', 'country_id': 'mexico', 'country': 'México', 'confidential': 0, 'city_id': 'mexico##ciudad_de_mexico##cuajimalpa_de_morelos', 'city': 'Cuajimalpa de morelos', 'region_id': 'mexico##ciudad_de_mexico', 'region': 'Ciudad de mexico', 'district_id': None, 'district': '', 'flag': '🇲🇽', 'hire_mode_id': 'FULL_TIME', 'hire_mode': 'Full Time', 'remote_work_id': 'NO_REMOTE', 'remote_work': 'Presencial', 'contract_type_id': 'OPEN_ENDED', 'contract_type': 'Permanente (Indefinido)', 'area_id': 'procesos_estrategia_y_tranformacion_digital', 'area': 'Procesos, Estrategia y Tranformación Digital', 'subarea_id': 'procesos_estrategia_y_tranformacion_digital##especialista_pmo', 'subarea': 'Especialista PMO', 'last_access_offer': '2024-03-25 13:04:40', 'link': 'https://login.airavirtual.com/postula/I7Fw6RgYfnsbckQpmAMu', 'publication_days': 19}, {'id': 411107, 'company': 'El Puerto de Liverpool', 'company_logo': 'https://gcs-files.airavirtual.com/public/companies_assets/el_puerto_de_liverpool/logo.png?timestamp=1648567910', 'name': 'Ingeniero Junior Sap Basis', 'country_id': 'mexico', 'country': 'México', 'confidential': 0, 'city_id': 'mexico##ciudad_de_mexico##cuajimalpa_de_morelos', 'city': 'Cuajimalpa de morelos', 'region_id': 'mexico##ciudad_de_mexico', 'region': 'Ciudad de mexico', 'district_id': None, 'district': '', 'flag': '🇲🇽', 'hire_mode_id': 'FULL_TIME', 'hire_mode': 'Full Time', 'remote_work_id': 'PARTIALLY_REMOTE', 'remote_work': 'Presencial y remoto', 'contract_type_id': 'OPEN_ENDED', 'contract_type': 'Permanente (Indefinido)', 'area_id': 'tecnologia_e_informatica', 'area': 'Tecnología e Informática', 'subarea_id': 'tecnologia_e_informatica##soporte_tecnico', 'subarea': 'Soporte Técnico', 'last_access_offer': '2024-03-27 11:45:42', 'link': 'https://login.airavirtual.com/postula/3HNy92iaq56uQgczCcMn', 'publication_days': 19}, {'id': 410535, 'company': 'El Puerto de Liverpool', 'company_logo': 'https://gcs-files.airavirtual.com/public/companies_assets/el_puerto_de_liverpool/logo.png?timestamp=1648567910', 'name': 'Especialista Logística', 'country_id': 'mexico', 'country': 'México', 'confidential': 0, 'city_id': 'mexico##ciudad_de_mexico##cuajimalpa_de_morelos', 'city': 'Cuajimalpa de morelos', 'region_id': 'mexico##ciudad_de_mexico', 'region': 'Ciudad de mexico', 'district_id': None, 'district': '', 'flag': '🇲🇽', 'hire_mode_id': 'FULL_TIME', 'hire_mode': 'Full Time', 'remote_work_id': 'NO_REMOTE', 'remote_work': 'Presencial', 'contract_type_id': 'OPEN_ENDED', 'contract_type': 'Permanente (Indefinido)', 'area_id': 'procesos_estrategia_y_tranformacion_digital', 'area': 'Procesos, Estrategia y Tranformación Digital', 'subarea_id': 'procesos_estrategia_y_tranformacion_digital##gestion_y_levantamiento_de_procesos', 'subarea': 'Gestión y Levantamiento de Procesos', 'last_access_offer': '2024-04-01 12:56:24', 'link': 'https://login.airavirtual.com/postula/xEsMtAJ3CzhwzW7L43z2', 'publication_days': 20}, {'id': 410658, 'company': 'El Puerto de Liverpool', 'company_logo': 'https://gcs-files.airavirtual.com/public/companies_assets/el_puerto_de_liverpool/logo.png?timestamp=1648567910', 'name': 'Consultor de Prevención de Fraudes', 'country_id': 'mexico', 'country': 'México', 'confidential': 0, 'city_id': 'mexico##ciudad_de_mexico##cuajimalpa_de_morelos', 'city': 'Cuajimalpa de morelos', 'region_id': 'mexico##ciudad_de_mexico', 'region': 'Ciudad de mexico', 'district_id': None, 'district': '', 'flag': '🇲🇽', 'hire_mode_id': 'FULL_TIME', 'hire_mode': 'Full Time', 'remote_work_id': 'NO_REMOTE', 'remote_work': 'Presencial', 'contract_type_id': 'OPEN_ENDED', 'contract_type': 'Permanente (Indefinido)', 'area_id': 'legal', 'area': 'Legal', 'subarea_id': 'legal##compliance', 'subarea': 'Compliance', 'last_access_offer': '2024-04-01 21:07:56', 'link': 'https://login.airavirtual.com/postula/TH40gGYMk6MaeKhhmZAE', 'publication_days': 20}, {'id': 398194, 'company': 'El Puerto de Liverpool', 'company_logo': 'https://gcs-files.airavirtual.com/public/companies_assets/el_puerto_de_liverpool/logo.png?timestamp=1648567910', 'name': 'Consultor Datawarehouse', 'country_id': 'mexico', 'country': 'México', 'confidential': 0, 'city_id': 'mexico##ciudad_de_mexico##cuajimalpa_de_morelos', 'city': 'Cuajimalpa de morelos', 'region_id': 'mexico##ciudad_de_mexico', 'region': 'Ciudad de mexico', 'district_id': None, 'district': '', 'flag': '🇲🇽', 'hire_mode_id': 'FULL_TIME', 'hire_mode': 'Full Time', 'remote_work_id': 'PARTIALLY_REMOTE', 'remote_work': 'Presencial y remoto', 'contract_type_id': 'OPEN_ENDED', 'contract_type': 'Permanente (Indefinido)', 'area_id': 'tecnologia_e_informatica', 'area': 'Tecnología e Informática', 'subarea_id': 'tecnologia_e_informatica##base_de_datos', 'subarea': 'Base de Datos', 'last_access_offer': '2024-04-01 13:52:33', 'link': 'https://login.airavirtual.com/postula/T3sLuLKl4HSOUCNdvgNZ', 'publication_days': 22}, {'id': 405592, 'company': 'El Puerto de Liverpool', 'company_logo': 'https://gcs-files.airavirtual.com/public/companies_assets/el_puerto_de_liverpool/logo.png?timestamp=1648567910', 'name': 'Data Cloud / CDP', 'country_id': 'mexico', 'country': 'México', 'confidential': 0, 'city_id': 'mexico##ciudad_de_mexico##cuajimalpa_de_morelos', 'city': 'Cuajimalpa de morelos', 'region_id': 'mexico##ciudad_de_mexico', 'region': 'Ciudad de mexico', 'district_id': None, 'district': '', 'flag': '🇲🇽', 'hire_mode_id': 'FULL_TIME', 'hire_mode': 'Full Time', 'remote_work_id': 'PARTIALLY_REMOTE', 'remote_work': 'Presencial y remoto', 'contract_type_id': 'OPEN_ENDED', 'contract_type': 'Permanente (Indefinido)', 'area_id': 'tecnologia_e_informatica', 'area': 'Tecnología e Informática', 'subarea_id': 'tecnologia_e_informatica##base_de_datos', 'subarea': 'Base de Datos', 'last_access_offer': '2024-03-20 09:57:23', 'link': 'https://login.airavirtual.com/postula/TjCfSygAfLy6d42Ttu4Y', 'publication_days': 19}, {'id': 409836, 'company': 'El Puerto de Liverpool', 'company_logo': 'https://gcs-files.airavirtual.com/public/companies_assets/el_puerto_de_liverpool/logo.png?timestamp=1648567910', 'name': 'Gerente de Change Management', 'country_id': 'mexico', 'country': 'México', 'confidential': 0, 'city_id': 'mexico##ciudad_de_mexico##cuajimalpa_de_morelos', 'city': 'Cuajimalpa de morelos', 'region_id': 'mexico##ciudad_de_mexico', 'region': 'Ciudad de mexico', 'district_id': None, 'district': '', 'flag': '🇲🇽', 'hire_mode_id': 'FULL_TIME', 'hire_mode': 'Full Time', 'remote_work_id': 'NO_REMOTE', 'remote_work': 'Presencial', 'contract_type_id': 'OPEN_ENDED', 'contract_type': 'Permanente (Indefinido)', 'area_id': 'recursos_humanos', 'area': 'Recursos Humanos', 'subarea_id': 'recursos_humanos##desarrollo_y_capacitacion_organizacional', 'subarea': 'Desarrollo y Capacitación Organizacional', 'last_access_offer': '2024-03-22 15:41:06', 'link': 'https://login.airavirtual.com/postula/64jQxOYj00QSiBSprA2y', 'publication_days': 25}, {'id': 409335, 'company': 'El Puerto de Liverpool', 'company_logo': 'https://gcs-files.airavirtual.com/public/companies_assets/el_puerto_de_liverpool/logo.png?timestamp=1648567910', 'name': 'Ingeniero en procesos', 'country_id': 'mexico', 'country': 'México', 'confidential': 0, 'city_id': 'mexico##ciudad_de_mexico##cuajimalpa_de_morelos', 'city': 'Cuajimalpa de morelos', 'region_id': 'mexico##ciudad_de_mexico', 'region': 'Ciudad de mexico', 'district_id': None, 'district': '', 'flag': '🇲🇽', 'hire_mode_id': 'FULL_TIME', 'hire_mode': 'Full Time', 'remote_work_id': 'NO_REMOTE', 'remote_work': 'Presencial', 'contract_type_id': 'OPEN_ENDED', 'contract_type': 'Permanente (Indefinido)', 'area_id': 'logistica_compras_y_abastecimiento', 'area': 'Logística, Compras y Abastecimiento', 'subarea_id': 'logistica_compras_y_abastecimiento##logistica_distribucion', 'subarea': 'Logística / Distribución', 'last_access_offer': '2024-03-25 11:10:13', 'link': 'https://login.airavirtual.com/postula/DMlXjYgoFnaXDLUtM8QJ', 'publication_days': 25}, {'id': 409683, 'company': 'El Puerto de Liverpool', 'company_logo': 'https://gcs-files.airavirtual.com/public/companies_assets/el_puerto_de_liverpool/logo.png?timestamp=1648567910', 'name': 'Coordinador Desarrollador de Producto', 'country_id': 'mexico', 'country': 'México', 'confidential': 0, 'city_id': 'mexico##ciudad_de_mexico##cuajimalpa_de_morelos', 'city': 'Cuajimalpa de morelos', 'region_id': 'mexico##ciudad_de_mexico', 'region': 'Ciudad de mexico', 'district_id': None, 'district': '', 'flag': '🇲🇽', 'hire_mode_id': 'FULL_TIME', 'hire_mode': 'Full Time', 'remote_work_id': 'NO_REMOTE', 'remote_work': 'Presencial', 'contract_type_id': 'OPEN_ENDED', 'contract_type': 'Permanente (Indefinido)', 'area_id': 'produccion_y_manufactura', 'area': 'Producción y Manufactura', 'subarea_id': 'produccion_y_manufactura##innovacion_y_desarrollo_de_producto', 'subarea': 'Innovación y Desarrollo de Producto', 'last_access_offer': '2024-03-25 20:32:17', 'link': 'https://login.airavirtual.com/postula/eQaav8ArFCzzIspmazTa', 'publication_days': 25}, {'id': 387971, 'company': 'El Puerto de Liverpool', 'company_logo': 'https://gcs-files.airavirtual.com/public/companies_assets/el_puerto_de_liverpool/logo.png?timestamp=1648567910', 'name': 'Gerente TI Vendor Mangement', 'country_id': 'mexico', 'country': 'México', 'confidential': 0, 'city_id': 'mexico##ciudad_de_mexico##cuajimalpa_de_morelos', 'city': 'Cuajimalpa de morelos', 'region_id': 'mexico##ciudad_de_mexico', 'region': 'Ciudad de mexico', 'district_id': None, 'district': '', 'flag': '🇲🇽', 'hire_mode_id': 'FULL_TIME', 'hire_mode': 'Full Time', 'remote_work_id': 'PARTIALLY_REMOTE', 'remote_work': 'Presencial y remoto', 'contract_type_id': 'OPEN_ENDED', 'contract_type': 'Permanente (Indefinido)', 'area_id': 'tecnologia_e_informatica', 'area': 'Tecnología e Informática', 'subarea_id': 'tecnologia_e_informatica##analisis_de_sistemas', 'subarea': 'Análisis de Sistemas', 'last_access_offer': '2024-03-07 22:06:23', 'link': 'https://login.airavirtual.com/postula/1Ifn3srCqKsW14cUMFgY', 'publication_days': 26}, {'id': 403440, 'company': 'El Puerto de Liverpool', 'company_logo': 'https://gcs-files.airavirtual.com/public/companies_assets/el_puerto_de_liverpool/logo.png?timestamp=1648567910', 'name': 'Internship Program StartDigital Marketplace', 'country_id': 'mexico', 'country': 'México', 'confidential': 0, 'city_id': 'mexico##ciudad_de_mexico##cuajimalpa_de_morelos', 'city': 'Cuajimalpa de morelos', 'region_id': 'mexico##ciudad_de_mexico', 'region': 'Ciudad de mexico', 'district_id': None, 'district': '', 'flag': '🇲🇽', 'hire_mode_id': 'PART_TIME', 'hire_mode': 'Part Time', 'remote_work_id': 'NO_REMOTE', 'remote_work': 'Presencial', 'contract_type_id': 'INTERNSHIP', 'contract_type': 'Práctica / Pasantía', 'area_id': 'marketing', 'area': 'Marketing', 'subarea_id': 'marketing##e_commerce', 'subarea': 'E-commerce', 'last_access_offer': '2024-04-01 13:21:26', 'link': 'https://login.airavirtual.com/postula/17CdqFMCpuPCWVGHqR0I', 'publication_days': 27}, {'id': 408739, 'company': 'El Puerto de Liverpool', 'company_logo': 'https://gcs-files.airavirtual.com/public/companies_assets/el_puerto_de_liverpool/logo.png?timestamp=1648567910', 'name': 'Consultor Fiscal', 'country_id': 'mexico', 'country': 'México', 'confidential': 0, 'city_id': 'mexico##ciudad_de_mexico##cuajimalpa_de_morelos', 'city': 'Cuajimalpa de morelos', 'region_id': 'mexico##ciudad_de_mexico', 'region': 'Ciudad de mexico', 'district_id': None, 'district': '', 'flag': '🇲🇽', 'hire_mode_id': 'FULL_TIME', 'hire_mode': 'Full Time', 'remote_work_id': 'NO_REMOTE', 'remote_work': 'Presencial', 'contract_type_id': 'OPEN_ENDED', 'contract_type': 'Permanente (Indefinido)', 'area_id': 'finanzas_control_de_gestion_y_contabilidad', 'area': 'Finanzas, Control de Gestión y Contabilidad', 'subarea_id': 'finanzas_control_de_gestion_y_contabilidad##contabilidad_y_auditoria', 'subarea': 'Contabilidad y Auditoría', 'last_access_offer': '2024-03-15 13:39:45', 'link': 'https://login.airavirtual.com/postula/SMTQCuae7rm74U6VQ7Fr', 'publication_days': 26}, {'id': 408717, 'company': 'El Puerto de Liverpool', 'company_logo': 'https://gcs-files.airavirtual.com/public/companies_assets/el_puerto_de_liverpool/logo.png?timestamp=1648567910', 'name': 'Analista de Datos', 'country_id': 'mexico', 'country': 'México', 'confidential': 0, 'city_id': 'mexico##ciudad_de_mexico##cuajimalpa_de_morelos', 'city': 'Cuajimalpa de morelos', 'region_id': 'mexico##ciudad_de_mexico', 'region': 'Ciudad de mexico', 'district_id': None, 'district': '', 'flag': '🇲🇽', 'hire_mode_id': 'FULL_TIME', 'hire_mode': 'Full Time', 'remote_work_id': 'PARTIALLY_REMOTE', 'remote_work': 'Presencial y remoto', 'contract_type_id': 'OPEN_ENDED', 'contract_type': 'Permanente (Indefinido)', 'area_id': 'finanzas_control_de_gestion_y_contabilidad', 'area': 'Finanzas, Control de Gestión y Contabilidad', 'subarea_id': 'finanzas_control_de_gestion_y_contabilidad##administracion_de_nomina_sueldos_y_compensaciones', 'subarea': 'Administración de Nómina - Sueldos y Compensaciones', 'last_access_offer': '2024-03-27 21:34:48', 'link': 'https://login.airavirtual.com/postula/DCBXvG9avc5qYRoDRKyL', 'publication_days': 26}, {'id': 408655, 'company': 'El Puerto de Liverpool', 'company_logo': 'https://gcs-files.airavirtual.com/public/companies_assets/el_puerto_de_liverpool/logo.png?timestamp=1648567910', 'name': 'Analista de Nómina', 'country_id': 'mexico', 'country': 'México', 'confidential': 0, 'city_id': 'mexico##ciudad_de_mexico##cuajimalpa_de_morelos', 'city': 'Cuajimalpa de morelos', 'region_id': 'mexico##ciudad_de_mexico', 'region': 'Ciudad de mexico', 'district_id': None, 'district': '', 'flag': '🇲🇽', 'hire_mode_id': 'FULL_TIME', 'hire_mode': 'Full Time', 'remote_work_id': 'PARTIALLY_REMOTE', 'remote_work': 'Presencial y remoto', 'contract_type_id': 'OPEN_ENDED', 'contract_type': 'Permanente (Indefinido)', 'area_id': 'finanzas_control_de_gestion_y_contabilidad', 'area': 'Finanzas, Control de Gestión y Contabilidad', 'subarea_id': 'finanzas_control_de_gestion_y_contabilidad##administracion_de_nomina_sueldos_y_compensaciones', 'subarea': 'Administración de Nómina - Sueldos y Compensaciones', 'last_access_offer': '2024-03-27 21:13:27', 'link': 'https://login.airavirtual.com/postula/FOwSORpXR68TltaqmI2y', 'publication_days': 26}, {'id': 408628, 'company': 'El Puerto de Liverpool', 'company_logo': 'https://gcs-files.airavirtual.com/public/companies_assets/el_puerto_de_liverpool/logo.png?timestamp=1648567910', 'name': 'Becario de Auditoría / Liverpool Insurgentes', 'country_id': 'mexico', 'country': 'México', 'confidential': 0, 'city_id': 'mexico##ciudad_de_mexico##iztapalapa', 'city': 'Iztapalapa', 'region_id': 'mexico##ciudad_de_mexico', 'region': 'Ciudad de mexico', 'district_id': None, 'district': '', 'flag': '🇲🇽', 'hire_mode_id': 'INTERNSHIP', 'hire_mode': 'Práctica / Pasantía', 'remote_work_id': 'NO_REMOTE', 'remote_work': 'Presencial', 'contract_type_id': 'INTERNSHIP', 'contract_type': 'Práctica / Pasantía', 'area_id': 'finanzas_control_de_gestion_y_contabilidad', 'area': 'Finanzas, Control de Gestión y Contabilidad', 'subarea_id': 'finanzas_control_de_gestion_y_contabilidad##contabilidad_y_auditoria', 'subarea': 'Contabilidad y Auditoría', 'last_access_offer': '2024-03-19 20:33:58', 'link': 'https://login.airavirtual.com/postula/EFTfRgcAsY98YNxXZ3NH', 'publication_days': 28}, {'id': 408618, 'company': 'El Puerto de Liverpool', 'company_logo': 'https://gcs-files.airavirtual.com/public/companies_assets/el_puerto_de_liverpool/logo.png?timestamp=1648567910', 'name': 'Becario de Finanzas', 'country_id': 'mexico', 'country': 'México', 'confidential': 0, 'city_id': 'mexico##ciudad_de_mexico##cuajimalpa_de_morelos', 'city': 'Cuajimalpa de morelos', 'region_id': 'mexico##ciudad_de_mexico', 'region': 'Ciudad de mexico', 'district_id': None, 'district': '', 'flag': '🇲🇽', 'hire_mode_id': 'PART_TIME', 'hire_mode': 'Part Time', 'remote_work_id': 'NO_REMOTE', 'remote_work': 'Presencial', 'contract_type_id': 'FIXED_TERM', 'contract_type': 'Temporal (Plazo Fijo)', 'area_id': 'finanzas_control_de_gestion_y_contabilidad', 'area': 'Finanzas, Control de Gestión y Contabilidad', 'subarea_id': 'finanzas_control_de_gestion_y_contabilidad##analisis_financiero', 'subarea': 'Análisis Financiero', 'last_access_offer': '2024-03-19 22:07:21', 'link': 'https://login.airavirtual.com/postula/7aRkp1gsQu4XAUFB8akV', 'publication_days': 28}, {'id': 408539, 'company': 'El Puerto de Liverpool', 'company_logo': 'https://gcs-files.airavirtual.com/public/companies_assets/el_puerto_de_liverpool/logo.png?timestamp=1648567910', 'name': 'Coordinador Medio Ambiente', 'country_id': 'mexico', 'country': 'México', 'confidential': 0, 'city_id': 'mexico##ciudad_de_mexico##cuajimalpa_de_morelos', 'city': 'Cuajimalpa de morelos', 'region_id': 'mexico##ciudad_de_mexico', 'region': 'Ciudad de mexico', 'district_id': None, 'district': '', 'flag': '🇲🇽', 'hire_mode_id': 'FULL_TIME', 'hire_mode': 'Full Time', 'remote_work_id': 'PARTIALLY_REMOTE', 'remote_work': 'Presencial y remoto', 'contract_type_id': 'OPEN_ENDED', 'contract_type': 'Permanente (Indefinido)', 'area_id': 'sustentabilidad_y_medio_ambiente', 'area': 'Sustentabilidad y Medio Ambiente', 'subarea_id': 'sustentabilidad_y_medio_ambiente##evaluacion_de_impacto_ambiental', 'subarea': 'Evaluación de Impacto Ambiental', 'last_access_offer': '2024-04-02 00:41:11', 'link': 'https://login.airavirtual.com/postula/YMQnS7nl7prfpwEheGEu', 'publication_days': 28}, {'id': 408538, 'company': 'El Puerto de Liverpool', 'company_logo': 'https://gcs-files.airavirtual.com/public/companies_assets/el_puerto_de_liverpool/logo.png?timestamp=1648567910', 'name': 'Desarrollador Fullstack', 'country_id': 'mexico', 'country': 'México', 'confidential': 0, 'city_id': 'mexico##ciudad_de_mexico##cuajimalpa_de_morelos', 'city': 'Cuajimalpa de morelos', 'region_id': 'mexico##ciudad_de_mexico', 'region': 'Ciudad de mexico', 'district_id': None, 'district': '', 'flag': '🇲🇽', 'hire_mode_id': 'FULL_TIME', 'hire_mode': 'Full Time', 'remote_work_id': 'PARTIALLY_REMOTE', 'remote_work': 'Presencial y remoto', 'contract_type_id': 'OPEN_ENDED', 'contract_type': 'Permanente (Indefinido)', 'area_id': 'tecnologia_e_informatica', 'area': 'Tecnología e Informática', 'subarea_id': 'tecnologia_e_informatica##programacion_back_end', 'subarea': 'Programación Back-End', 'last_access_offer': '2024-03-13 00:12:12', 'link': 'https://login.airavirtual.com/postula/NfmszooVKcgwZF67g5pl', 'publication_days': 29}, {'id': 408297, 'company': 'El Puerto de Liverpool', 'company_logo': 'https://gcs-files.airavirtual.com/public/companies_assets/el_puerto_de_liverpool/logo.png?timestamp=1648567910', 'name': 'Especialista Sr. Inteligencia de Negocios', 'country_id': 'mexico', 'country': 'México', 'confidential': 0, 'city_id': 'mexico##ciudad_de_mexico##cuajimalpa_de_morelos', 'city': 'Cuajimalpa de morelos', 'region_id': 'mexico##ciudad_de_mexico', 'region': 'Ciudad de mexico', 'district_id': None, 'district': '', 'flag': '🇲🇽', 'hire_mode_id': 'FULL_TIME', 'hire_mode': 'Full Time', 'remote_work_id': 'PARTIALLY_REMOTE', 'remote_work': 'Presencial y remoto', 'contract_type_id': 'OPEN_ENDED', 'contract_type': 'Permanente (Indefinido)', 'area_id': 'data_y_business_intelligence', 'area': 'Data y Business Intelligence', 'subarea_id': 'data_y_business_intelligence##business_intelligence_y_reportabilidad', 'subarea': 'Business Intelligence y Reportabilidad', 'last_access_offer': '2024-03-27 16:17:53', 'link': 'https://login.airavirtual.com/postula/iDgmrmYlUTfMhMHqO9rS', 'publication_days': 29}, {'id': 406625, 'company': 'El Puerto de Liverpool', 'company_logo': 'https://gcs-files.airavirtual.com/public/companies_assets/el_puerto_de_liverpool/logo.png?timestamp=1648567910', 'name': 'Abogado Jr  Permisos y Licencias', 'country_id': 'mexico', 'country': 'México', 'confidential': 0, 'city_id': 'mexico##ciudad_de_mexico##cuajimalpa_de_morelos', 'city': 'Cuajimalpa de morelos', 'region_id': 'mexico##ciudad_de_mexico', 'region': 'Ciudad de mexico', 'district_id': None, 'district': '', 'flag': '🇲🇽', 'hire_mode_id': 'FULL_TIME', 'hire_mode': 'Full Time', 'remote_work_id': 'NO_REMOTE', 'remote_work': 'Presencial', 'contract_type_id': 'OPEN_ENDED', 'contract_type': 'Permanente (Indefinido)', 'area_id': 'legal', 'area': 'Legal', 'subarea_id': 'legal##derecho_laboral', 'subarea': 'Derecho Laboral', 'last_access_offer': '2024-03-11 14:11:11', 'link': 'https://login.airavirtual.com/postula/7im5yPISpQR4RCTMkX3C', 'publication_days': 29}, {'id': 407929, 'company': 'El Puerto de Liverpool', 'company_logo': 'https://gcs-files.airavirtual.com/public/companies_assets/el_puerto_de_liverpool/logo.png?timestamp=1648567910', 'name': 'Coordinador de Soporte Aplicativos', 'country_id': 'mexico', 'country': 'México', 'confidential': 0, 'city_id': 'mexico##ciudad_de_mexico##cuajimalpa_de_morelos', 'city': 'Cuajimalpa de morelos', 'region_id': 'mexico##ciudad_de_mexico', 'region': 'Ciudad de mexico', 'district_id': None, 'district': '', 'flag': '🇲🇽', 'hire_mode_id': 'FULL_TIME', 'hire_mode': 'Full Time', 'remote_work_id': 'PARTIALLY_REMOTE', 'remote_work': 'Presencial y remoto', 'contract_type_id': 'OPEN_ENDED', 'contract_type': 'Permanente (Indefinido)', 'area_id': 'tecnologia_e_informatica', 'area': 'Tecnología e Informática', 'subarea_id': 'tecnologia_e_informatica##analisis_de_sistemas', 'subarea': 'Análisis de Sistemas', 'last_access_offer': '2024-03-26 14:13:51', 'link': 'https://login.airavirtual.com/postula/2EBecE0KUNXA87e8XKs6', 'publication_days': 29}, {'id': 408183, 'company': 'El Puerto de Liverpool', 'company_logo': 'https://gcs-files.airavirtual.com/public/companies_assets/el_puerto_de_liverpool/logo.png?timestamp=1648567910', 'name': 'Especialista de Relaciones Laborales Individual', 'country_id': 'mexico', 'country': 'México', 'confidential': 0, 'city_id': 'mexico##ciudad_de_mexico##cuajimalpa_de_morelos', 'city': 'Cuajimalpa de morelos', 'region_id': 'mexico##ciudad_de_mexico', 'region': 'Ciudad de mexico', 'district_id': None, 'district': '', 'flag': '🇲🇽', 'hire_mode_id': 'FULL_TIME', 'hire_mode': 'Full Time', 'remote_work_id': 'PARTIALLY_REMOTE', 'remote_work': 'Presencial y remoto', 'contract_type_id': 'OPEN_ENDED', 'contract_type': 'Permanente (Indefinido)', 'area_id': 'legal', 'area': 'Legal', 'subarea_id': 'legal##derecho_laboral', 'subarea': 'Derecho Laboral', 'last_access_offer': '2024-03-27 20:08:06', 'link': 'https://login.airavirtual.com/postula/M3tOOEVVRJeK2DnsumJF', 'publication_days': 29}, {'id': 408182, 'company': 'El Puerto de Liverpool', 'company_logo': 'https://gcs-files.airavirtual.com/public/companies_assets/el_puerto_de_liverpool/logo.png?timestamp=1648567910', 'name': 'Especialista de Cobranza Corporativa', 'country_id': 'mexico', 'country': 'México', 'confidential': 0, 'city_id': 'mexico##ciudad_de_mexico##cuajimalpa_de_morelos', 'city': 'Cuajimalpa de morelos', 'region_id': 'mexico##ciudad_de_mexico', 'region': 'Ciudad de mexico', 'district_id': None, 'district': '', 'flag': '🇲🇽', 'hire_mode_id': 'FULL_TIME', 'hire_mode': 'Full Time', 'remote_work_id': 'PARTIALLY_REMOTE', 'remote_work': 'Presencial y remoto', 'contract_type_id': 'OPEN_ENDED', 'contract_type': 'Permanente (Indefinido)', 'area_id': 'finanzas_control_de_gestion_y_contabilidad', 'area': 'Finanzas, Control de Gestión y Contabilidad', 'subarea_id': 'finanzas_control_de_gestion_y_contabilidad##creditos_y_cobranzas', 'subarea': 'Créditos y Cobranzas', 'last_access_offer': '2024-03-26 20:58:38', 'link': 'https://login.airavirtual.com/postula/FjVqy0tMZrssY0s2JOY7', 'publication_days': 29}, {'id': 407330, 'company': 'El Puerto de Liverpool', 'company_logo': 'https://gcs-files.airavirtual.com/public/companies_assets/el_puerto_de_liverpool/logo.png?timestamp=1648567910', 'name': 'Sap Basis', 'country_id': 'mexico', 'country': 'México', 'confidential': 0, 'city_id': 'mexico##ciudad_de_mexico##cuajimalpa_de_morelos', 'city': 'Cuajimalpa de morelos', 'region_id': 'mexico##ciudad_de_mexico', 'region': 'Ciudad de mexico', 'district_id': None, 'district': '', 'flag': '🇲🇽', 'hire_mode_id': 'FULL_TIME', 'hire_mode': 'Full Time', 'remote_work_id': 'PARTIALLY_REMOTE', 'remote_work': 'Presencial y remoto', 'contract_type_id': 'OPEN_ENDED', 'contract_type': 'Permanente (Indefinido)', 'area_id': 'tecnologia_e_informatica', 'area': 'Tecnología e Informática', 'subarea_id': 'tecnologia_e_informatica##base_de_datos', 'subarea': 'Base de Datos', 'last_access_offer': '2024-03-19 12:11:26', 'link': 'https://login.airavirtual.com/postula/bq7XzdJpD0xSIs8o7ak0', 'publication_days': 33}, {'id': 407367, 'company': 'El Puerto de Liverpool', 'company_logo': 'https://gcs-files.airavirtual.com/public/companies_assets/el_puerto_de_liverpool/logo.png?timestamp=1648567910', 'name': 'Consultor Jr Modelado de Datos', 'country_id': 'mexico', 'country': 'México', 'confidential': 0, 'city_id': 'mexico##estado_de_mexico##cuautitlan', 'city': 'Cuautitlan', 'region_id': 'mexico##estado_de_mexico', 'region': 'Estado de mexico', 'district_id': None, 'district': '', 'flag': '🇲🇽', 'hire_mode_id': 'FULL_TIME', 'hire_mode': 'Full Time', 'remote_work_id': 'NO_REMOTE', 'remote_work': 'Presencial', 'contract_type_id': 'OPEN_ENDED', 'contract_type': 'Permanente (Indefinido)', 'area_id': 'data_y_business_intelligence', 'area': 'Data y Business Intelligence', 'subarea_id': 'data_y_business_intelligence##data_analysis_estadistica', 'subarea': 'Data Analysis (Estadística)', 'last_access_offer': '2024-03-27 12:28:47', 'link': 'https://login.airavirtual.com/postula/lwGFu4703s5pFB8gzQvj', 'publication_days': 33}, {'id': 407349, 'company': 'El Puerto de Liverpool', 'company_logo': 'https://gcs-files.airavirtual.com/public/companies_assets/el_puerto_de_liverpool/logo.png?timestamp=1648567910', 'name': 'Coordinador Servicios Comerciales', 'country_id': 'mexico', 'country': 'México', 'confidential': 0, 'city_id': 'mexico##ciudad_de_mexico##cuajimalpa_de_morelos', 'city': 'Cuajimalpa de morelos', 'region_id': 'mexico##ciudad_de_mexico', 'region': 'Ciudad de mexico', 'district_id': None, 'district': '', 'flag': '🇲🇽', 'hire_mode_id': 'FULL_TIME', 'hire_mode': 'Full Time', 'remote_work_id': 'PARTIALLY_REMOTE', 'remote_work': 'Presencial y remoto', 'contract_type_id': 'OPEN_ENDED', 'contract_type': 'Permanente (Indefinido)', 'area_id': 'logistica_compras_y_abastecimiento', 'area': 'Logística, Compras y Abastecimiento', 'subarea_id': 'logistica_compras_y_abastecimiento##compras_compras_y_abastecimiento', 'subarea': 'Compras / Compras y Abastecimiento', 'last_access_offer': '2024-04-01 12:53:21', 'link': 'https://login.airavirtual.com/postula/CnuxAZrKk5ouWA8Pcx6j', 'publication_days': 32}, {'id': 407220, 'company': 'El Puerto de Liverpool', 'company_logo': 'https://gcs-files.airavirtual.com/public/companies_assets/el_puerto_de_liverpool/logo.png?timestamp=1648567910', 'name': 'Especialista Seguridad y Salud en el Trabajo', 'country_id': 'mexico', 'country': 'México', 'confidential': 0, 'city_id': 'mexico##ciudad_de_mexico##cuajimalpa_de_morelos', 'city': 'Cuajimalpa de morelos', 'region_id': 'mexico##ciudad_de_mexico', 'region': 'Ciudad de mexico', 'district_id': None, 'district': '', 'flag': '🇲🇽', 'hire_mode_id': 'FULL_TIME', 'hire_mode': 'Full Time', 'remote_work_id': 'NO_REMOTE', 'remote_work': 'Presencial', 'contract_type_id': 'OPEN_ENDED', 'contract_type': 'Permanente (Indefinido)', 'area_id': 'recursos_humanos', 'area': 'Recursos Humanos', 'subarea_id': 'recursos_humanos##relaciones_laborales', 'subarea': 'Relaciones Laborales', 'last_access_offer': '2024-03-25 10:03:38', 'link': 'https://login.airavirtual.com/postula/azh6RenP0RrPvUJc6L4J', 'publication_days': 32}, {'id': 405593, 'company': 'El Puerto de Liverpool', 'company_logo': 'https://gcs-files.airavirtual.com/public/companies_assets/el_puerto_de_liverpool/logo.png?timestamp=1648567910', 'name': 'Ingeniero en Seguridad de la Información', 'country_id': 'mexico', 'country': 'México', 'confidential': 0, 'city_id': 'mexico##ciudad_de_mexico##cuajimalpa_de_morelos', 'city': 'Cuajimalpa de morelos', 'region_id': 'mexico##ciudad_de_mexico', 'region': 'Ciudad de mexico', 'district_id': None, 'district': '', 'flag': '🇲🇽', 'hire_mode_id': 'FULL_TIME', 'hire_mode': 'Full Time', 'remote_work_id': 'PARTIALLY_REMOTE', 'remote_work': 'Presencial y remoto', 'contract_type_id': 'OPEN_ENDED', 'contract_type': 'Permanente (Indefinido)', 'area_id': 'tecnologia_e_informatica', 'area': 'Tecnología e Informática', 'subarea_id': 'tecnologia_e_informatica##base_de_datos', 'subarea': 'Base de Datos', 'last_access_offer': '2024-04-01 15:32:30', 'link': 'https://login.airavirtual.com/postula/3Mbj7qdAywko9xM4CxnK', 'publication_days': 32}, {'id': 407180, 'company': 'El Puerto de Liverpool', 'company_logo': 'https://gcs-files.airavirtual.com/public/companies_assets/el_puerto_de_liverpool/logo.png?timestamp=1648567910', 'name': 'Account Executive', 'country_id': 'mexico', 'country': 'México', 'confidential': 0, 'city_id': 'mexico##ciudad_de_mexico##cuajimalpa_de_morelos', 'city': 'Cuajimalpa de morelos', 'region_id': 'mexico##ciudad_de_mexico', 'region': 'Ciudad de mexico', 'district_id': None, 'district': '', 'flag': '🇲🇽', 'hire_mode_id': 'FULL_TIME', 'hire_mode': 'Full Time', 'remote_work_id': 'NO_REMOTE', 'remote_work': 'Presencial', 'contract_type_id': 'OPEN_ENDED', 'contract_type': 'Permanente (Indefinido)', 'area_id': 'venta_y_post_venta_empresas_b2b', 'area': 'Venta y Post Venta - Empresas (B2B)', 'subarea_id': 'venta_y_post_venta_empresas_b2b##venta_a_empresas_b2b', 'subarea': 'Venta a Empresas (B2B)', 'last_access_offer': '2024-03-27 15:45:03', 'link': 'https://login.airavirtual.com/postula/jo9FnJ0WZnpaCuHbYqcA', 'publication_days': 35}, {'id': 407026, 'company': 'El Puerto de Liverpool', 'company_logo': 'https://gcs-files.airavirtual.com/public/companies_assets/el_puerto_de_liverpool/logo.png?timestamp=1648567910', 'name': 'Agile Coach SR', 'country_id': 'mexico', 'country': 'México', 'confidential': 0, 'city_id': 'mexico##ciudad_de_mexico##cuajimalpa_de_morelos', 'city': 'Cuajimalpa de morelos', 'region_id': 'mexico##ciudad_de_mexico', 'region': 'Ciudad de mexico', 'district_id': None, 'district': '', 'flag': '🇲🇽', 'hire_mode_id': 'FULL_TIME', 'hire_mode': 'Full Time', 'remote_work_id': 'NO_REMOTE', 'remote_work': 'Presencial', 'contract_type_id': 'OPEN_ENDED', 'contract_type': 'Permanente (Indefinido)', 'area_id': 'producto_digital', 'area': 'Producto Digital', 'subarea_id': 'producto_digital##product_owner_scrum', 'subarea': 'Product Owner - Scrum', 'last_access_offer': '2024-03-25 13:11:42', 'link': 'https://login.airavirtual.com/postula/SasRDPxxXtUorJ90Tz5S', 'publication_days': 20}, {'id': 406871, 'company': 'El Puerto de Liverpool', 'company_logo': 'https://gcs-files.airavirtual.com/public/companies_assets/el_puerto_de_liverpool/logo.png?timestamp=1648567910', 'name': 'Gerente Browse Ecommerce', 'country_id': 'mexico', 'country': 'México', 'confidential': 0, 'city_id': 'mexico##ciudad_de_mexico##cuajimalpa_de_morelos', 'city': 'Cuajimalpa de morelos', 'region_id': 'mexico##ciudad_de_mexico', 'region': 'Ciudad de mexico', 'district_id': None, 'district': '', 'flag': '🇲🇽', 'hire_mode_id': 'FULL_TIME', 'hire_mode': 'Full Time', 'remote_work_id': 'NO_REMOTE', 'remote_work': 'Presencial', 'contract_type_id': 'OPEN_ENDED', 'contract_type': 'Permanente (Indefinido)', 'area_id': 'marketing', 'area': 'Marketing', 'subarea_id': 'marketing##e_commerce', 'subarea': 'E-commerce', 'last_access_offer': '2024-03-08 12:23:09', 'link': 'https://login.airavirtual.com/postula/qNqJki6wy7nqav3Db4Ur', 'publication_days': 34}, {'id': 405765, 'company': 'El Puerto de Liverpool', 'company_logo': 'https://gcs-files.airavirtual.com/public/companies_assets/el_puerto_de_liverpool/logo.png?timestamp=1648567910', 'name': 'Consultor Jr. Marketing Digital / SEM', 'country_id': 'mexico', 'country': 'México', 'confidential': 0, 'city_id': 'mexico##ciudad_de_mexico##cuajimalpa_de_morelos', 'city': 'Cuajimalpa de morelos', 'region_id': 'mexico##ciudad_de_mexico', 'region': 'Ciudad de mexico', 'district_id': None, 'district': '', 'flag': '🇲🇽', 'hire_mode_id': 'FULL_TIME', 'hire_mode': 'Full Time', 'remote_work_id': 'NO_REMOTE', 'remote_work': 'Presencial', 'contract_type_id': 'OPEN_ENDED', 'contract_type': 'Permanente (Indefinido)', 'area_id': 'marketing', 'area': 'Marketing', 'subarea_id': 'marketing##e_commerce', 'subarea': 'E-commerce', 'last_access_offer': '2024-03-26 12:23:04', 'link': 'https://login.airavirtual.com/postula/Vrzb6liE46PGiO3Jg0EV', 'publication_days': 32}, {'id': 406540, 'company': 'El Puerto de Liverpool', 'company_logo': 'https://gcs-files.airavirtual.com/public/companies_assets/el_puerto_de_liverpool/logo.png?timestamp=1648567910', 'name': 'Desarrollador POS', 'country_id': 'mexico', 'country': 'México', 'confidential': 0, 'city_id': 'mexico##ciudad_de_mexico##cuajimalpa_de_morelos', 'city': 'Cuajimalpa de morelos', 'region_id': 'mexico##ciudad_de_mexico', 'region': 'Ciudad de mexico', 'district_id': None, 'district': '', 'flag': '🇲🇽', 'hire_mode_id': 'FULL_TIME', 'hire_mode': 'Full Time', 'remote_work_id': 'PARTIALLY_REMOTE', 'remote_work': 'Presencial y remoto', 'contract_type_id': 'OPEN_ENDED', 'contract_type': 'Permanente (Indefinido)', 'area_id': 'procesos_estrategia_y_tranformacion_digital', 'area': 'Procesos, Estrategia y Tranformación Digital', 'subarea_id': 'procesos_estrategia_y_tranformacion_digital##transformacion_digital', 'subarea': 'Transformación Digital', 'last_access_offer': '2024-03-26 13:30:22', 'link': 'https://login.airavirtual.com/postula/qyzbejnsNgTHZLt7oRqA', 'publication_days': 38}, {'id': 404696, 'company': 'El Puerto de Liverpool', 'company_logo': 'https://gcs-files.airavirtual.com/public/companies_assets/el_puerto_de_liverpool/logo.png?timestamp=1648567910', 'name': 'Jefe Advanced Analytics', 'country_id': 'mexico', 'country': 'México', 'confidential': 0, 'city_id': 'mexico##ciudad_de_mexico##cuajimalpa_de_morelos', 'city': 'Cuajimalpa de morelos', 'region_id': 'mexico##ciudad_de_mexico', 'region': 'Ciudad de mexico', 'district_id': None, 'district': '', 'flag': '🇲🇽', 'hire_mode_id': 'FULL_TIME', 'hire_mode': 'Full Time', 'remote_work_id': 'NO_REMOTE', 'remote_work': 'Presencial', 'contract_type_id': 'OPEN_ENDED', 'contract_type': 'Permanente (Indefinido)', 'area_id': 'data_y_business_intelligence', 'area': 'Data y Business Intelligence', 'subarea_id': 'data_y_business_intelligence##base_de_datos_y_big_data', 'subarea': 'Base de Datos y Big Data', 'last_access_offer': '2024-03-20 13:20:43', 'link': 'https://login.airavirtual.com/postula/EhRNSQzAelX6Ujm3aj5Q', 'publication_days': 39}, {'id': 406317, 'company': 'El Puerto de Liverpool', 'company_logo': 'https://gcs-files.airavirtual.com/public/companies_assets/el_puerto_de_liverpool/logo.png?timestamp=1648567910', 'name': 'Coordinador de Modelo de Datos', 'country_id': 'mexico', 'country': 'México', 'confidential': 0, 'city_id': 'mexico##estado_de_mexico##cuautitlan_izcalli', 'city': 'Cuautitlan izcalli', 'region_id': 'mexico##estado_de_mexico', 'region': 'Estado de mexico', 'district_id': None, 'district': '', 'flag': '🇲🇽', 'hire_mode_id': 'FULL_TIME', 'hire_mode': 'Full Time', 'remote_work_id': 'NO_REMOTE', 'remote_work': 'Presencial', 'contract_type_id': 'OPEN_ENDED', 'contract_type': 'Permanente (Indefinido)', 'area_id': 'data_y_business_intelligence', 'area': 'Data y Business Intelligence', 'subarea_id': 'data_y_business_intelligence##generacion_de_datos_etl', 'subarea': 'Generación de Datos (ETL)', 'last_access_offer': '2024-03-27 15:06:54', 'link': 'https://login.airavirtual.com/postula/8BhixRcKEdTMhVMw5zNq', 'publication_days': 32}, {'id': 405931, 'company': 'El Puerto de Liverpool', 'company_logo': 'https://gcs-files.airavirtual.com/public/companies_assets/el_puerto_de_liverpool/logo.png?timestamp=1648567910', 'name': 'Procurement Construction', 'country_id': 'mexico', 'country': 'México', 'confidential': 0, 'city_id': 'mexico##ciudad_de_mexico##cuajimalpa_de_morelos', 'city': 'Cuajimalpa de morelos', 'region_id': 'mexico##ciudad_de_mexico', 'region': 'Ciudad de mexico', 'district_id': None, 'district': '', 'flag': '🇲🇽', 'hire_mode_id': 'FULL_TIME', 'hire_mode': 'Full Time', 'remote_work_id': 'NO_REMOTE', 'remote_work': 'Presencial', 'contract_type_id': 'OPEN_ENDED', 'contract_type': 'Permanente (Indefinido)', 'area_id': 'logistica_compras_y_abastecimiento', 'area': 'Logística, Compras y Abastecimiento', 'subarea_id': 'logistica_compras_y_abastecimiento##compras_compras_y_abastecimiento', 'subarea': 'Compras / Compras y Abastecimiento', 'last_access_offer': '2024-03-11 14:29:48', 'link': 'https://login.airavirtual.com/postula/gsCrUbqxqK2hSxWmhVKP', 'publication_days': 40}, {'id': 405824, 'company': 'El Puerto de Liverpool', 'company_logo': 'https://gcs-files.airavirtual.com/public/companies_assets/el_puerto_de_liverpool/logo.png?timestamp=1648567910', 'name': 'Coordinador Mantenimiento, Temporal', 'country_id': 'mexico', 'country': 'México', 'confidential': 0, 'city_id': 'mexico##ciudad_de_mexico##cuajimalpa_de_morelos', 'city': 'Cuajimalpa de morelos', 'region_id': 'mexico##ciudad_de_mexico', 'region': 'Ciudad de mexico', 'district_id': None, 'district': '', 'flag': '🇲🇽', 'hire_mode_id': 'FULL_TIME', 'hire_mode': 'Full Time', 'remote_work_id': 'NO_REMOTE', 'remote_work': 'Presencial', 'contract_type_id': 'FIXED_TERM', 'contract_type': 'Temporal (Plazo Fijo)', 'area_id': 'recursos_humanos', 'area': 'Recursos Humanos', 'subarea_id': 'recursos_humanos##hr_business_partner', 'subarea': 'HR Business Partner', 'last_access_offer': '2024-03-19 13:11:14', 'link': 'https://login.airavirtual.com/postula/WWHZ9TMBXvwqfccfGbBv', 'publication_days': 40}, {'id': 405681, 'company': 'El Puerto de Liverpool', 'company_logo': 'https://gcs-files.airavirtual.com/public/companies_assets/el_puerto_de_liverpool/logo.png?timestamp=1648567910', 'name': 'Desarrollador Java', 'country_id': 'mexico', 'country': 'México', 'confidential': 0, 'city_id': 'mexico##ciudad_de_mexico##cuajimalpa_de_morelos', 'city': 'Cuajimalpa de morelos', 'region_id': 'mexico##ciudad_de_mexico', 'region': 'Ciudad de mexico', 'district_id': None, 'district': '', 'flag': '🇲🇽', 'hire_mode_id': 'FULL_TIME', 'hire_mode': 'Full Time', 'remote_work_id': 'PARTIALLY_REMOTE', 'remote_work': 'Presencial y remoto', 'contract_type_id': 'OPEN_ENDED', 'contract_type': 'Permanente (Indefinido)', 'area_id': 'tecnologia_e_informatica', 'area': 'Tecnología e Informática', 'subarea_id': 'tecnologia_e_informatica##programacion_back_end', 'subarea': 'Programación Back-End', 'last_access_offer': '2024-03-13 11:56:10', 'link': 'https://login.airavirtual.com/postula/uRwqgaXKguwRwVEEg2I3', 'publication_days': 41}, {'id': 405673, 'company': 'El Puerto de Liverpool', 'company_logo': 'https://gcs-files.airavirtual.com/public/companies_assets/el_puerto_de_liverpool/logo.png?timestamp=1648567910', 'name': 'Soporte SAP', 'country_id': 'mexico', 'country': 'México', 'confidential': 0, 'city_id': 'mexico##ciudad_de_mexico##cuajimalpa_de_morelos', 'city': 'Cuajimalpa de morelos', 'region_id': 'mexico##ciudad_de_mexico', 'region': 'Ciudad de mexico', 'district_id': None, 'district': '', 'flag': '🇲🇽', 'hire_mode_id': 'FULL_TIME', 'hire_mode': 'Full Time', 'remote_work_id': 'NO_REMOTE', 'remote_work': 'Presencial', 'contract_type_id': 'OPEN_ENDED', 'contract_type': 'Permanente (Indefinido)', 'area_id': 'tecnologia_e_informatica', 'area': 'Tecnología e Informática', 'subarea_id': 'tecnologia_e_informatica##soporte_tecnico', 'subarea': 'Soporte Técnico', 'last_access_offer': '2024-03-26 13:30:27', 'link': 'https://login.airavirtual.com/postula/wc03wWeTOVyOD6RtUTzJ', 'publication_days': 41}, {'id': 405232, 'company': 'El Puerto de Liverpool', 'company_logo': 'https://gcs-files.airavirtual.com/public/companies_assets/el_puerto_de_liverpool/logo.png?timestamp=1648567910', 'name': 'Coordinador Comercial Ecommerce', 'country_id': 'mexico', 'country': 'México', 'confidential': 0, 'city_id': 'mexico##ciudad_de_mexico##cuajimalpa_de_morelos', 'city': 'Cuajimalpa de morelos', 'region_id': 'mexico##ciudad_de_mexico', 'region': 'Ciudad de mexico', 'district_id': None, 'district': '', 'flag': '🇲🇽', 'hire_mode_id': 'FULL_TIME', 'hire_mode': 'Full Time', 'remote_work_id': 'NO_REMOTE', 'remote_work': 'Presencial', 'contract_type_id': 'OPEN_ENDED', 'contract_type': 'Permanente (Indefinido)', 'area_id': 'marketing', 'area': 'Marketing', 'subarea_id': 'marketing##trade_marketing', 'subarea': 'Trade Marketing', 'last_access_offer': '2024-03-26 14:47:04', 'link': 'https://login.airavirtual.com/postula/yaL4GBb0I41OIIPVBsRR', 'publication_days': 42}, {'id': 393325, 'company': 'El Puerto de Liverpool', 'company_logo': 'https://gcs-files.airavirtual.com/public/companies_assets/el_puerto_de_liverpool/logo.png?timestamp=1648567910', 'name': 'Coordinación  de prevención de perdidas', 'country_id': 'mexico', 'country': 'México', 'confidential': 0, 'city_id': 'mexico##ciudad_de_mexico##cuajimalpa_de_morelos', 'city': 'Cuajimalpa de morelos', 'region_id': 'mexico##ciudad_de_mexico', 'region': 'Ciudad de mexico', 'district_id': None, 'district': '', 'flag': '🇲🇽', 'hire_mode_id': 'FULL_TIME', 'hire_mode': 'Full Time', 'remote_work_id': 'NO_REMOTE', 'remote_work': 'Presencial', 'contract_type_id': 'OPEN_ENDED', 'contract_type': 'Permanente (Indefinido)', 'area_id': 'finanzas_control_de_gestion_y_contabilidad', 'area': 'Finanzas, Control de Gestión y Contabilidad', 'subarea_id': 'finanzas_control_de_gestion_y_contabilidad##analisis_de_riesgo', 'subarea': 'Análisis de Riesgo', 'last_access_offer': '2024-03-14 19:29:57', 'link': 'https://login.airavirtual.com/postula/Xm6auAUTMbd8u5LdbR3R', 'publication_days': 42}, {'id': 405161, 'company': 'El Puerto de Liverpool', 'company_logo': 'https://gcs-files.airavirtual.com/public/companies_assets/el_puerto_de_liverpool/logo.png?timestamp=1648567910', 'name': 'Comprador Estratégico Abastecimientos', 'country_id': 'mexico', 'country': 'México', 'confidential': 0, 'city_id': 'mexico##ciudad_de_mexico##cuajimalpa_de_morelos', 'city': 'Cuajimalpa de morelos', 'region_id': 'mexico##ciudad_de_mexico', 'region': 'Ciudad de mexico', 'district_id': None, 'district': '', 'flag': '🇲🇽', 'hire_mode_id': 'FULL_TIME', 'hire_mode': 'Full Time', 'remote_work_id': 'PARTIALLY_REMOTE', 'remote_work': 'Presencial y remoto', 'contract_type_id': 'OPEN_ENDED', 'contract_type': 'Permanente (Indefinido)', 'area_id': 'logistica_compras_y_abastecimiento', 'area': 'Logística, Compras y Abastecimiento', 'subarea_id': 'logistica_compras_y_abastecimiento##compras_compras_y_abastecimiento', 'subarea': 'Compras / Compras y Abastecimiento', 'last_access_offer': '2024-03-25 10:45:00', 'link': 'https://login.airavirtual.com/postula/ZX4j7QnIHpkxdFYSjzlb', 'publication_days': 43}, {'id': 404777, 'company': 'El Puerto de Liverpool', 'company_logo': 'https://gcs-files.airavirtual.com/public/companies_assets/el_puerto_de_liverpool/logo.png?timestamp=1648567910', 'name': 'Coordinador Relaciones Laborales', 'country_id': 'mexico', 'country': 'México', 'confidential': 0, 'city_id': 'mexico##ciudad_de_mexico##cuajimalpa_de_morelos', 'city': 'Cuajimalpa de morelos', 'region_id': 'mexico##ciudad_de_mexico', 'region': 'Ciudad de mexico', 'district_id': None, 'district': '', 'flag': '🇲🇽', 'hire_mode_id': 'FULL_TIME', 'hire_mode': 'Full Time', 'remote_work_id': 'PARTIALLY_REMOTE', 'remote_work': 'Presencial y remoto', 'contract_type_id': 'OPEN_ENDED', 'contract_type': 'Permanente (Indefinido)', 'area_id': 'recursos_humanos', 'area': 'Recursos Humanos', 'subarea_id': 'recursos_humanos##relaciones_laborales', 'subarea': 'Relaciones Laborales', 'last_access_offer': '2024-03-29 16:47:48', 'link': 'https://login.airavirtual.com/postula/Fdcksp9jBDQSMwozr9eN', 'publication_days': 46}, {'id': 403972, 'company': 'El Puerto de Liverpool', 'company_logo': 'https://gcs-files.airavirtual.com/public/companies_assets/el_puerto_de_liverpool/logo.png?timestamp=1648567910', 'name': 'Desarrollador Spring Boot Senior', 'country_id': 'mexico', 'country': 'México', 'confidential': 0, 'city_id': 'mexico##ciudad_de_mexico##cuajimalpa_de_morelos', 'city': 'Cuajimalpa de morelos', 'region_id': 'mexico##ciudad_de_mexico', 'region': 'Ciudad de mexico', 'district_id': None, 'district': '', 'flag': '🇲🇽', 'hire_mode_id': 'FULL_TIME', 'hire_mode': 'Full Time', 'remote_work_id': 'PARTIALLY_REMOTE', 'remote_work': 'Presencial y remoto', 'contract_type_id': 'OPEN_ENDED', 'contract_type': 'Permanente (Indefinido)', 'area_id': 'tecnologia_e_informatica', 'area': 'Tecnología e Informática', 'subarea_id': 'tecnologia_e_informatica##base_de_datos', 'subarea': 'Base de Datos', 'last_access_offer': '2024-03-04 13:12:57', 'link': 'https://login.airavirtual.com/postula/jiathsxSU9eBPEPhYrqo', 'publication_days': 48}, {'id': 395441, 'company': 'El Puerto de Liverpool', 'company_logo': 'https://gcs-files.airavirtual.com/public/companies_assets/el_puerto_de_liverpool/logo.png?timestamp=1648567910', 'name': 'Desarrollador IOS', 'country_id': 'mexico', 'country': 'México', 'confidential': 0, 'city_id': 'mexico##ciudad_de_mexico##cuajimalpa_de_morelos', 'city': 'Cuajimalpa de morelos', 'region_id': 'mexico##ciudad_de_mexico', 'region': 'Ciudad de mexico', 'district_id': None, 'district': '', 'flag': '🇲🇽', 'hire_mode_id': 'FULL_TIME', 'hire_mode': 'Full Time', 'remote_work_id': 'PARTIALLY_REMOTE', 'remote_work': 'Presencial y remoto', 'contract_type_id': 'OPEN_ENDED', 'contract_type': 'Permanente (Indefinido)', 'area_id': 'tecnologia_e_informatica', 'area': 'Tecnología e Informática', 'subarea_id': 'tecnologia_e_informatica##base_de_datos', 'subarea': 'Base de Datos', 'last_access_offer': '2024-03-06 11:53:59', 'link': 'https://login.airavirtual.com/postula/CJe61OwEqMGcGPOtdVE7', 'publication_days': 48}, {'id': 403798, 'company': 'El Puerto de Liverpool', 'company_logo': 'https://gcs-files.airavirtual.com/public/companies_assets/el_puerto_de_liverpool/logo.png?timestamp=1648567910', 'name': 'Coordinación Java', 'country_id': 'mexico', 'country': 'México', 'confidential': 0, 'city_id': 'mexico##ciudad_de_mexico##cuajimalpa_de_morelos', 'city': 'Cuajimalpa de morelos', 'region_id': 'mexico##ciudad_de_mexico', 'region': 'Ciudad de mexico', 'district_id': None, 'district': '', 'flag': '🇲🇽', 'hire_mode_id': 'FULL_TIME', 'hire_mode': 'Full Time', 'remote_work_id': 'PARTIALLY_REMOTE', 'remote_work': 'Presencial y remoto', 'contract_type_id': 'OPEN_ENDED', 'contract_type': 'Permanente (Indefinido)', 'area_id': 'tecnologia_e_informatica', 'area': 'Tecnología e Informática', 'subarea_id': 'tecnologia_e_informatica##programacion_back_end', 'subarea': 'Programación Back-End', 'last_access_offer': '2024-03-22 15:47:09', 'link': 'https://login.airavirtual.com/postula/aT6NiMTi9Mqor4LAH9Wz', 'publication_days': 45}, {'id': 403447, 'company': 'El Puerto de Liverpool', 'company_logo': 'https://gcs-files.airavirtual.com/public/companies_assets/el_puerto_de_liverpool/logo.png?timestamp=1648567910', 'name': 'Jefatura SAP EWM', 'country_id': 'mexico', 'country': 'México', 'confidential': 0, 'city_id': 'mexico##ciudad_de_mexico##cuajimalpa_de_morelos', 'city': 'Cuajimalpa de morelos', 'region_id': 'mexico##ciudad_de_mexico', 'region': 'Ciudad de mexico', 'district_id': None, 'district': '', 'flag': '🇲🇽', 'hire_mode_id': 'FULL_TIME', 'hire_mode': 'Full Time', 'remote_work_id': 'NO_REMOTE', 'remote_work': 'Presencial', 'contract_type_id': 'OPEN_ENDED', 'contract_type': 'Permanente (Indefinido)', 'area_id': 'tecnologia_e_informatica', 'area': 'Tecnología e Informática', 'subarea_id': 'tecnologia_e_informatica##soporte_tecnico', 'subarea': 'Soporte Técnico', 'last_access_offer': '2024-02-21 15:54:00', 'link': 'https://login.airavirtual.com/postula/dcIrhfX2vgKHrtHJsEOP', 'publication_days': 43}, {'id': 403429, 'company': 'El Puerto de Liverpool', 'company_logo': 'https://gcs-files.airavirtual.com/public/companies_assets/el_puerto_de_liverpool/logo.png?timestamp=1648567910', 'name': 'Internship Program Start IT', 'country_id': 'mexico', 'country': 'México', 'confidential': 0, 'city_id': 'mexico##ciudad_de_mexico##cuajimalpa_de_morelos', 'city': 'Cuajimalpa de morelos', 'region_id': 'mexico##ciudad_de_mexico', 'region': 'Ciudad de mexico', 'district_id': None, 'district': '', 'flag': '🇲🇽', 'hire_mode_id': 'INTERNSHIP', 'hire_mode': 'Práctica / Pasantía', 'remote_work_id': 'NO_REMOTE', 'remote_work': 'Presencial', 'contract_type_id': 'FIXED_TERM', 'contract_type': 'Temporal (Plazo Fijo)', 'area_id': 'tecnologia_e_informatica', 'area': 'Tecnología e Informática', 'subarea_id': 'tecnologia_e_informatica##base_de_datos', 'subarea': 'Base de Datos', 'last_access_offer': '2024-03-26 17:27:34', 'link': 'https://login.airavirtual.com/postula/282aSjM4eqRhkYuYVftm', 'publication_days': 50}, {'id': 402684, 'company': 'El Puerto de Liverpool', 'company_logo': 'https://gcs-files.airavirtual.com/public/companies_assets/el_puerto_de_liverpool/logo.png?timestamp=1648567910', 'name': 'Principal Software Engineer', 'country_id': 'mexico', 'country': 'México', 'confidential': 0, 'city_id': 'mexico##ciudad_de_mexico##cuajimalpa_de_morelos', 'city': 'Cuajimalpa de morelos', 'region_id': 'mexico##ciudad_de_mexico', 'region': 'Ciudad de mexico', 'district_id': None, 'district': '', 'flag': '🇲🇽', 'hire_mode_id': 'FULL_TIME', 'hire_mode': 'Full Time', 'remote_work_id': 'PARTIALLY_REMOTE', 'remote_work': 'Presencial y remoto', 'contract_type_id': 'OPEN_ENDED', 'contract_type': 'Permanente (Indefinido)', 'area_id': 'tecnologia_e_informatica', 'area': 'Tecnología e Informática', 'subarea_id': 'tecnologia_e_informatica##base_de_datos', 'subarea': 'Base de Datos', 'last_access_offer': '2024-04-01 14:01:37', 'link': 'https://login.airavirtual.com/postula/UkvsbMFGhDRWFBDRnVvR', 'publication_days': 53}, {'id': 396076, 'company': 'El Puerto de Liverpool', 'company_logo': 'https://gcs-files.airavirtual.com/public/companies_assets/el_puerto_de_liverpool/logo.png?timestamp=1648567910', 'name': 'Technical Delivery Manager Retail', 'country_id': 'mexico', 'country': 'México', 'confidential': 0, 'city_id': 'mexico##ciudad_de_mexico##cuajimalpa_de_morelos', 'city': 'Cuajimalpa de morelos', 'region_id': 'mexico##ciudad_de_mexico', 'region': 'Ciudad de mexico', 'district_id': None, 'district': '', 'flag': '🇲🇽', 'hire_mode_id': 'FULL_TIME', 'hire_mode': 'Full Time', 'remote_work_id': 'PARTIALLY_REMOTE', 'remote_work': 'Presencial y remoto', 'contract_type_id': 'OPEN_ENDED', 'contract_type': 'Permanente (Indefinido)', 'area_id': 'tecnologia_e_informatica', 'area': 'Tecnología e Informática', 'subarea_id': 'tecnologia_e_informatica##base_de_datos', 'subarea': 'Base de Datos', 'last_access_offer': '2024-04-01 19:12:37', 'link': 'https://login.airavirtual.com/postula/C289gFjQhlJFSwoIyrx6', 'publication_days': 61}, {'id': 399390, 'company': 'El Puerto de Liverpool', 'company_logo': 'https://gcs-files.airavirtual.com/public/companies_assets/el_puerto_de_liverpool/logo.png?timestamp=1648567910', 'name': 'Desarrollador Java  Backend', 'country_id': 'mexico', 'country': 'México', 'confidential': 0, 'city_id': 'mexico##ciudad_de_mexico##cuajimalpa_de_morelos', 'city': 'Cuajimalpa de morelos', 'region_id': 'mexico##ciudad_de_mexico', 'region': 'Ciudad de mexico', 'district_id': None, 'district': '', 'flag': '🇲🇽', 'hire_mode_id': 'FULL_TIME', 'hire_mode': 'Full Time', 'remote_work_id': 'PARTIALLY_REMOTE', 'remote_work': 'Presencial y remoto', 'contract_type_id': 'OPEN_ENDED', 'contract_type': 'Permanente (Indefinido)', 'area_id': 'tecnologia_e_informatica', 'area': 'Tecnología e Informática', 'subarea_id': 'tecnologia_e_informatica##base_de_datos', 'subarea': 'Base de Datos', 'last_access_offer': '2024-04-01 13:56:40', 'link': 'https://login.airavirtual.com/postula/hJfGkNHsrds9aOlL3VCA', 'publication_days': 61}, {'id': 400542, 'company': 'El Puerto de Liverpool', 'company_logo': 'https://gcs-files.airavirtual.com/public/companies_assets/el_puerto_de_liverpool/logo.png?timestamp=1648567910', 'name': 'Desarrollador Backend', 'country_id': 'mexico', 'country': 'México', 'confidential': 0, 'city_id': 'mexico##ciudad_de_mexico##cuajimalpa_de_morelos', 'city': 'Cuajimalpa de morelos', 'region_id': 'mexico##ciudad_de_mexico', 'region': 'Ciudad de mexico', 'district_id': None, 'district': '', 'flag': '🇲🇽', 'hire_mode_id': 'FULL_TIME', 'hire_mode': 'Full Time', 'remote_work_id': 'PARTIALLY_REMOTE', 'remote_work': 'Presencial y remoto', 'contract_type_id': 'OPEN_ENDED', 'contract_type': 'Permanente (Indefinido)', 'area_id': 'tecnologia_e_informatica', 'area': 'Tecnología e Informática', 'subarea_id': 'tecnologia_e_informatica##base_de_datos', 'subarea': 'Base de Datos', 'last_access_offer': '2024-04-02 10:54:43', 'link': 'https://login.airavirtual.com/postula/gYaxFoW1hzcilUZqDD1I', 'publication_days': 7}, {'id': 400482, 'company': 'El Puerto de Liverpool', 'company_logo': 'https://gcs-files.airavirtual.com/public/companies_assets/el_puerto_de_liverpool/logo.png?timestamp=1648567910', 'name': 'Java Backend', 'country_id': 'mexico', 'country': 'México', 'confidential': 0, 'city_id': 'mexico##ciudad_de_mexico##cuajimalpa_de_morelos', 'city': 'Cuajimalpa de morelos', 'region_id': 'mexico##ciudad_de_mexico', 'region': 'Ciudad de mexico', 'district_id': None, 'district': '', 'flag': '🇲🇽', 'hire_mode_id': 'FULL_TIME', 'hire_mode': 'Full Time', 'remote_work_id': 'PARTIALLY_REMOTE', 'remote_work': 'Presencial y remoto', 'contract_type_id': 'OPEN_ENDED', 'contract_type': 'Permanente (Indefinido)', 'area_id': 'tecnologia_e_informatica', 'area': 'Tecnología e Informática', 'subarea_id': 'tecnologia_e_informatica##base_de_datos', 'subarea': 'Base de Datos', 'last_access_offer': '2024-04-02 10:25:07', 'link': 'https://login.airavirtual.com/postula/A2GJj5bB069UYL5uZjug', 'publication_days': 7}, {'id': 396074, 'company': 'El Puerto de Liverpool', 'company_logo': 'https://gcs-files.airavirtual.com/public/companies_assets/el_puerto_de_liverpool/logo.png?timestamp=1648567910', 'name': 'Technical Delivery Manager Back Office', 'country_id': 'mexico', 'country': 'México', 'confidential': 0, 'city_id': 'mexico##ciudad_de_mexico##cuajimalpa_de_morelos', 'city': 'Cuajimalpa de morelos', 'region_id': 'mexico##ciudad_de_mexico', 'region': 'Ciudad de mexico', 'district_id': None, 'district': '', 'flag': '🇲🇽', 'hire_mode_id': 'FULL_TIME', 'hire_mode': 'Full Time', 'remote_work_id': 'PARTIALLY_REMOTE', 'remote_work': 'Presencial y remoto', 'contract_type_id': 'OPEN_ENDED', 'contract_type': 'Permanente (Indefinido)', 'area_id': 'tecnologia_e_informatica', 'area': 'Tecnología e Informática', 'subarea_id': 'tecnologia_e_informatica##base_de_datos', 'subarea': 'Base de Datos', 'last_access_offer': '2024-04-01 13:59:18', 'link': 'https://login.airavirtual.com/postula/H5cUSi3lMia9ty0jiuvN', 'publication_days': 61}, {'id': 395828, 'company': 'El Puerto de Liverpool', 'company_logo': 'https://gcs-files.airavirtual.com/public/companies_assets/el_puerto_de_liverpool/logo.png?timestamp=1648567910', 'name': 'Technical Delivery Manager Finance', 'country_id': 'mexico', 'country': 'México', 'confidential': 0, 'city_id': 'mexico##ciudad_de_mexico##cuajimalpa_de_morelos', 'city': 'Cuajimalpa de morelos', 'region_id': 'mexico##ciudad_de_mexico', 'region': 'Ciudad de mexico', 'district_id': None, 'district': '', 'flag': '🇲🇽', 'hire_mode_id': 'FULL_TIME', 'hire_mode': 'Full Time', 'remote_work_id': 'PARTIALLY_REMOTE', 'remote_work': 'Presencial y remoto', 'contract_type_id': 'OPEN_ENDED', 'contract_type': 'Permanente (Indefinido)', 'area_id': 'tecnologia_e_informatica', 'area': 'Tecnología e Informática', 'subarea_id': 'tecnologia_e_informatica##base_de_datos', 'subarea': 'Base de Datos', 'last_access_offer': '2024-04-01 15:50:04', 'link': 'https://login.airavirtual.com/postula/QU3L7Dj63b00T2eaDAXl', 'publication_days': 63}, {'id': 396077, 'company': 'El Puerto de Liverpool', 'company_logo': 'https://gcs-files.airavirtual.com/public/companies_assets/el_puerto_de_liverpool/logo.png?timestamp=1648567910', 'name': 'Technical Delivery Manager Supply', 'country_id': 'mexico', 'country': 'México', 'confidential': 0, 'city_id': 'mexico##ciudad_de_mexico##cuajimalpa_de_morelos', 'city': 'Cuajimalpa de morelos', 'region_id': 'mexico##ciudad_de_mexico', 'region': 'Ciudad de mexico', 'district_id': None, 'district': '', 'flag': '🇲🇽', 'hire_mode_id': 'FULL_TIME', 'hire_mode': 'Full Time', 'remote_work_id': 'PARTIALLY_REMOTE', 'remote_work': 'Presencial y remoto', 'contract_type_id': 'OPEN_ENDED', 'contract_type': 'Permanente (Indefinido)', 'area_id': 'tecnologia_e_informatica', 'area': 'Tecnología e Informática', 'subarea_id': 'tecnologia_e_informatica##base_de_datos', 'subarea': 'Base de Datos', 'last_access_offer': '2024-04-01 13:49:58', 'link': 'https://login.airavirtual.com/postula/5j66snD9KWVKRBmk5kwn', 'publication_days': 61}, {'id': 395821, 'company': 'El Puerto de Liverpool', 'company_logo': 'https://gcs-files.airavirtual.com/public/companies_assets/el_puerto_de_liverpool/logo.png?timestamp=1648567910', 'name': 'Ingeniero Google Cloud Platform', 'country_id': 'mexico', 'country': 'México', 'confidential': 0, 'city_id': 'mexico##ciudad_de_mexico##cuajimalpa_de_morelos', 'city': 'Cuajimalpa de morelos', 'region_id': 'mexico##ciudad_de_mexico', 'region': 'Ciudad de mexico', 'district_id': None, 'district': '', 'flag': '🇲🇽', 'hire_mode_id': 'FULL_TIME', 'hire_mode': 'Full Time', 'remote_work_id': 'PARTIALLY_REMOTE', 'remote_work': 'Presencial y remoto', 'contract_type_id': 'OPEN_ENDED', 'contract_type': 'Permanente (Indefinido)', 'area_id': 'tecnologia_e_informatica', 'area': 'Tecnología e Informática', 'subarea_id': 'tecnologia_e_informatica##base_de_datos', 'subarea': 'Base de Datos', 'last_access_offer': '2024-04-01 13:50:32', 'link': 'https://login.airavirtual.com/postula/2rQPveVrOIe6iU1O9guu', 'publication_days': 65}], 'filters': [{'name': 'location', 'type': 'treeselect', 'options': [{'label': 'México (93)', 'id': 'mexico', 'children': [{'label': 'Ciudad de mexico (91)', 'id': 'mexico##ciudad_de_mexico', 'children': [{'label': 'Cuajimalpa de morelos (90)', 'id': 'mexico##ciudad_de_mexico##cuajimalpa_de_morelos', 'count': 90}, {'label': 'Iztapalapa (1)', 'id': 'mexico##ciudad_de_mexico##iztapalapa', 'count': 1}], 'count': 91}, {'label': 'Estado de mexico (2)', 'id': 'mexico##estado_de_mexico', 'children': [{'label': 'Cuautitlan (1)', 'id': 'mexico##estado_de_mexico##cuautitlan', 'count': 1}, {'label': 'Cuautitlan izcalli (1)', 'id': 'mexico##estado_de_mexico##cuautitlan_izcalli', 'count': 1}], 'count': 2}], 'count': 93}]}, {'name': 'area', 'type': 'treeselect', 'options': [{'label': 'Tecnología e Informática (40)', 'id': 'tecnologia_e_informatica', 'children': [{'label': 'Seguridad Informática (2)', 'id': 'tecnologia_e_informatica##seguridad_informatica', 'count': 2}, {'label': 'Programación Back-End (4)', 'id': 'tecnologia_e_informatica##programacion_back_end', 'count': 4}, {'label': 'Desarrollo Mobile (2)', 'id': 'tecnologia_e_informatica##desarrollo_mobile', 'count': 2}, {'label': 'Soporte Técnico (4)', 'id': 'tecnologia_e_informatica##soporte_tecnico', 'count': 4}, {'label': 'Testing, QA y QC (1)', 'id': 'tecnologia_e_informatica##testing_qa_y_qc', 'count': 1}, {'label': 'Scrum Master (1)', 'id': 'tecnologia_e_informatica##scrum_master', 'count': 1}, {'label': 'Base de Datos (21)', 'id': 'tecnologia_e_informatica##base_de_datos', 'count': 21}, {'label': 'Cloud Computing (1)', 'id': 'tecnologia_e_informatica##cloud_computing', 'count': 1}, {'label': 'Análisis de Sistemas (4)', 'id': 'tecnologia_e_informatica##analisis_de_sistemas', 'count': 4}], 'count': 40}, {'label': 'Data y Business Intelligence (9)', 'id': 'data_y_business_intelligence', 'children': [{'label': 'Generación de Datos (ETL) (2)', 'id': 'data_y_business_intelligence##generacion_de_datos_etl', 'count': 2}, {'label': 'Base de Datos y Big Data (2)', 'id': 'data_y_business_intelligence##base_de_datos_y_big_data', 'count': 2}, {'label': 'Data Science (Modelos, AI, ML) (1)', 'id': 'data_y_business_intelligence##data_science_modelos_ai_ml', 'count': 1}, {'label': 'Business Intelligence y Reportabilidad (3)', 'id': 'data_y_business_intelligence##business_intelligence_y_reportabilidad', 'count': 3}, {'label': 'Data Analysis (Estadística) (1)', 'id': 'data_y_business_intelligence##data_analysis_estadistica', 'count': 1}], 'count': 9}, {'label': 'Legal (4)', 'id': 'legal', 'children': [{'label': 'Derecho Comercial (1)', 'id': 'legal##derecho_comercial', 'count': 1}, {'label': 'Compliance (1)', 'id': 'legal##compliance', 'count': 1}, {'label': 'Derecho Laboral (2)', 'id': 'legal##derecho_laboral', 'count': 2}], 'count': 4}, {'label': 'Marketing (6)', 'id': 'marketing', 'children': [{'label': 'Marketing Digital (1)', 'id': 'marketing##marketing_digital', 'count': 1}, {'label': 'Email Marketing (1)', 'id': 'marketing##email_marketing', 'count': 1}, {'label': 'E-commerce (3)', 'id': 'marketing##e_commerce', 'count': 3}, {'label': 'Trade Marketing (1)', 'id': 'marketing##trade_marketing', 'count': 1}], 'count': 6}, {'label': 'Servicios Generales, Reparaciones y Limpieza (1)', 'id': 'servicios_generales_reparaciones_y_limpieza', 'children': [{'label': 'Mantención y Reparación (1)', 'id': 'servicios_generales_reparaciones_y_limpieza##mantencion_y_reparacion', 'count': 1}], 'count': 1}, {'label': 'Finanzas, Control de Gestión y Contabilidad (9)', 'id': 'finanzas_control_de_gestion_y_contabilidad', 'children': [{'label': 'Control de Gestión y Planeación Financiera (1)', 'id': 'finanzas_control_de_gestion_y_contabilidad##control_de_gestion_y_planeacion_financiera', 'count': 1}, {'label': 'Créditos y Cobranzas (2)', 'id': 'finanzas_control_de_gestion_y_contabilidad##creditos_y_cobranzas', 'count': 2}, {'label': 'Contabilidad y Auditoría (2)', 'id': 'finanzas_control_de_gestion_y_contabilidad##contabilidad_y_auditoria', 'count': 2}, {'label': 'Administración de Nómina - Sueldos y Compensaciones (2)', 'id': 'finanzas_control_de_gestion_y_contabilidad##administracion_de_nomina_sueldos_y_compensaciones', 'count': 2}, {'label': 'Análisis Financiero (1)', 'id': 'finanzas_control_de_gestion_y_contabilidad##analisis_financiero', 'count': 1}, {'label': 'Análisis de Riesgo (1)', 'id': 'finanzas_control_de_gestion_y_contabilidad##analisis_de_riesgo', 'count': 1}], 'count': 9}, {'label': 'Logística, Compras y Abastecimiento (6)', 'id': 'logistica_compras_y_abastecimiento', 'children': [{'label': 'Compras / Compras y Abastecimiento (5)', 'id': 'logistica_compras_y_abastecimiento##compras_compras_y_abastecimiento', 'count': 5}, {'label': 'Logística / Distribución (1)', 'id': 'logistica_compras_y_abastecimiento##logistica_distribucion', 'count': 1}], 'count': 6}, {'label': 'Procesos, Estrategia y Tranformación Digital (6)', 'id': 'procesos_estrategia_y_tranformacion_digital', 'children': [{'label': 'Transformación Digital (2)', 'id': 'procesos_estrategia_y_tranformacion_digital##transformacion_digital', 'count': 2}, {'label': 'Gestión y Levantamiento de Procesos (2)', 'id': 'procesos_estrategia_y_tranformacion_digital##gestion_y_levantamiento_de_procesos', 'count': 2}, {'label': 'Gestión y Evaluación de Proyectos (1)', 'id': 'procesos_estrategia_y_tranformacion_digital##gestion_y_evaluacion_de_proyectos', 'count': 1}, {'label': 'Especialista PMO (1)', 'id': 'procesos_estrategia_y_tranformacion_digital##especialista_pmo', 'count': 1}], 'count': 6}, {'label': 'Venta y Post Venta -  Personas (B2C) (1)', 'id': 'venta_y_post_venta_personas_b2c', 'children': [{'label': 'Venta de Intangibles (B2C) (1)', 'id': 'venta_y_post_venta_personas_b2c##venta_de_intangibles_b2c', 'count': 1}], 'count': 1}, {'label': 'Educación y Capacitación (1)', 'id': 'educacion_y_capacitacion', 'children': [{'label': 'Desarrollo Material Educacional (1)', 'id': 'educacion_y_capacitacion##desarrollo_material_educacional', 'count': 1}], 'count': 1}, {'label': 'Administración y Secretarías (2)', 'id': 'administracion_y_secretarias', 'children': [{'label': 'Administración (2)', 'id': 'administracion_y_secretarias##administracion', 'count': 2}], 'count': 2}, {'label': 'Recursos Humanos (4)', 'id': 'recursos_humanos', 'children': [{'label': 'Desarrollo y Capacitación Organizacional (1)', 'id': 'recursos_humanos##desarrollo_y_capacitacion_organizacional', 'count': 1}, {'label': 'Relaciones Laborales (2)', 'id': 'recursos_humanos##relaciones_laborales', 'count': 2}, {'label': 'HR Business Partner (1)', 'id': 'recursos_humanos##hr_business_partner', 'count': 1}], 'count': 4}, {'label': 'Producción y Manufactura (1)', 'id': 'produccion_y_manufactura', 'children': [{'label': 'Innovación y Desarrollo de Producto (1)', 'id': 'produccion_y_manufactura##innovacion_y_desarrollo_de_producto', 'count': 1}], 'count': 1}, {'label': 'Sustentabilidad y Medio Ambiente (1)', 'id': 'sustentabilidad_y_medio_ambiente', 'children': [{'label': 'Evaluación de Impacto Ambiental (1)', 'id': 'sustentabilidad_y_medio_ambiente##evaluacion_de_impacto_ambiental', 'count': 1}], 'count': 1}, {'label': 'Venta y Post Venta - Empresas (B2B) (1)', 'id': 'venta_y_post_venta_empresas_b2b', 'children': [{'label': 'Venta a Empresas (B2B) (1)', 'id': 'venta_y_post_venta_empresas_b2b##venta_a_empresas_b2b', 'count': 1}], 'count': 1}, {'label': 'Producto Digital (1)', 'id': 'producto_digital', 'children': [{'label': 'Product Owner - Scrum (1)', 'id': 'producto_digital##product_owner_scrum', 'count': 1}], 'count': 1}]}, {'name': 'company', 'type': 'select', 'options': [{'label': 'El Puerto de Liverpool (93)', 'id': 'El Puerto de Liverpool', 'count': 93}]}, {'name': 'hire_mode', 'type': 'select', 'options': [{'label': 'Full Time (89)', 'id': 'FULL_TIME', 'count': 89}, {'label': 'Part Time (2)', 'id': 'PART_TIME', 'count': 2}, {'label': 'Práctica / Pasantía (2)', 'id': 'INTERNSHIP', 'count': 2}]}, {'name': 'remote_work', 'type': 'select', 'options': [{'label': 'Presencial y remoto (47)', 'id': 'PARTIALLY_REMOTE', 'count': 47}, {'label': 'Presencial (46)', 'id': 'NO_REMOTE', 'count': 46}]}]}}\n"
     ]
    }
   ],
   "source": [
    "import json\n",
    "\n",
    "# Leer el archivo JSON descargado\n",
    "with open(\"aira_el_puerto_de_liverpool.json\", \"r\") as file:\n",
    "    data = json.load(file)\n",
    "\n",
    "# Mostrar el contenido del archivo JSON como un diccionario\n",
    "print(data)\n"
   ]
  },
  {
   "cell_type": "markdown",
   "metadata": {},
   "source": [
    "Links checker (2 maneras)"
   ]
  },
  {
   "cell_type": "code",
   "execution_count": 5,
   "metadata": {},
   "outputs": [
    {
     "name": "stdout",
     "output_type": "stream",
     "text": [
      "['https://login.airavirtual.com/postula/jAknMcEuo0KPKjB7wFmN', 'https://login.airavirtual.com/postula/EuPqkazUf9qouwIqeM1o', 'https://login.airavirtual.com/postula/dXWEQ7Kzv9DeOn7ThtYC', 'https://login.airavirtual.com/postula/HnZ2hZmEY92mBdLczuW2', 'https://login.airavirtual.com/postula/vCcVAz3XX3N6wXuQV7vI', 'https://login.airavirtual.com/postula/Mpm1Z2z6udjpy6oC0D8y', 'https://login.airavirtual.com/postula/vBmnDecrK58m5eUhFn0l', 'https://login.airavirtual.com/postula/JCzawRDq4ny3LD6OCe4E', 'https://login.airavirtual.com/postula/W4z84Jiv91B6x6qHWgva', 'https://login.airavirtual.com/postula/gjTnBvri1crC9gESCNQQ', 'https://login.airavirtual.com/postula/ZCLsjKWgoqnbeJ2GZtTF', 'https://login.airavirtual.com/postula/yJQFccVDPsz50ZpvsY6z', 'https://login.airavirtual.com/postula/LKpmnZPKSBrSq4WBsprV', 'https://login.airavirtual.com/postula/o7dz4eLFHOqW7SOWkRhB', 'https://login.airavirtual.com/postula/Sb4hRye2SZWG3Y0bgrJJ', 'https://login.airavirtual.com/postula/vfJQZPfPBWanz2uJ0ayS', 'https://login.airavirtual.com/postula/4HLdiC54VpxbFXlCpMij', 'https://login.airavirtual.com/postula/71FZbZ9vOUjMCAuhyEKv', 'https://login.airavirtual.com/postula/wSpOoMPmRT8MzIr2LGhc', 'https://login.airavirtual.com/postula/hRkqZjnfYnyhVr4dxtzU', 'https://login.airavirtual.com/postula/9Zi5Y83GAruCVuRq0Lyg', 'https://login.airavirtual.com/postula/P80IH0ZlEoMc1k0gbpIC', 'https://login.airavirtual.com/postula/9JwpWtvywg34Sxc1RwIy', 'https://login.airavirtual.com/postula/jbFeaVQfYO73sOPrsiA9', 'https://login.airavirtual.com/postula/mCVn6pOVqwBAvFiSv04b', 'https://login.airavirtual.com/postula/BBa4GR9kIo7UOiJET1Jz', 'https://login.airavirtual.com/postula/n0NBwKKztTHm0d4JATt3', 'https://login.airavirtual.com/postula/HB2tfvuX6M9h42KYgWLv', 'https://login.airavirtual.com/postula/sCbYwJWS4RTYbqJC6gJm', 'https://login.airavirtual.com/postula/3ZliPyUKRZ4lGrM8s9PK', 'https://login.airavirtual.com/postula/vi2Pd85gQDI1qlhIX9XJ', 'https://login.airavirtual.com/postula/YkNssoLntce5BvGYom0a', 'https://login.airavirtual.com/postula/eVeqkVI8rW6425Q2AX2M', 'https://login.airavirtual.com/postula/TyfywiVWBIzB2OkeO7WO', 'https://login.airavirtual.com/postula/7yLRFmbhaSHezcBms1UN', 'https://login.airavirtual.com/postula/I7Fw6RgYfnsbckQpmAMu', 'https://login.airavirtual.com/postula/3HNy92iaq56uQgczCcMn', 'https://login.airavirtual.com/postula/xEsMtAJ3CzhwzW7L43z2', 'https://login.airavirtual.com/postula/TH40gGYMk6MaeKhhmZAE', 'https://login.airavirtual.com/postula/T3sLuLKl4HSOUCNdvgNZ', 'https://login.airavirtual.com/postula/TjCfSygAfLy6d42Ttu4Y', 'https://login.airavirtual.com/postula/64jQxOYj00QSiBSprA2y', 'https://login.airavirtual.com/postula/DMlXjYgoFnaXDLUtM8QJ', 'https://login.airavirtual.com/postula/eQaav8ArFCzzIspmazTa', 'https://login.airavirtual.com/postula/1Ifn3srCqKsW14cUMFgY', 'https://login.airavirtual.com/postula/17CdqFMCpuPCWVGHqR0I', 'https://login.airavirtual.com/postula/SMTQCuae7rm74U6VQ7Fr', 'https://login.airavirtual.com/postula/DCBXvG9avc5qYRoDRKyL', 'https://login.airavirtual.com/postula/FOwSORpXR68TltaqmI2y', 'https://login.airavirtual.com/postula/EFTfRgcAsY98YNxXZ3NH', 'https://login.airavirtual.com/postula/7aRkp1gsQu4XAUFB8akV', 'https://login.airavirtual.com/postula/YMQnS7nl7prfpwEheGEu', 'https://login.airavirtual.com/postula/NfmszooVKcgwZF67g5pl', 'https://login.airavirtual.com/postula/iDgmrmYlUTfMhMHqO9rS', 'https://login.airavirtual.com/postula/7im5yPISpQR4RCTMkX3C', 'https://login.airavirtual.com/postula/2EBecE0KUNXA87e8XKs6', 'https://login.airavirtual.com/postula/M3tOOEVVRJeK2DnsumJF', 'https://login.airavirtual.com/postula/FjVqy0tMZrssY0s2JOY7', 'https://login.airavirtual.com/postula/bq7XzdJpD0xSIs8o7ak0', 'https://login.airavirtual.com/postula/lwGFu4703s5pFB8gzQvj', 'https://login.airavirtual.com/postula/CnuxAZrKk5ouWA8Pcx6j', 'https://login.airavirtual.com/postula/azh6RenP0RrPvUJc6L4J', 'https://login.airavirtual.com/postula/3Mbj7qdAywko9xM4CxnK', 'https://login.airavirtual.com/postula/jo9FnJ0WZnpaCuHbYqcA', 'https://login.airavirtual.com/postula/SasRDPxxXtUorJ90Tz5S', 'https://login.airavirtual.com/postula/qNqJki6wy7nqav3Db4Ur', 'https://login.airavirtual.com/postula/Vrzb6liE46PGiO3Jg0EV', 'https://login.airavirtual.com/postula/qyzbejnsNgTHZLt7oRqA', 'https://login.airavirtual.com/postula/EhRNSQzAelX6Ujm3aj5Q', 'https://login.airavirtual.com/postula/8BhixRcKEdTMhVMw5zNq', 'https://login.airavirtual.com/postula/gsCrUbqxqK2hSxWmhVKP', 'https://login.airavirtual.com/postula/WWHZ9TMBXvwqfccfGbBv', 'https://login.airavirtual.com/postula/uRwqgaXKguwRwVEEg2I3', 'https://login.airavirtual.com/postula/wc03wWeTOVyOD6RtUTzJ', 'https://login.airavirtual.com/postula/yaL4GBb0I41OIIPVBsRR', 'https://login.airavirtual.com/postula/Xm6auAUTMbd8u5LdbR3R', 'https://login.airavirtual.com/postula/ZX4j7QnIHpkxdFYSjzlb', 'https://login.airavirtual.com/postula/Fdcksp9jBDQSMwozr9eN', 'https://login.airavirtual.com/postula/jiathsxSU9eBPEPhYrqo', 'https://login.airavirtual.com/postula/CJe61OwEqMGcGPOtdVE7', 'https://login.airavirtual.com/postula/aT6NiMTi9Mqor4LAH9Wz', 'https://login.airavirtual.com/postula/dcIrhfX2vgKHrtHJsEOP', 'https://login.airavirtual.com/postula/282aSjM4eqRhkYuYVftm', 'https://login.airavirtual.com/postula/UkvsbMFGhDRWFBDRnVvR', 'https://login.airavirtual.com/postula/C289gFjQhlJFSwoIyrx6', 'https://login.airavirtual.com/postula/hJfGkNHsrds9aOlL3VCA', 'https://login.airavirtual.com/postula/gYaxFoW1hzcilUZqDD1I', 'https://login.airavirtual.com/postula/A2GJj5bB069UYL5uZjug', 'https://login.airavirtual.com/postula/H5cUSi3lMia9ty0jiuvN', 'https://login.airavirtual.com/postula/QU3L7Dj63b00T2eaDAXl', 'https://login.airavirtual.com/postula/5j66snD9KWVKRBmk5kwn', 'https://login.airavirtual.com/postula/2rQPveVrOIe6iU1O9guu']\n"
     ]
    }
   ],
   "source": [
    "url = \"https://gcs-storage.airavirtual.com/public/feeds/aira_el_puerto_de_liverpool.json?expires=1720735060&signature=88d25a8443deb4abe26b820edd309977\"\n",
    "\n",
    "# Definir el encabezado personalizado\n",
    "header = {'User-Agent': 'Mozilla/5.0 (Windows NT 10.0; Win64; x64) AppleWebKit/537.36 (KHTML, like Gecko) Chrome/98.0.4758.102 Safari/537.36'}\n",
    "\n",
    "response = requests.get(url, headers=header)\n",
    "json_data = response.json()\n",
    "\n",
    "offers_list = json_data['data']['offers']\n",
    "\n",
    "vacancy_links = [offer['link'] for offer in offers_list]\n",
    "\n",
    "print(vacancy_links)"
   ]
  },
  {
   "cell_type": "code",
   "execution_count": 2,
   "metadata": {},
   "outputs": [
    {
     "name": "stdout",
     "output_type": "stream",
     "text": [
      "['https://login.airavirtual.com/postula/jAknMcEuo0KPKjB7wFmN', 'https://login.airavirtual.com/postula/EuPqkazUf9qouwIqeM1o', 'https://login.airavirtual.com/postula/dXWEQ7Kzv9DeOn7ThtYC', 'https://login.airavirtual.com/postula/HnZ2hZmEY92mBdLczuW2', 'https://login.airavirtual.com/postula/vCcVAz3XX3N6wXuQV7vI', 'https://login.airavirtual.com/postula/Mpm1Z2z6udjpy6oC0D8y', 'https://login.airavirtual.com/postula/vBmnDecrK58m5eUhFn0l', 'https://login.airavirtual.com/postula/JCzawRDq4ny3LD6OCe4E', 'https://login.airavirtual.com/postula/W4z84Jiv91B6x6qHWgva', 'https://login.airavirtual.com/postula/gjTnBvri1crC9gESCNQQ', 'https://login.airavirtual.com/postula/ZCLsjKWgoqnbeJ2GZtTF', 'https://login.airavirtual.com/postula/yJQFccVDPsz50ZpvsY6z', 'https://login.airavirtual.com/postula/LKpmnZPKSBrSq4WBsprV', 'https://login.airavirtual.com/postula/o7dz4eLFHOqW7SOWkRhB', 'https://login.airavirtual.com/postula/Sb4hRye2SZWG3Y0bgrJJ', 'https://login.airavirtual.com/postula/vfJQZPfPBWanz2uJ0ayS', 'https://login.airavirtual.com/postula/4HLdiC54VpxbFXlCpMij', 'https://login.airavirtual.com/postula/71FZbZ9vOUjMCAuhyEKv', 'https://login.airavirtual.com/postula/wSpOoMPmRT8MzIr2LGhc', 'https://login.airavirtual.com/postula/hRkqZjnfYnyhVr4dxtzU', 'https://login.airavirtual.com/postula/9Zi5Y83GAruCVuRq0Lyg', 'https://login.airavirtual.com/postula/P80IH0ZlEoMc1k0gbpIC', 'https://login.airavirtual.com/postula/9JwpWtvywg34Sxc1RwIy', 'https://login.airavirtual.com/postula/jbFeaVQfYO73sOPrsiA9', 'https://login.airavirtual.com/postula/mCVn6pOVqwBAvFiSv04b', 'https://login.airavirtual.com/postula/BBa4GR9kIo7UOiJET1Jz', 'https://login.airavirtual.com/postula/n0NBwKKztTHm0d4JATt3', 'https://login.airavirtual.com/postula/HB2tfvuX6M9h42KYgWLv', 'https://login.airavirtual.com/postula/sCbYwJWS4RTYbqJC6gJm', 'https://login.airavirtual.com/postula/3ZliPyUKRZ4lGrM8s9PK', 'https://login.airavirtual.com/postula/vi2Pd85gQDI1qlhIX9XJ', 'https://login.airavirtual.com/postula/YkNssoLntce5BvGYom0a', 'https://login.airavirtual.com/postula/eVeqkVI8rW6425Q2AX2M', 'https://login.airavirtual.com/postula/TyfywiVWBIzB2OkeO7WO', 'https://login.airavirtual.com/postula/7yLRFmbhaSHezcBms1UN', 'https://login.airavirtual.com/postula/I7Fw6RgYfnsbckQpmAMu', 'https://login.airavirtual.com/postula/3HNy92iaq56uQgczCcMn', 'https://login.airavirtual.com/postula/xEsMtAJ3CzhwzW7L43z2', 'https://login.airavirtual.com/postula/TH40gGYMk6MaeKhhmZAE', 'https://login.airavirtual.com/postula/T3sLuLKl4HSOUCNdvgNZ', 'https://login.airavirtual.com/postula/TjCfSygAfLy6d42Ttu4Y', 'https://login.airavirtual.com/postula/64jQxOYj00QSiBSprA2y', 'https://login.airavirtual.com/postula/DMlXjYgoFnaXDLUtM8QJ', 'https://login.airavirtual.com/postula/eQaav8ArFCzzIspmazTa', 'https://login.airavirtual.com/postula/1Ifn3srCqKsW14cUMFgY', 'https://login.airavirtual.com/postula/17CdqFMCpuPCWVGHqR0I', 'https://login.airavirtual.com/postula/SMTQCuae7rm74U6VQ7Fr', 'https://login.airavirtual.com/postula/DCBXvG9avc5qYRoDRKyL', 'https://login.airavirtual.com/postula/FOwSORpXR68TltaqmI2y', 'https://login.airavirtual.com/postula/EFTfRgcAsY98YNxXZ3NH', 'https://login.airavirtual.com/postula/7aRkp1gsQu4XAUFB8akV', 'https://login.airavirtual.com/postula/YMQnS7nl7prfpwEheGEu', 'https://login.airavirtual.com/postula/NfmszooVKcgwZF67g5pl', 'https://login.airavirtual.com/postula/iDgmrmYlUTfMhMHqO9rS', 'https://login.airavirtual.com/postula/7im5yPISpQR4RCTMkX3C', 'https://login.airavirtual.com/postula/2EBecE0KUNXA87e8XKs6', 'https://login.airavirtual.com/postula/M3tOOEVVRJeK2DnsumJF', 'https://login.airavirtual.com/postula/FjVqy0tMZrssY0s2JOY7', 'https://login.airavirtual.com/postula/bq7XzdJpD0xSIs8o7ak0', 'https://login.airavirtual.com/postula/lwGFu4703s5pFB8gzQvj', 'https://login.airavirtual.com/postula/CnuxAZrKk5ouWA8Pcx6j', 'https://login.airavirtual.com/postula/azh6RenP0RrPvUJc6L4J', 'https://login.airavirtual.com/postula/3Mbj7qdAywko9xM4CxnK', 'https://login.airavirtual.com/postula/jo9FnJ0WZnpaCuHbYqcA', 'https://login.airavirtual.com/postula/SasRDPxxXtUorJ90Tz5S', 'https://login.airavirtual.com/postula/qNqJki6wy7nqav3Db4Ur', 'https://login.airavirtual.com/postula/Vrzb6liE46PGiO3Jg0EV', 'https://login.airavirtual.com/postula/qyzbejnsNgTHZLt7oRqA', 'https://login.airavirtual.com/postula/EhRNSQzAelX6Ujm3aj5Q', 'https://login.airavirtual.com/postula/8BhixRcKEdTMhVMw5zNq', 'https://login.airavirtual.com/postula/gsCrUbqxqK2hSxWmhVKP', 'https://login.airavirtual.com/postula/WWHZ9TMBXvwqfccfGbBv', 'https://login.airavirtual.com/postula/uRwqgaXKguwRwVEEg2I3', 'https://login.airavirtual.com/postula/wc03wWeTOVyOD6RtUTzJ', 'https://login.airavirtual.com/postula/yaL4GBb0I41OIIPVBsRR', 'https://login.airavirtual.com/postula/Xm6auAUTMbd8u5LdbR3R', 'https://login.airavirtual.com/postula/ZX4j7QnIHpkxdFYSjzlb', 'https://login.airavirtual.com/postula/Fdcksp9jBDQSMwozr9eN', 'https://login.airavirtual.com/postula/jiathsxSU9eBPEPhYrqo', 'https://login.airavirtual.com/postula/CJe61OwEqMGcGPOtdVE7', 'https://login.airavirtual.com/postula/aT6NiMTi9Mqor4LAH9Wz', 'https://login.airavirtual.com/postula/dcIrhfX2vgKHrtHJsEOP', 'https://login.airavirtual.com/postula/282aSjM4eqRhkYuYVftm', 'https://login.airavirtual.com/postula/UkvsbMFGhDRWFBDRnVvR', 'https://login.airavirtual.com/postula/C289gFjQhlJFSwoIyrx6', 'https://login.airavirtual.com/postula/hJfGkNHsrds9aOlL3VCA', 'https://login.airavirtual.com/postula/gYaxFoW1hzcilUZqDD1I', 'https://login.airavirtual.com/postula/A2GJj5bB069UYL5uZjug', 'https://login.airavirtual.com/postula/H5cUSi3lMia9ty0jiuvN', 'https://login.airavirtual.com/postula/QU3L7Dj63b00T2eaDAXl', 'https://login.airavirtual.com/postula/5j66snD9KWVKRBmk5kwn', 'https://login.airavirtual.com/postula/2rQPveVrOIe6iU1O9guu']\n"
     ]
    }
   ],
   "source": [
    "url = \"https://gcs-storage.airavirtual.com/public/feeds/aira_el_puerto_de_liverpool.json?expires=1720735060&signature=88d25a8443deb4abe26b820edd309977\"\n",
    "\n",
    "# Definir el encabezado personalizado\n",
    "header = {'User-Agent': 'Mozilla/5.0 (Windows NT 10.0; Win64; x64) AppleWebKit/537.36 (KHTML, like Gecko) Chrome/98.0.4758.102 Safari/537.36'}\n",
    "\n",
    "response = requests.get(url, headers=header)\n",
    "json_data = response.json()\n",
    "\n",
    "offers_list = json_data['data']['offers']\n",
    "\n",
    "vacancy_links = []\n",
    "for offer in offers_list:\n",
    "        vacancy_links.append(offer['link'])\n",
    "\n",
    "df_url=pd.DataFrame({\"url\":vacancy_links})\n",
    "\n",
    "print(vacancy_links)\n",
    "\n"
   ]
  },
  {
   "cell_type": "code",
   "execution_count": 3,
   "metadata": {},
   "outputs": [
    {
     "data": {
      "text/html": [
       "<div>\n",
       "<style scoped>\n",
       "    .dataframe tbody tr th:only-of-type {\n",
       "        vertical-align: middle;\n",
       "    }\n",
       "\n",
       "    .dataframe tbody tr th {\n",
       "        vertical-align: top;\n",
       "    }\n",
       "\n",
       "    .dataframe thead th {\n",
       "        text-align: right;\n",
       "    }\n",
       "</style>\n",
       "<table border=\"1\" class=\"dataframe\">\n",
       "  <thead>\n",
       "    <tr style=\"text-align: right;\">\n",
       "      <th></th>\n",
       "      <th>url</th>\n",
       "    </tr>\n",
       "  </thead>\n",
       "  <tbody>\n",
       "    <tr>\n",
       "      <th>0</th>\n",
       "      <td>https://login.airavirtual.com/postula/jAknMcEu...</td>\n",
       "    </tr>\n",
       "    <tr>\n",
       "      <th>1</th>\n",
       "      <td>https://login.airavirtual.com/postula/EuPqkazU...</td>\n",
       "    </tr>\n",
       "    <tr>\n",
       "      <th>2</th>\n",
       "      <td>https://login.airavirtual.com/postula/dXWEQ7Kz...</td>\n",
       "    </tr>\n",
       "    <tr>\n",
       "      <th>3</th>\n",
       "      <td>https://login.airavirtual.com/postula/HnZ2hZmE...</td>\n",
       "    </tr>\n",
       "    <tr>\n",
       "      <th>4</th>\n",
       "      <td>https://login.airavirtual.com/postula/vCcVAz3X...</td>\n",
       "    </tr>\n",
       "    <tr>\n",
       "      <th>...</th>\n",
       "      <td>...</td>\n",
       "    </tr>\n",
       "    <tr>\n",
       "      <th>87</th>\n",
       "      <td>https://login.airavirtual.com/postula/A2GJj5bB...</td>\n",
       "    </tr>\n",
       "    <tr>\n",
       "      <th>88</th>\n",
       "      <td>https://login.airavirtual.com/postula/H5cUSi3l...</td>\n",
       "    </tr>\n",
       "    <tr>\n",
       "      <th>89</th>\n",
       "      <td>https://login.airavirtual.com/postula/QU3L7Dj6...</td>\n",
       "    </tr>\n",
       "    <tr>\n",
       "      <th>90</th>\n",
       "      <td>https://login.airavirtual.com/postula/5j66snD9...</td>\n",
       "    </tr>\n",
       "    <tr>\n",
       "      <th>91</th>\n",
       "      <td>https://login.airavirtual.com/postula/2rQPveVr...</td>\n",
       "    </tr>\n",
       "  </tbody>\n",
       "</table>\n",
       "<p>92 rows × 1 columns</p>\n",
       "</div>"
      ],
      "text/plain": [
       "                                                  url\n",
       "0   https://login.airavirtual.com/postula/jAknMcEu...\n",
       "1   https://login.airavirtual.com/postula/EuPqkazU...\n",
       "2   https://login.airavirtual.com/postula/dXWEQ7Kz...\n",
       "3   https://login.airavirtual.com/postula/HnZ2hZmE...\n",
       "4   https://login.airavirtual.com/postula/vCcVAz3X...\n",
       "..                                                ...\n",
       "87  https://login.airavirtual.com/postula/A2GJj5bB...\n",
       "88  https://login.airavirtual.com/postula/H5cUSi3l...\n",
       "89  https://login.airavirtual.com/postula/QU3L7Dj6...\n",
       "90  https://login.airavirtual.com/postula/5j66snD9...\n",
       "91  https://login.airavirtual.com/postula/2rQPveVr...\n",
       "\n",
       "[92 rows x 1 columns]"
      ]
     },
     "execution_count": 3,
     "metadata": {},
     "output_type": "execute_result"
    }
   ],
   "source": [
    "df_url"
   ]
  },
  {
   "cell_type": "code",
   "execution_count": 2,
   "metadata": {},
   "outputs": [],
   "source": [
    "def aira():\n",
    "    url = \"https://gcs-storage.airavirtual.com/public/feeds/aira_el_puerto_de_liverpool.json?expires=1720735060&signature=88d25a8443deb4abe26b820edd309977\"\n",
    "\n",
    "    # Definir el encabezado personalizado\n",
    "    header = {'User-Agent': 'Mozilla/5.0 (Windows NT 10.0; Win64; x64) AppleWebKit/537.36 (KHTML, like Gecko) Chrome/98.0.4758.102 Safari/537.36'}\n",
    "\n",
    "    response = requests.get(url, headers=header)\n",
    "    json_data = response.json()\n",
    "\n",
    "    offers_list = json_data['data']['offers']\n",
    "\n",
    "    vacancy_links = []\n",
    "    for offer in offers_list:\n",
    "            vacancy_links.append(offer['link'])\n",
    "\n",
    "    df_url=pd.DataFrame({\"url\":vacancy_links})\n",
    "    return vacancy_links"
   ]
  },
  {
   "cell_type": "code",
   "execution_count": 3,
   "metadata": {},
   "outputs": [],
   "source": [
    "links = aira()"
   ]
  },
  {
   "cell_type": "markdown",
   "metadata": {},
   "source": [
    "Scaping jobs offers"
   ]
  },
  {
   "cell_type": "code",
   "execution_count": 22,
   "metadata": {},
   "outputs": [],
   "source": [
    "def get_job_details(url):\n",
    "    try:\n",
    "        header = {'User-Agent': 'Mozilla/5.0 (Windows NT 10.0; Win64; x64) AppleWebKit/537.36 (KHTML, like Gecko) Chrome/98.0.4758.102 Safari/537.36'}\n",
    "        response = requests.get(url, headers=header)\n",
    "        response.raise_for_status()\n",
    "\n",
    "        soup = BeautifulSoup(response.text, \"html.parser\")\n",
    "\n",
    "        company_element = soup.find(class_=\"company_name\").find(\"span\") \n",
    "        company_name = company_element.get_text(strip=True).split('\\n')[0] if company_element else None\n",
    "        company_name = re.sub(r'\\(.*\\)', '', company_name).strip()\n",
    "        \n",
    "        title_element = soup.find(class_=\"color-company title-company\")\n",
    "        title = title_element.text if title_element else None\n",
    "\n",
    "        location_element = soup.select_one('.bold.location.hero-info-extra-list li')\n",
    "        location_text = location_element.get_text(strip=True) if location_element else None\n",
    "        \n",
    "        # Extracción del país de la variable location_text\n",
    "        country = None\n",
    "        if location_text:\n",
    "            country = location_text.split()[-1]  # Última palabra de location_text\n",
    "        \n",
    "        modality_element = soup.find(\"ul\", class_=\"description hide-mobile\")\n",
    "        modality = [li.get_text(strip=True) for li in modality_element.find_all('li')] if modality_element else None \n",
    "\n",
    "        description_element = soup.find(\"h2\", id=\"descripcion_oferta\").find_next(\"div\")\n",
    "        description = description_element.get_text(strip=True) if description_element else None\n",
    "        \n",
    "        key_qualifications_element = soup.find(\"h2\", id=\"requisitos\").find_next(\"ul\")\n",
    "        key_qualifications = [li.get_text(strip=True) for li in key_qualifications_element.find_all('li')]if key_qualifications_element else None\n",
    "        \n",
    "        summary_element = soup.find(\"h2\", id=\"company_description\").find_next(\"div\")\n",
    "        summary = summary_element.get_text(strip=True) if summary_element else None\n",
    "\n",
    "\n",
    "        datos = {\n",
    "            \"externalLink\": url,\n",
    "            \"company\": company_name,\n",
    "            \"name\": title,\n",
    "            \"country\": country,\n",
    "            \"description\": description,\n",
    "            \"requisitos\": key_qualifications,\n",
    "            \"resumen\": summary,\n",
    "            \"modalidad\": modality\n",
    "        }\n",
    "\n",
    "        df = pd.DataFrame([datos])\n",
    "\n",
    "        return df\n",
    "    except Exception as e:\n",
    "        print(f\"Error: {str(e)}\")\n",
    "        return None\n",
    "\n",
    "\n",
    "def aira(links: list[str]) -> pd.DataFrame:\n",
    "    df_url = pd.DataFrame({\"externalLink\": links})\n",
    "    resultados = []\n",
    "    for url in df_url[\"externalLink\"]:\n",
    "        detalles_vacante = get_job_details(url)\n",
    "        if detalles_vacante is not None:\n",
    "            resultados.append(detalles_vacante)\n",
    "    df = pd.concat(resultados, ignore_index=True)\n",
    "    return df"
   ]
  },
  {
   "cell_type": "code",
   "execution_count": 32,
   "metadata": {},
   "outputs": [],
   "source": [
    "df = aira(links)"
   ]
  },
  {
   "cell_type": "code",
   "execution_count": 33,
   "metadata": {},
   "outputs": [
    {
     "data": {
      "text/html": [
       "<div>\n",
       "<style scoped>\n",
       "    .dataframe tbody tr th:only-of-type {\n",
       "        vertical-align: middle;\n",
       "    }\n",
       "\n",
       "    .dataframe tbody tr th {\n",
       "        vertical-align: top;\n",
       "    }\n",
       "\n",
       "    .dataframe thead th {\n",
       "        text-align: right;\n",
       "    }\n",
       "</style>\n",
       "<table border=\"1\" class=\"dataframe\">\n",
       "  <thead>\n",
       "    <tr style=\"text-align: right;\">\n",
       "      <th></th>\n",
       "      <th>externalLink</th>\n",
       "      <th>company</th>\n",
       "      <th>name</th>\n",
       "      <th>country</th>\n",
       "      <th>description</th>\n",
       "      <th>requisitos</th>\n",
       "      <th>resumen</th>\n",
       "      <th>modalidad</th>\n",
       "    </tr>\n",
       "  </thead>\n",
       "  <tbody>\n",
       "    <tr>\n",
       "      <th>0</th>\n",
       "      <td>https://login.airavirtual.com/postula/nfCcexkb...</td>\n",
       "      <td>El Puerto de Liverpool</td>\n",
       "      <td>Capturista de Datos</td>\n",
       "      <td>México</td>\n",
       "      <td>Capturarás datos de   los   productos,  para s...</td>\n",
       "      <td>[· Trabajo en equipo, · Comunicación efectiva,...</td>\n",
       "      <td>El Puerto de Liverpool es la empresa líder en ...</td>\n",
       "      <td>[Full Time, Presencial, Permanente (Indefinido)]</td>\n",
       "    </tr>\n",
       "    <tr>\n",
       "      <th>1</th>\n",
       "      <td>https://login.airavirtual.com/postula/uvLWIHLV...</td>\n",
       "      <td>El Puerto de Liverpool</td>\n",
       "      <td>Arquitecto con experiencia en licitaciones</td>\n",
       "      <td>México</td>\n",
       "      <td>Nos apoyarás a la selección y compra de sumini...</td>\n",
       "      <td>[· InglésBásico, · Excel avanzado, · Negociaci...</td>\n",
       "      <td>El Puerto de Liverpool es la empresa líder en ...</td>\n",
       "      <td>[Full Time, Presencial, Permanente (Indefinido)]</td>\n",
       "    </tr>\n",
       "    <tr>\n",
       "      <th>2</th>\n",
       "      <td>https://login.airavirtual.com/postula/EQ2CnInG...</td>\n",
       "      <td>El Puerto de Liverpool</td>\n",
       "      <td>Trafficker Digital</td>\n",
       "      <td>México</td>\n",
       "      <td>Participarás en la planeación estratégica de m...</td>\n",
       "      <td>[· Experiencia 2 años manejando las plataforma...</td>\n",
       "      <td>El Puerto de Liverpool es la empresa líder en ...</td>\n",
       "      <td>[Full Time, Presencial, Permanente (Indefinido)]</td>\n",
       "    </tr>\n",
       "    <tr>\n",
       "      <th>3</th>\n",
       "      <td>https://login.airavirtual.com/postula/2I4DCmWZ...</td>\n",
       "      <td>El Puerto de Liverpool</td>\n",
       "      <td>Consultor Sr Power BI</td>\n",
       "      <td>México</td>\n",
       "      <td>Brindar soluciones robustas a Negocios Financi...</td>\n",
       "      <td>[· Ingeniéría Sistemas/Lic. Informática  o  af...</td>\n",
       "      <td>El Puerto de Liverpool es la empresa líder en ...</td>\n",
       "      <td>[Full Time, Presencial, Permanente (Indefinido)]</td>\n",
       "    </tr>\n",
       "    <tr>\n",
       "      <th>4</th>\n",
       "      <td>https://login.airavirtual.com/postula/0Ax8ap6c...</td>\n",
       "      <td>El Puerto de Liverpool</td>\n",
       "      <td>Analista SAP</td>\n",
       "      <td>México</td>\n",
       "      <td>Tu misión será: Administrar el servicio de sop...</td>\n",
       "      <td>[· Sistema SAP EWM, · Macros en Excel, · Sopor...</td>\n",
       "      <td>El Puerto de Liverpool es la empresa líder en ...</td>\n",
       "      <td>[Full Time, Presencial, Permanente (Indefinido)]</td>\n",
       "    </tr>\n",
       "    <tr>\n",
       "      <th>...</th>\n",
       "      <td>...</td>\n",
       "      <td>...</td>\n",
       "      <td>...</td>\n",
       "      <td>...</td>\n",
       "      <td>...</td>\n",
       "      <td>...</td>\n",
       "      <td>...</td>\n",
       "      <td>...</td>\n",
       "    </tr>\n",
       "    <tr>\n",
       "      <th>94</th>\n",
       "      <td>https://login.airavirtual.com/postula/A2GJj5bB...</td>\n",
       "      <td>El Puerto de Liverpool</td>\n",
       "      <td>Java Backend</td>\n",
       "      <td>México</td>\n",
       "      <td>Forma parte de nuestra área de Desarrollo Digi...</td>\n",
       "      <td>[· +3 años de experiencia desarrollando con Ja...</td>\n",
       "      <td>El Puerto de Liverpool es la empresa líder en ...</td>\n",
       "      <td>[Full Time, Presencial y remoto, Permanente (I...</td>\n",
       "    </tr>\n",
       "    <tr>\n",
       "      <th>95</th>\n",
       "      <td>https://login.airavirtual.com/postula/H5cUSi3l...</td>\n",
       "      <td>El Puerto de Liverpool</td>\n",
       "      <td>Technical Delivery Manager Back Office</td>\n",
       "      <td>México</td>\n",
       "      <td>Si eres apasionado por mejorar y optimizar apl...</td>\n",
       "      <td>[· Experiencia en desarrollo de SAP MM RH, · T...</td>\n",
       "      <td>El Puerto de Liverpool es la empresa líder en ...</td>\n",
       "      <td>[Full Time, Presencial y remoto, Permanente (I...</td>\n",
       "    </tr>\n",
       "    <tr>\n",
       "      <th>96</th>\n",
       "      <td>https://login.airavirtual.com/postula/QU3L7Dj6...</td>\n",
       "      <td>El Puerto de Liverpool</td>\n",
       "      <td>Technical Delivery Manager Finance</td>\n",
       "      <td>México</td>\n",
       "      <td>Identificaras y aseguraras  el cumplimiento de...</td>\n",
       "      <td>[· Experiencia con plataforma de pagos tarjeta...</td>\n",
       "      <td>El Puerto de Liverpool es la empresa líder en ...</td>\n",
       "      <td>[Full Time, Presencial y remoto, Permanente (I...</td>\n",
       "    </tr>\n",
       "    <tr>\n",
       "      <th>97</th>\n",
       "      <td>https://login.airavirtual.com/postula/5j66snD9...</td>\n",
       "      <td>El Puerto de Liverpool</td>\n",
       "      <td>Technical Delivery Manager Supply</td>\n",
       "      <td>México</td>\n",
       "      <td>Identificaras y aseguraras el cumplimiento de ...</td>\n",
       "      <td>[· Plataforma Supply (Warehouse Management Sys...</td>\n",
       "      <td>El Puerto de Liverpool es la empresa líder en ...</td>\n",
       "      <td>[Full Time, Presencial y remoto, Permanente (I...</td>\n",
       "    </tr>\n",
       "    <tr>\n",
       "      <th>98</th>\n",
       "      <td>https://login.airavirtual.com/postula/2rQPveVr...</td>\n",
       "      <td>El Puerto de Liverpool</td>\n",
       "      <td>Ingeniero Google Cloud Platform</td>\n",
       "      <td>México</td>\n",
       "      <td>Tenemos un gran reto en el área de Arquitectur...</td>\n",
       "      <td>[· Diseño de software, · Microservicios, · Clo...</td>\n",
       "      <td>El Puerto de Liverpool es la empresa líder en ...</td>\n",
       "      <td>[Full Time, Presencial y remoto, Permanente (I...</td>\n",
       "    </tr>\n",
       "  </tbody>\n",
       "</table>\n",
       "<p>99 rows × 8 columns</p>\n",
       "</div>"
      ],
      "text/plain": [
       "                                         externalLink                 company  \\\n",
       "0   https://login.airavirtual.com/postula/nfCcexkb...  El Puerto de Liverpool   \n",
       "1   https://login.airavirtual.com/postula/uvLWIHLV...  El Puerto de Liverpool   \n",
       "2   https://login.airavirtual.com/postula/EQ2CnInG...  El Puerto de Liverpool   \n",
       "3   https://login.airavirtual.com/postula/2I4DCmWZ...  El Puerto de Liverpool   \n",
       "4   https://login.airavirtual.com/postula/0Ax8ap6c...  El Puerto de Liverpool   \n",
       "..                                                ...                     ...   \n",
       "94  https://login.airavirtual.com/postula/A2GJj5bB...  El Puerto de Liverpool   \n",
       "95  https://login.airavirtual.com/postula/H5cUSi3l...  El Puerto de Liverpool   \n",
       "96  https://login.airavirtual.com/postula/QU3L7Dj6...  El Puerto de Liverpool   \n",
       "97  https://login.airavirtual.com/postula/5j66snD9...  El Puerto de Liverpool   \n",
       "98  https://login.airavirtual.com/postula/2rQPveVr...  El Puerto de Liverpool   \n",
       "\n",
       "                                          name country  \\\n",
       "0                          Capturista de Datos  México   \n",
       "1   Arquitecto con experiencia en licitaciones  México   \n",
       "2                           Trafficker Digital  México   \n",
       "3                        Consultor Sr Power BI  México   \n",
       "4                                 Analista SAP  México   \n",
       "..                                         ...     ...   \n",
       "94                                Java Backend  México   \n",
       "95      Technical Delivery Manager Back Office  México   \n",
       "96          Technical Delivery Manager Finance  México   \n",
       "97           Technical Delivery Manager Supply  México   \n",
       "98             Ingeniero Google Cloud Platform  México   \n",
       "\n",
       "                                          description  \\\n",
       "0   Capturarás datos de   los   productos,  para s...   \n",
       "1   Nos apoyarás a la selección y compra de sumini...   \n",
       "2   Participarás en la planeación estratégica de m...   \n",
       "3   Brindar soluciones robustas a Negocios Financi...   \n",
       "4   Tu misión será: Administrar el servicio de sop...   \n",
       "..                                                ...   \n",
       "94  Forma parte de nuestra área de Desarrollo Digi...   \n",
       "95  Si eres apasionado por mejorar y optimizar apl...   \n",
       "96  Identificaras y aseguraras  el cumplimiento de...   \n",
       "97  Identificaras y aseguraras el cumplimiento de ...   \n",
       "98  Tenemos un gran reto en el área de Arquitectur...   \n",
       "\n",
       "                                           requisitos  \\\n",
       "0   [· Trabajo en equipo, · Comunicación efectiva,...   \n",
       "1   [· InglésBásico, · Excel avanzado, · Negociaci...   \n",
       "2   [· Experiencia 2 años manejando las plataforma...   \n",
       "3   [· Ingeniéría Sistemas/Lic. Informática  o  af...   \n",
       "4   [· Sistema SAP EWM, · Macros en Excel, · Sopor...   \n",
       "..                                                ...   \n",
       "94  [· +3 años de experiencia desarrollando con Ja...   \n",
       "95  [· Experiencia en desarrollo de SAP MM RH, · T...   \n",
       "96  [· Experiencia con plataforma de pagos tarjeta...   \n",
       "97  [· Plataforma Supply (Warehouse Management Sys...   \n",
       "98  [· Diseño de software, · Microservicios, · Clo...   \n",
       "\n",
       "                                              resumen  \\\n",
       "0   El Puerto de Liverpool es la empresa líder en ...   \n",
       "1   El Puerto de Liverpool es la empresa líder en ...   \n",
       "2   El Puerto de Liverpool es la empresa líder en ...   \n",
       "3   El Puerto de Liverpool es la empresa líder en ...   \n",
       "4   El Puerto de Liverpool es la empresa líder en ...   \n",
       "..                                                ...   \n",
       "94  El Puerto de Liverpool es la empresa líder en ...   \n",
       "95  El Puerto de Liverpool es la empresa líder en ...   \n",
       "96  El Puerto de Liverpool es la empresa líder en ...   \n",
       "97  El Puerto de Liverpool es la empresa líder en ...   \n",
       "98  El Puerto de Liverpool es la empresa líder en ...   \n",
       "\n",
       "                                            modalidad  \n",
       "0    [Full Time, Presencial, Permanente (Indefinido)]  \n",
       "1    [Full Time, Presencial, Permanente (Indefinido)]  \n",
       "2    [Full Time, Presencial, Permanente (Indefinido)]  \n",
       "3    [Full Time, Presencial, Permanente (Indefinido)]  \n",
       "4    [Full Time, Presencial, Permanente (Indefinido)]  \n",
       "..                                                ...  \n",
       "94  [Full Time, Presencial y remoto, Permanente (I...  \n",
       "95  [Full Time, Presencial y remoto, Permanente (I...  \n",
       "96  [Full Time, Presencial y remoto, Permanente (I...  \n",
       "97  [Full Time, Presencial y remoto, Permanente (I...  \n",
       "98  [Full Time, Presencial y remoto, Permanente (I...  \n",
       "\n",
       "[99 rows x 8 columns]"
      ]
     },
     "execution_count": 33,
     "metadata": {},
     "output_type": "execute_result"
    }
   ],
   "source": [
    "df"
   ]
  },
  {
   "cell_type": "markdown",
   "metadata": {},
   "source": [
    "Transform"
   ]
  },
  {
   "cell_type": "code",
   "execution_count": 37,
   "metadata": {},
   "outputs": [],
   "source": [
    "# Eliminando salto de líneas y puntos\n",
    "\n",
    "# Lista de columnas a limpiar\n",
    "columnas_a_limpiar = ['description', 'requisitos', 'resumen', 'modalidad']\n",
    "\n",
    "#Recorro con un for cada una de las columnas\n",
    "for columna in columnas_a_limpiar:\n",
    "    df[columna] = df[columna].apply(lambda x: ', '.join(x) if isinstance(x, list) else x)  # Convierte listas a texto\n",
    "    df[columna] = df[columna].str.replace('· ', '').str.strip('[]')\n",
    "    df[columna] = df[columna].str.replace('•', '', regex=False)\n",
    "    df[columna] = df[columna].str.replace('\\n', ' ', regex=False)"
   ]
  },
  {
   "cell_type": "code",
   "execution_count": 38,
   "metadata": {},
   "outputs": [
    {
     "data": {
      "text/html": [
       "<div>\n",
       "<style scoped>\n",
       "    .dataframe tbody tr th:only-of-type {\n",
       "        vertical-align: middle;\n",
       "    }\n",
       "\n",
       "    .dataframe tbody tr th {\n",
       "        vertical-align: top;\n",
       "    }\n",
       "\n",
       "    .dataframe thead th {\n",
       "        text-align: right;\n",
       "    }\n",
       "</style>\n",
       "<table border=\"1\" class=\"dataframe\">\n",
       "  <thead>\n",
       "    <tr style=\"text-align: right;\">\n",
       "      <th></th>\n",
       "      <th>externalLink</th>\n",
       "      <th>company</th>\n",
       "      <th>name</th>\n",
       "      <th>country</th>\n",
       "      <th>description</th>\n",
       "      <th>requisitos</th>\n",
       "      <th>resumen</th>\n",
       "      <th>modalidad</th>\n",
       "    </tr>\n",
       "  </thead>\n",
       "  <tbody>\n",
       "    <tr>\n",
       "      <th>0</th>\n",
       "      <td>https://login.airavirtual.com/postula/nfCcexkb...</td>\n",
       "      <td>El Puerto de Liverpool</td>\n",
       "      <td>Capturista de Datos</td>\n",
       "      <td>México</td>\n",
       "      <td>Capturarás datos de   los   productos,  para s...</td>\n",
       "      <td>Trabajo en equipo, Comunicación efectiva, Trab...</td>\n",
       "      <td>El Puerto de Liverpool es la empresa líder en ...</td>\n",
       "      <td>Full Time, Presencial, Permanente (Indefinido)</td>\n",
       "    </tr>\n",
       "    <tr>\n",
       "      <th>1</th>\n",
       "      <td>https://login.airavirtual.com/postula/uvLWIHLV...</td>\n",
       "      <td>El Puerto de Liverpool</td>\n",
       "      <td>Arquitecto con experiencia en licitaciones</td>\n",
       "      <td>México</td>\n",
       "      <td>Nos apoyarás a la selección y compra de sumini...</td>\n",
       "      <td>InglésBásico, Excel avanzado, Negociación con ...</td>\n",
       "      <td>El Puerto de Liverpool es la empresa líder en ...</td>\n",
       "      <td>Full Time, Presencial, Permanente (Indefinido)</td>\n",
       "    </tr>\n",
       "  </tbody>\n",
       "</table>\n",
       "</div>"
      ],
      "text/plain": [
       "                                        externalLink                 company  \\\n",
       "0  https://login.airavirtual.com/postula/nfCcexkb...  El Puerto de Liverpool   \n",
       "1  https://login.airavirtual.com/postula/uvLWIHLV...  El Puerto de Liverpool   \n",
       "\n",
       "                                         name country  \\\n",
       "0                         Capturista de Datos  México   \n",
       "1  Arquitecto con experiencia en licitaciones  México   \n",
       "\n",
       "                                         description  \\\n",
       "0  Capturarás datos de   los   productos,  para s...   \n",
       "1  Nos apoyarás a la selección y compra de sumini...   \n",
       "\n",
       "                                          requisitos  \\\n",
       "0  Trabajo en equipo, Comunicación efectiva, Trab...   \n",
       "1  InglésBásico, Excel avanzado, Negociación con ...   \n",
       "\n",
       "                                             resumen  \\\n",
       "0  El Puerto de Liverpool es la empresa líder en ...   \n",
       "1  El Puerto de Liverpool es la empresa líder en ...   \n",
       "\n",
       "                                        modalidad  \n",
       "0  Full Time, Presencial, Permanente (Indefinido)  \n",
       "1  Full Time, Presencial, Permanente (Indefinido)  "
      ]
     },
     "execution_count": 38,
     "metadata": {},
     "output_type": "execute_result"
    }
   ],
   "source": [
    "df.head(2)"
   ]
  },
  {
   "cell_type": "markdown",
   "metadata": {},
   "source": [
    "Unión de columnas y extraccion de caracteristicas"
   ]
  },
  {
   "cell_type": "code",
   "execution_count": 39,
   "metadata": {},
   "outputs": [],
   "source": [
    "# Lista de columnas a unir\n",
    "columnas_a_unir = ['requisitos', 'description', 'resumen', 'modalidad']\n",
    "\n",
    "# Crear una nueva columna llamada 'Texto_Unido' que contiene la concatenación de los textos de las columnas seleccionadas\n",
    "df['Req_txt'] = df[columnas_a_unir].apply(lambda row: ' '.join(row.dropna().astype(str)), axis=1)"
   ]
  },
  {
   "cell_type": "code",
   "execution_count": 40,
   "metadata": {},
   "outputs": [
    {
     "data": {
      "text/html": [
       "<div>\n",
       "<style scoped>\n",
       "    .dataframe tbody tr th:only-of-type {\n",
       "        vertical-align: middle;\n",
       "    }\n",
       "\n",
       "    .dataframe tbody tr th {\n",
       "        vertical-align: top;\n",
       "    }\n",
       "\n",
       "    .dataframe thead th {\n",
       "        text-align: right;\n",
       "    }\n",
       "</style>\n",
       "<table border=\"1\" class=\"dataframe\">\n",
       "  <thead>\n",
       "    <tr style=\"text-align: right;\">\n",
       "      <th></th>\n",
       "      <th>externalLink</th>\n",
       "      <th>company</th>\n",
       "      <th>name</th>\n",
       "      <th>country</th>\n",
       "      <th>description</th>\n",
       "      <th>requisitos</th>\n",
       "      <th>resumen</th>\n",
       "      <th>modalidad</th>\n",
       "      <th>Req_txt</th>\n",
       "    </tr>\n",
       "  </thead>\n",
       "  <tbody>\n",
       "    <tr>\n",
       "      <th>0</th>\n",
       "      <td>https://login.airavirtual.com/postula/nfCcexkb...</td>\n",
       "      <td>El Puerto de Liverpool</td>\n",
       "      <td>Capturista de Datos</td>\n",
       "      <td>México</td>\n",
       "      <td>Capturarás datos de   los   productos,  para s...</td>\n",
       "      <td>Trabajo en equipo, Comunicación efectiva, Trab...</td>\n",
       "      <td>El Puerto de Liverpool es la empresa líder en ...</td>\n",
       "      <td>Full Time, Presencial, Permanente (Indefinido)</td>\n",
       "      <td>Trabajo en equipo, Comunicación efectiva, Trab...</td>\n",
       "    </tr>\n",
       "    <tr>\n",
       "      <th>1</th>\n",
       "      <td>https://login.airavirtual.com/postula/uvLWIHLV...</td>\n",
       "      <td>El Puerto de Liverpool</td>\n",
       "      <td>Arquitecto con experiencia en licitaciones</td>\n",
       "      <td>México</td>\n",
       "      <td>Nos apoyarás a la selección y compra de sumini...</td>\n",
       "      <td>InglésBásico, Excel avanzado, Negociación con ...</td>\n",
       "      <td>El Puerto de Liverpool es la empresa líder en ...</td>\n",
       "      <td>Full Time, Presencial, Permanente (Indefinido)</td>\n",
       "      <td>InglésBásico, Excel avanzado, Negociación con ...</td>\n",
       "    </tr>\n",
       "  </tbody>\n",
       "</table>\n",
       "</div>"
      ],
      "text/plain": [
       "                                        externalLink                 company  \\\n",
       "0  https://login.airavirtual.com/postula/nfCcexkb...  El Puerto de Liverpool   \n",
       "1  https://login.airavirtual.com/postula/uvLWIHLV...  El Puerto de Liverpool   \n",
       "\n",
       "                                         name country  \\\n",
       "0                         Capturista de Datos  México   \n",
       "1  Arquitecto con experiencia en licitaciones  México   \n",
       "\n",
       "                                         description  \\\n",
       "0  Capturarás datos de   los   productos,  para s...   \n",
       "1  Nos apoyarás a la selección y compra de sumini...   \n",
       "\n",
       "                                          requisitos  \\\n",
       "0  Trabajo en equipo, Comunicación efectiva, Trab...   \n",
       "1  InglésBásico, Excel avanzado, Negociación con ...   \n",
       "\n",
       "                                             resumen  \\\n",
       "0  El Puerto de Liverpool es la empresa líder en ...   \n",
       "1  El Puerto de Liverpool es la empresa líder en ...   \n",
       "\n",
       "                                        modalidad  \\\n",
       "0  Full Time, Presencial, Permanente (Indefinido)   \n",
       "1  Full Time, Presencial, Permanente (Indefinido)   \n",
       "\n",
       "                                             Req_txt  \n",
       "0  Trabajo en equipo, Comunicación efectiva, Trab...  \n",
       "1  InglésBásico, Excel avanzado, Negociación con ...  "
      ]
     },
     "execution_count": 40,
     "metadata": {},
     "output_type": "execute_result"
    }
   ],
   "source": [
    "df.head(2)"
   ]
  },
  {
   "cell_type": "code",
   "execution_count": 41,
   "metadata": {},
   "outputs": [],
   "source": [
    "# Borro las columnas unidas\n",
    "\n",
    "resultados_df = df.drop(columnas_a_unir, axis=1)"
   ]
  },
  {
   "cell_type": "code",
   "execution_count": 42,
   "metadata": {},
   "outputs": [
    {
     "data": {
      "text/html": [
       "<div>\n",
       "<style scoped>\n",
       "    .dataframe tbody tr th:only-of-type {\n",
       "        vertical-align: middle;\n",
       "    }\n",
       "\n",
       "    .dataframe tbody tr th {\n",
       "        vertical-align: top;\n",
       "    }\n",
       "\n",
       "    .dataframe thead th {\n",
       "        text-align: right;\n",
       "    }\n",
       "</style>\n",
       "<table border=\"1\" class=\"dataframe\">\n",
       "  <thead>\n",
       "    <tr style=\"text-align: right;\">\n",
       "      <th></th>\n",
       "      <th>externalLink</th>\n",
       "      <th>company</th>\n",
       "      <th>name</th>\n",
       "      <th>country</th>\n",
       "      <th>Req_txt</th>\n",
       "    </tr>\n",
       "  </thead>\n",
       "  <tbody>\n",
       "    <tr>\n",
       "      <th>0</th>\n",
       "      <td>https://login.airavirtual.com/postula/nfCcexkb...</td>\n",
       "      <td>El Puerto de Liverpool</td>\n",
       "      <td>Capturista de Datos</td>\n",
       "      <td>México</td>\n",
       "      <td>Trabajo en equipo, Comunicación efectiva, Trab...</td>\n",
       "    </tr>\n",
       "    <tr>\n",
       "      <th>1</th>\n",
       "      <td>https://login.airavirtual.com/postula/uvLWIHLV...</td>\n",
       "      <td>El Puerto de Liverpool</td>\n",
       "      <td>Arquitecto con experiencia en licitaciones</td>\n",
       "      <td>México</td>\n",
       "      <td>InglésBásico, Excel avanzado, Negociación con ...</td>\n",
       "    </tr>\n",
       "    <tr>\n",
       "      <th>2</th>\n",
       "      <td>https://login.airavirtual.com/postula/EQ2CnInG...</td>\n",
       "      <td>El Puerto de Liverpool</td>\n",
       "      <td>Trafficker Digital</td>\n",
       "      <td>México</td>\n",
       "      <td>Experiencia 2 años manejando las plataformas d...</td>\n",
       "    </tr>\n",
       "    <tr>\n",
       "      <th>3</th>\n",
       "      <td>https://login.airavirtual.com/postula/2I4DCmWZ...</td>\n",
       "      <td>El Puerto de Liverpool</td>\n",
       "      <td>Consultor Sr Power BI</td>\n",
       "      <td>México</td>\n",
       "      <td>Ingeniéría Sistemas/Lic. Informática  o  afín,...</td>\n",
       "    </tr>\n",
       "    <tr>\n",
       "      <th>4</th>\n",
       "      <td>https://login.airavirtual.com/postula/0Ax8ap6c...</td>\n",
       "      <td>El Puerto de Liverpool</td>\n",
       "      <td>Analista SAP</td>\n",
       "      <td>México</td>\n",
       "      <td>Sistema SAP EWM, Macros en Excel, Soporte de s...</td>\n",
       "    </tr>\n",
       "    <tr>\n",
       "      <th>...</th>\n",
       "      <td>...</td>\n",
       "      <td>...</td>\n",
       "      <td>...</td>\n",
       "      <td>...</td>\n",
       "      <td>...</td>\n",
       "    </tr>\n",
       "    <tr>\n",
       "      <th>94</th>\n",
       "      <td>https://login.airavirtual.com/postula/A2GJj5bB...</td>\n",
       "      <td>El Puerto de Liverpool</td>\n",
       "      <td>Java Backend</td>\n",
       "      <td>México</td>\n",
       "      <td>+3 años de experiencia desarrollando con Java,...</td>\n",
       "    </tr>\n",
       "    <tr>\n",
       "      <th>95</th>\n",
       "      <td>https://login.airavirtual.com/postula/H5cUSi3l...</td>\n",
       "      <td>El Puerto de Liverpool</td>\n",
       "      <td>Technical Delivery Manager Back Office</td>\n",
       "      <td>México</td>\n",
       "      <td>Experiencia en desarrollo de SAP MM RH, Trabaj...</td>\n",
       "    </tr>\n",
       "    <tr>\n",
       "      <th>96</th>\n",
       "      <td>https://login.airavirtual.com/postula/QU3L7Dj6...</td>\n",
       "      <td>El Puerto de Liverpool</td>\n",
       "      <td>Technical Delivery Manager Finance</td>\n",
       "      <td>México</td>\n",
       "      <td>Experiencia con plataforma de pagos tarjeta pr...</td>\n",
       "    </tr>\n",
       "    <tr>\n",
       "      <th>97</th>\n",
       "      <td>https://login.airavirtual.com/postula/5j66snD9...</td>\n",
       "      <td>El Puerto de Liverpool</td>\n",
       "      <td>Technical Delivery Manager Supply</td>\n",
       "      <td>México</td>\n",
       "      <td>Plataforma Supply (Warehouse Management System...</td>\n",
       "    </tr>\n",
       "    <tr>\n",
       "      <th>98</th>\n",
       "      <td>https://login.airavirtual.com/postula/2rQPveVr...</td>\n",
       "      <td>El Puerto de Liverpool</td>\n",
       "      <td>Ingeniero Google Cloud Platform</td>\n",
       "      <td>México</td>\n",
       "      <td>Diseño de software, Microservicios, Cloud (Azu...</td>\n",
       "    </tr>\n",
       "  </tbody>\n",
       "</table>\n",
       "<p>99 rows × 5 columns</p>\n",
       "</div>"
      ],
      "text/plain": [
       "                                         externalLink                 company  \\\n",
       "0   https://login.airavirtual.com/postula/nfCcexkb...  El Puerto de Liverpool   \n",
       "1   https://login.airavirtual.com/postula/uvLWIHLV...  El Puerto de Liverpool   \n",
       "2   https://login.airavirtual.com/postula/EQ2CnInG...  El Puerto de Liverpool   \n",
       "3   https://login.airavirtual.com/postula/2I4DCmWZ...  El Puerto de Liverpool   \n",
       "4   https://login.airavirtual.com/postula/0Ax8ap6c...  El Puerto de Liverpool   \n",
       "..                                                ...                     ...   \n",
       "94  https://login.airavirtual.com/postula/A2GJj5bB...  El Puerto de Liverpool   \n",
       "95  https://login.airavirtual.com/postula/H5cUSi3l...  El Puerto de Liverpool   \n",
       "96  https://login.airavirtual.com/postula/QU3L7Dj6...  El Puerto de Liverpool   \n",
       "97  https://login.airavirtual.com/postula/5j66snD9...  El Puerto de Liverpool   \n",
       "98  https://login.airavirtual.com/postula/2rQPveVr...  El Puerto de Liverpool   \n",
       "\n",
       "                                          name country  \\\n",
       "0                          Capturista de Datos  México   \n",
       "1   Arquitecto con experiencia en licitaciones  México   \n",
       "2                           Trafficker Digital  México   \n",
       "3                        Consultor Sr Power BI  México   \n",
       "4                                 Analista SAP  México   \n",
       "..                                         ...     ...   \n",
       "94                                Java Backend  México   \n",
       "95      Technical Delivery Manager Back Office  México   \n",
       "96          Technical Delivery Manager Finance  México   \n",
       "97           Technical Delivery Manager Supply  México   \n",
       "98             Ingeniero Google Cloud Platform  México   \n",
       "\n",
       "                                              Req_txt  \n",
       "0   Trabajo en equipo, Comunicación efectiva, Trab...  \n",
       "1   InglésBásico, Excel avanzado, Negociación con ...  \n",
       "2   Experiencia 2 años manejando las plataformas d...  \n",
       "3   Ingeniéría Sistemas/Lic. Informática  o  afín,...  \n",
       "4   Sistema SAP EWM, Macros en Excel, Soporte de s...  \n",
       "..                                                ...  \n",
       "94  +3 años de experiencia desarrollando con Java,...  \n",
       "95  Experiencia en desarrollo de SAP MM RH, Trabaj...  \n",
       "96  Experiencia con plataforma de pagos tarjeta pr...  \n",
       "97  Plataforma Supply (Warehouse Management System...  \n",
       "98  Diseño de software, Microservicios, Cloud (Azu...  \n",
       "\n",
       "[99 rows x 5 columns]"
      ]
     },
     "execution_count": 42,
     "metadata": {},
     "output_type": "execute_result"
    }
   ],
   "source": [
    "resultados_df"
   ]
  },
  {
   "cell_type": "markdown",
   "metadata": {},
   "source": [
    "Procesamiento de Lenguaje"
   ]
  },
  {
   "cell_type": "code",
   "execution_count": null,
   "metadata": {},
   "outputs": [],
   "source": [
    "skills = ['Flowcharts', 'Media Coverage', 'Digital Trafficker', 'Wireframes',\n",
    "    'Infrastructure', 'Social Listening', 'Audiovisual Production', 'Microsoft SQL', 'Branding', 'Marketing',\n",
    "     'Social Media', 'Personnel Management', 'Marketing Plan', 'Adobe Programs', 'Javascript Programming',\n",
    "    'Content Manager', 'C# Programming', 'UX Design', 'Illustration', 'Data Analytics', 'Advertising Sales',\n",
    "    'Project Management Office (PMO)', 'Adobe Illustrator', 'Jira', 'Windows Server', 'Insight Detection',\n",
    "    'Sales Closing', 'Account Management', 'Team Leadership', 'Inbound Marketing', 'Freelance Artist', 'Figma', 'FX Makeup',\n",
    "     'ReactJS', 'Social Ads', 'Dashboards', 'ERP (Enterprise Resource Planning) System', 'Creative Strategy',\n",
    "    'Video Editing', 'Pressure Management and Goal Achievement', 'Communication Skills', 'Programming', 'Software Support',\n",
    "     'Content Management', 'Journalism', 'Bioprocesses', 'Excel', 'Client Presentations', 'Storytelling', 'Benchmarks',\n",
    "    'Node.js', 'Planning', 'Screen Printing', 'Digital Marketing', 'Google Cloud Platform', 'Customer Service', 'PHP',\n",
    "    'Front-End Design', 'Design Thinking', 'Data Analysis', 'Client Prospecting', 'Copywriting', 'SQL Database', 'Web Development',\n",
    "    'Analyst', 'Business Intelligence Management', 'Database', 'AMEF', 'Typography Design', 'Human Resources', 'Web Administration',\n",
    "     'Motion Graphics', 'Content Creation', 'Communication Sciences', 'Web Writing', 'Web Scraping', 'Texture Mapping', 'Digital Specialist',\n",
    "     'Offline Marketing', 'REST API Development', 'Market Research', 'Process Improvement', 'Digital Design', 'Writing', 'Monitoring',\n",
    "     'Lean Manufacturing', 'SAP', 'React', 'Performance Analyst', 'Scrum Master', 'Team Coordination', 'Photography', 'Accounting Systems',\n",
    "    'Style Correction', 'PMP Guidelines', 'Decision-Making Skills', 'Project Manager', 'Call Center Sales', 'Coaching', 'E-commerce',\n",
    "    'Image Editing', 'Bitcoin', 'Public Relations', 'Python', 'Team Management Skills', 'Content for Social Media', 'Ticket Handling',\n",
    "    'Digital Content Creation', 'Community Manager', 'Digital Media', 'Cloud Services', 'Windows Forms', 'Communication',\n",
    "    'CRM (Customer Relationship Management)', 'Digital Advertising Sales', 'Web Design', 'Strategic Planning', 'English',\n",
    "     'Literary Content Creation', '.NET Programming', 'UX UI Design', 'Keyword Research', 'Negotiation Techniques Management',\n",
    "     'HTML Programming', 'Requirements Analysis', 'Social Media Marketing', 'ETL (Extract, Transform, Load)', 'Contouring',\n",
    "    'Advertising', 'Google Ads', 'Editorial Design', 'Debugging', 'Digital Campaigns', 'Apache Spark', 'Software as a Service (SaaS)',\n",
    "     'Java Programming', 'Responsive Design', 'Business Development', 'IT Solutions Manager', 'Postman', 'Azure DevOps', 'Adobe Photoshop',\n",
    "     'Canva', 'Administrative Skills', 'DevOps', 'Angular', 'Version Control', 'Front-End Developer', 'Facebook Ads Campaign Implementation',\n",
    "     'Virtual Assistance', 'Web Roles', 'Administration', 'Marketing Strategies', 'Fullstack Developer', 'API Consumption',\n",
    "    'Supplier Relations', 'Computer Maintenance', 'Project Management', 'Voiceover', 'Advertising Design', 'Project Coordination',\n",
    "    'Sales', 'Backend Development', 'User Flow Design', 'Interpersonal Communication Skills', 'Call Center Administration',\n",
    "     'Email Marketing', 'MySQL', 'Good Spelling', 'Digital Campaign Implementation', 'Brand Design', 'Interior Architecture',\n",
    "    'UI Design', 'Graphic Design', 'Consulting', 'ETL Process', 'React Hooks']"
   ]
  },
  {
   "cell_type": "code",
   "execution_count": null,
   "metadata": {},
   "outputs": [],
   "source": [
    "tools = ['Instagram', 'Zend Framework', 'Actionscript', 'Asana', 'Nats', 'Magento', 'Sprinklr', 'Outlook',\n",
    "         'Mailchimp', 'HubSpot', 'ClickUp', 'Microsoft SQL', 'Twitter Analytics', 'WordPress', 'Social Media',\n",
    " 'AWS', 'Monday', 'Adobe Audition', 'Correction', 'PowerPoint', 'HTML', 'Adobe Illustrator', 'Jira', 'Socialbakers',\n",
    " 'Vue.js', 'Staging', 'Project', 'Scrum Methodology', 'Spring', 'Social Ads', 'Figma', 'Google Tag Manager', 'C#',\n",
    "'Web Filtering', 'Solidworks', 'Spark', 'Google Cloud', 'TypeScript', 'Express', 'MacOS', 'Adobe', 'MongoDB', 'Microsoft Office',\n",
    "'Excel', 'Facebook Business Manager', 'Next.js', 'tRPC', 'Metricool', 'Node.js', 'Office Suite', 'Salesforce', 'Marketing Foundations',\n",
    "'Brandwatch', 'Facebook Analytics', 'Access', 'Sketchup', 'Facebook', 'Google', 'Looker Studio', 'SQL', 'Flutter', 'Django', 'JavaScript',\n",
    " 'Supermetrics', 'Adwords / Google Ads', 'Adobe InDesign', 'Adobe After Effects', 'Writing', 'Final Cut', 'Adobe Creative Cloud',\n",
    "'React Native', 'DaVinci Resolve', 'macOS', 'Microsoft Project', 'Linux', 'SAP', 'React', 'Google Docs', 'SEO', 'Java', 'Sysomos',\n",
    " 'Trello', 'Google Marketing Platform', 'Cashier', 'Linux Commands', 'GraphQL', 'Python', 'Blender', 'Facebook Insights',\n",
    "'Adobe Lightroom', 'Adobe Experience', 'Xcode', 'G Suite', 'Fanpage Karma', 'Word', 'Miro', 'Shopify', 'Marketplace', 'Trady',\n",
    "'YouTube', 'Adobe Suite', 'Autocad', 'Advisor', 'TalkWalker', 'Less', 'VSCode', 'PostgreSQL', 'Bootstrap', 'Emplifi', 'Sprout Social',\n",
    "'Programmatic Advertising', 'Golang', 'Social Media Design', 'Adobe Premiere', 'Git', 'Visual Studio', 'LinkedIn Ads', 'Power BI',\n",
    " 'Microsoft Azure', 'Material UI', 'Google Data Studio', 'CSS', 'Cinema 4D', 'Windows', 'Postman', 'Jupiter X', 'Adobe Photoshop',\n",
    "'Tableau', 'Meltwater', 'Canva', 'Visual Basic for Applications', 'Docker', 'Facebook Business', 'Google Workspace', 'Cake PHP', 'Hootsuite',\n",
    "'Webex', 'Facebook Ads', 'Zoho', 'CRM', 'Odoo', 'Google Analytics', 'Tailwind', 'Cisco', 'GitHub', 'LinkedIn', 'Microsoft Teams',\n",
    "'Oracle SQL', 'Basecamp', 'Smart Contracts', 'Keynote', 'MySQL', 'Angular.js', 'BMC Remedy']"
   ]
  },
  {
   "cell_type": "code",
   "execution_count": null,
   "metadata": {},
   "outputs": [],
   "source": [
    "aptitudes = ['Service Attitude',\n",
    "'Adaptable',\n",
    "'Kind',\n",
    "'Analytical',\n",
    "'Passionate',\n",
    "'Passionate About Technology',\n",
    "'Attention to Detail',\n",
    "'Autodidact',\n",
    "'Autonomy in Work',\n",
    "'Good Relationship',\n",
    "'Good Attitude',\n",
    "'Business Management',\n",
    "'Search for Excellence (Initiative)',\n",
    "'Adaptability',\n",
    "'Committed',\n",
    "'Commitment',\n",
    "'Communication',\n",
    "'Assertive Communication',\n",
    "'Effective Communication',\n",
    "'Efficient Communication',\n",
    "'With Initiative',\n",
    "'Reliable',\n",
    "'Consistent',\n",
    "'Content Creation and Editing',\n",
    "'Creative',\n",
    "'Dedicated',\n",
    "'Mental Dexterity',\n",
    "'Dynamic',\n",
    "'Disciplined',\n",
    "'Willing to Teach',\n",
    "'Willing to Learn',\n",
    "'Efficient',\n",
    "'Empathy',\n",
    "'Entrepreneurial',\n",
    "'Empathetic',\n",
    "'Enthusiastic',\n",
    "'Excellent Presentation',\n",
    "'Word Fluency',\n",
    "'Flexible',\n",
    "'Team Management',\n",
    "'Team Management',\n",
    "'Sales Enthusiast',\n",
    "'Honest',\n",
    "'Emotionally Intelligent',\n",
    "'Leadership',\n",
    "'Leadership and Team Management',\n",
    "'Time Management',\n",
    "'Multidisciplinary',\n",
    "'Negotiation',\n",
    "'Organized',\n",
    "'Organized',\n",
    "'Goal-Oriented',\n",
    "'Results-Oriented',\n",
    "'Project Owner',\n",
    "'Patient',\n",
    "'Creative Thinking',\n",
    "'Critical Thinking',\n",
    "'Logical Thinking',\n",
    "'Strategic Thinking',\n",
    "'Perfectionist',\n",
    "'Persistent',\n",
    "'Pragmatic',\n",
    "'Pragmatic',\n",
    "'Proactive',\n",
    "'Productive',\n",
    "'Punctual',\n",
    "'Resilient',\n",
    "'Problem Solving',\n",
    "'Responsible',\n",
    "'Quick Learner',\n",
    "'Sense of Urgency',\n",
    "'Sociable',\n",
    "'Problem Solving',\n",
    "'Tenacious',\n",
    "'Work Under Pressure',\n",
    "'Customer-oriented',\n",
    "'Teamwork',\n",
    "'Teamwork',\n",
    "'Versatile',\n",
    "'Effective Communication',\n",
    "'Creative']"
   ]
  },
  {
   "cell_type": "code",
   "execution_count": null,
   "metadata": {},
   "outputs": [],
   "source": [
    "languages = [\n",
    "    'Spanish',\n",
    "    'English',\n",
    "    'Chinese Mandarin',\n",
    "    'Hindi',\n",
    "    'Arabic',\n",
    "    'Portuguese',\n",
    "    'Bengali',\n",
    "    'Russian',\n",
    "    'French',\n",
    "    'German',\n",
    "    'Japanese',\n",
    "    'Turkish',\n",
    "    'Chinese Cantonese',\n",
    "    'Italian',\n",
    "    'Swedish',\n",
    "    'Indonesian',\n",
    "    'Vietnamese',\n",
    "    'Korean',\n",
    "    'Polish',\n",
    "    'Ukrainian',\n",
    "    'Maltese',\n",
    "    'Czech',\n",
    "    'Hungarian',\n",
    "    'Dutch',\n",
    "    'Greek',\n",
    "    'Swedish',\n",
    "    'Norwegian',\n",
    "    'Danish',\n",
    "    'Finnish',\n",
    "    'Egyptian Arabic',\n",
    "    'Hebrew',\n",
    "    'Thai',\n",
    "    'Malay',\n",
    "    'Filipino',\n",
    "    'Afrikaans',\n",
    "    'Luganda'\n",
    "]"
   ]
  },
  {
   "cell_type": "markdown",
   "metadata": {},
   "source": [
    "Skills"
   ]
  },
  {
   "cell_type": "code",
   "execution_count": null,
   "metadata": {},
   "outputs": [],
   "source": [
    "def encontrar_skills(Req_txt):\n",
    "    coincidencias = [skill for skill in skills if re.search(r'\\b{}\\b'.format(re.escape(skill.lower())), Req_txt.lower())]\n",
    "    return coincidencias"
   ]
  },
  {
   "cell_type": "code",
   "execution_count": null,
   "metadata": {},
   "outputs": [],
   "source": [
    "resultados_df['skills_1'] = resultados_df['Req_txt'].apply(encontrar_skills)"
   ]
  },
  {
   "cell_type": "code",
   "execution_count": null,
   "metadata": {},
   "outputs": [],
   "source": [
    "# Función para convertir la lista de skills en un diccionario:\n",
    "\n",
    "def lista_a_diccionarios(skills_1):\n",
    "    return [\n",
    "        {\n",
    "            'name': skill,\n",
    "            'level': 'BASIC',\n",
    "            'experience': 0\n",
    "        }\n",
    "        for skill in skills_1\n",
    "    ]\n",
    "\n",
    "# Aplicar la función a la columna 'skills_1' y crear una nueva columna 'skills'\n",
    "resultados_df['skills'] = resultados_df['skills_1'].apply(lista_a_diccionarios)"
   ]
  },
  {
   "cell_type": "code",
   "execution_count": null,
   "metadata": {},
   "outputs": [],
   "source": [
    "\n",
    "resultados_df = resultados_df.drop('skills_1', axis=1)"
   ]
  },
  {
   "cell_type": "markdown",
   "metadata": {},
   "source": [
    "Tools"
   ]
  },
  {
   "cell_type": "code",
   "execution_count": null,
   "metadata": {},
   "outputs": [],
   "source": [
    "import re\n",
    "\n",
    "def encontrar_tools(Req_txt):\n",
    "    coincidencias = [tool for tool in tools if re.search(r'\\b{}\\b'.format(re.escape(tool.lower())), Req_txt.lower())]\n",
    "    return coincidencias"
   ]
  },
  {
   "cell_type": "code",
   "execution_count": null,
   "metadata": {},
   "outputs": [],
   "source": [
    "resultados_df['tools_1'] = resultados_df['Req_txt'].apply(encontrar_tools)"
   ]
  },
  {
   "cell_type": "code",
   "execution_count": null,
   "metadata": {},
   "outputs": [],
   "source": [
    "# Función para convertir la lista de habilidades en un diccionario\n",
    "def diccionarios_2(tools_1):\n",
    "    return [\n",
    "        {\n",
    "            'name': tool,\n",
    "            'level': 'BASIC',\n",
    "            'experience': 0\n",
    "        }\n",
    "        for tool in tools_1\n",
    "    ]"
   ]
  },
  {
   "cell_type": "code",
   "execution_count": null,
   "metadata": {},
   "outputs": [],
   "source": [
    "# Aplicar la función a la columna 'tools_1' y crear una nueva columna 'tools'\n",
    "resultados_df['tools'] = resultados_df['tools_1'].apply(diccionarios_2)"
   ]
  },
  {
   "cell_type": "code",
   "execution_count": null,
   "metadata": {},
   "outputs": [],
   "source": [
    "#Elimino la columna no normalizada.\n",
    "\n",
    "resultados_df = resultados_df.drop('tools_1', axis=1)"
   ]
  },
  {
   "cell_type": "markdown",
   "metadata": {},
   "source": [
    "Aptitudes"
   ]
  },
  {
   "cell_type": "code",
   "execution_count": null,
   "metadata": {},
   "outputs": [],
   "source": [
    "def encontrar_aptitudes (Req_txt):\n",
    "    coincidencias = [aptitud for aptitud in aptitudes if re.search(r'\\b{}\\b'.format(re.escape(aptitud.lower())), Req_txt.lower())]\n",
    "    return coincidencias"
   ]
  },
  {
   "cell_type": "code",
   "execution_count": null,
   "metadata": {},
   "outputs": [],
   "source": [
    "resultados_df['aptitudes_1'] = resultados_df['Req_txt'].apply(encontrar_aptitudes)"
   ]
  },
  {
   "cell_type": "code",
   "execution_count": null,
   "metadata": {},
   "outputs": [],
   "source": [
    "def diccionarios_3(aptitudes_1):\n",
    "    return [\n",
    "        {\n",
    "            'name': Aptitud\n",
    "\n",
    "        }\n",
    "        for Aptitud in aptitudes_1\n",
    "    ]"
   ]
  },
  {
   "cell_type": "code",
   "execution_count": null,
   "metadata": {},
   "outputs": [],
   "source": [
    "# Aplicar la función a la columna 'aptitudes_1' y crear una nueva columna 'aptitudes'\n",
    "resultados_df['aptitudes'] = resultados_df['aptitudes_1'].apply(diccionarios_3)"
   ]
  },
  {
   "cell_type": "code",
   "execution_count": null,
   "metadata": {},
   "outputs": [],
   "source": [
    "\n",
    "resultados_df = resultados_df.drop('aptitudes_1', axis=1)"
   ]
  },
  {
   "cell_type": "markdown",
   "metadata": {},
   "source": [
    "Languages"
   ]
  },
  {
   "cell_type": "code",
   "execution_count": null,
   "metadata": {},
   "outputs": [],
   "source": [
    "def encontrar_languages (Req_txt):\n",
    "    coincidencias = [language for language in languages if re.search(r'\\b{}\\b'.format(re.escape(language.lower())), Req_txt.lower())]\n",
    "    return coincidencias"
   ]
  },
  {
   "cell_type": "code",
   "execution_count": null,
   "metadata": {},
   "outputs": [],
   "source": [
    "resultados_df['languages_1'] = resultados_df['Req_txt'].apply(encontrar_languages)"
   ]
  },
  {
   "cell_type": "code",
   "execution_count": null,
   "metadata": {},
   "outputs": [],
   "source": [
    "def diccionarios_4(languages_1):\n",
    "    return [\n",
    "        {\n",
    "            'name': language,\n",
    "            'level': 'BASIC'\n",
    "        }\n",
    "        for language in languages_1\n",
    "    ]"
   ]
  },
  {
   "cell_type": "code",
   "execution_count": null,
   "metadata": {},
   "outputs": [],
   "source": [
    "# Aplicar la función a la columna 'languages_1' y crear una nueva columna 'languages'\n",
    "resultados_df['languages'] = resultados_df['languages_1'].apply(diccionarios_4)"
   ]
  },
  {
   "cell_type": "code",
   "execution_count": null,
   "metadata": {},
   "outputs": [],
   "source": [
    "resultados_df = resultados_df.drop('languages_1', axis=1)"
   ]
  },
  {
   "cell_type": "code",
   "execution_count": null,
   "metadata": {},
   "outputs": [],
   "source": [
    "\n",
    "import numpy as np\n",
    "resultados_df['languages'] = resultados_df['languages'].replace(' ', np.nan)"
   ]
  },
  {
   "cell_type": "markdown",
   "metadata": {},
   "source": [
    "Normalización"
   ]
  },
  {
   "cell_type": "code",
   "execution_count": null,
   "metadata": {},
   "outputs": [],
   "source": [
    "import numpy as np\n",
    "\n",
    "new_columns = ['id','companyId','createdAt','availableSlots','benefits','scholarity', 'workhours','locationConditions','nationalRemote','minSalary','maxSalary','minAge','maxAge','sex','yearsOfExperience', 'status', 'updatedAt','driversLicense', 'degree','validPassport','validVisa','nationalRelocation', 'internationalRelocation','availabilityToTravel','seniority',\t'showSalaryRange','state', 'city', 'postalCode', 'slug','latitude', 'longitude', 'companyImg']"
   ]
  },
  {
   "cell_type": "code",
   "execution_count": null,
   "metadata": {},
   "outputs": [],
   "source": [
    "# Agregar las nuevas columnas con valores nulos\n",
    "df = resultados_df.assign(**{col: np.nan for col in new_columns})"
   ]
  },
  {
   "cell_type": "code",
   "execution_count": null,
   "metadata": {},
   "outputs": [],
   "source": [
    "df = df.rename(columns={'name': 'name'})\n",
    "df = df.rename(columns={'description': 'description'})\n",
    "df = df.rename(columns={'company_name': 'companyName'})\n",
    "df = df.rename(columns={'country': 'country'})\n",
    "df= df.rename(columns={'externalLink':'externalLink'})"
   ]
  },
  {
   "cell_type": "code",
   "execution_count": null,
   "metadata": {},
   "outputs": [],
   "source": [
    "df.head(1)"
   ]
  },
  {
   "cell_type": "code",
   "execution_count": null,
   "metadata": {},
   "outputs": [],
   "source": [
    "df.info(1)"
   ]
  },
  {
   "cell_type": "code",
   "execution_count": null,
   "metadata": {},
   "outputs": [],
   "source": [
    "#Ordenar la columnas\n",
    "# Lista con el orden deseado de las columnas\n",
    "order_of_columns = ['id','companyId','name','description','createdAt','availableSlots','skills','aptitudes','tools','languages','benefits','scholarity','workhours','locationConditions','nationalRemote', 'minSalary','maxSalary','minAge', 'maxAge','sex','yearsOfExperience','status','country','updatedAt', 'driversLicense', 'degree','validPassport','validVisa','nationalRelocation','internationalRelocation','availabilityToTravel','seniority','showSalaryRange','state','city','postalCode','slug','latitude','longitude','companyName','companyImg', 'externalLink','originalDate']\n",
    "\n",
    "# Reordenar las columnas del DataFrame en todos los niveles\n",
    "# Reordenar las columnas del DataFrame\n",
    "df = df[order_of_columns]"
   ]
  },
  {
   "cell_type": "code",
   "execution_count": null,
   "metadata": {},
   "outputs": [],
   "source": []
  }
 ],
 "metadata": {
  "kernelspec": {
   "display_name": "Python 3",
   "language": "python",
   "name": "python3"
  },
  "language_info": {
   "codemirror_mode": {
    "name": "ipython",
    "version": 3
   },
   "file_extension": ".py",
   "mimetype": "text/x-python",
   "name": "python",
   "nbconvert_exporter": "python",
   "pygments_lexer": "ipython3",
   "version": "3.11.4"
  }
 },
 "nbformat": 4,
 "nbformat_minor": 2
}
