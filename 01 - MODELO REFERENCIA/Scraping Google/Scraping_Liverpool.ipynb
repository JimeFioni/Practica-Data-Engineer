{
 "cells": [
  {
   "cell_type": "markdown",
   "metadata": {},
   "source": [
    "Scraping BBVA\n"
   ]
  },
  {
   "cell_type": "code",
   "execution_count": 1,
   "metadata": {},
   "outputs": [],
   "source": [
    "url= \"https://jobs.airavirtual.com/el_puerto_de_liverpool#_ver_empleos\""
   ]
  },
  {
   "cell_type": "code",
   "execution_count": null,
   "metadata": {},
   "outputs": [],
   "source": [
    "json=\"https://gcs-storage.airavirtual.com/public/feeds/aira_el_puerto_de_liverpool.json?expires=1720735060&signature=88d25a8443deb4abe26b820edd309977\""
   ]
  },
  {
   "cell_type": "code",
   "execution_count": 3,
   "metadata": {},
   "outputs": [],
   "source": [
    "from bs4 import BeautifulSoup\n",
    "import requests\n",
    "import pandas as pd \n",
    "import numpy as np\n",
    "import re\n",
    "from deep_translator import GoogleTranslator\n",
    "from nanoid import generate\n",
    "from slugify import slugify"
   ]
  },
  {
   "cell_type": "code",
   "execution_count": 1,
   "metadata": {},
   "outputs": [],
   "source": [
    "def aira():\n",
    "    url = \"https://jobs.airavirtual.com/el_puerto_de_liverpool#_ver_empleos\"\n",
    "    response = requests.get(url)\n",
    "    if response.status_code == 200:\n",
    "        soup = BeautifulSoup(response.text, \"html.parser\")\n",
    "\n",
    "    # Encuentra todos los enlaces que dirigen a las vacantes\n",
    "    vacancy_links = []\n",
    "\n",
    "    for link in soup.find_all(\"div\", class_=\"offer-description\", href=True):\n",
    "        vacancy_links.append(link[\"href\"])\n",
    "\n",
    "    # Los enlaces pueden ser relativos, así que construye las URL completas\n",
    "    base_url = \"https://jobs.airavirtual.com/el_puerto_de_liverpool#_ver_empleos\"\n",
    "    full_vacancy_links = [base_url + link for link in vacancy_links]\n",
    "        \n",
    "    # Crear un DataFrame a partir de la lista de enlaces\n",
    "    df_url = pd.DataFrame({\"url\": full_vacancy_links})\n",
    "    return df_url\n"
   ]
  },
  {
   "cell_type": "code",
   "execution_count": 6,
   "metadata": {},
   "outputs": [
    {
     "name": "stdout",
     "output_type": "stream",
     "text": [
      "Error al obtener la página: 403\n"
     ]
    }
   ],
   "source": [
    "import requests\n",
    "from bs4 import BeautifulSoup\n",
    "import pandas as pd\n",
    "\n",
    "url = \"https://jobs.airavirtual.com/el_puerto_de_liverpool#_ver_empleos\"\n",
    "response = requests.get(url)\n",
    "\n",
    "if response.status_code == 200:\n",
    "    soup = BeautifulSoup(response.text, \"html.parser\")\n",
    "\n",
    "    # Encuentra todos los enlaces que dirigen a las vacantes\n",
    "    vacancy_links = []\n",
    "\n",
    "    for link in soup.find_all(\"a\", class_=\"offer-description\", href=True):\n",
    "        vacancy_links.append(link[\"href\"])\n",
    "\n",
    "    # Los enlaces pueden ser relativos, así que construye las URL completas\n",
    "    base_url = \"https://jobs.airavirtual.com\"\n",
    "    full_vacancy_links = [base_url + link for link in vacancy_links]\n",
    "    \n",
    "    # Crear un DataFrame a partir de la lista de enlaces\n",
    "    df_url = pd.DataFrame({\"url\": full_vacancy_links})\n",
    "    print(df_url.head())  # Imprime los primeros enlaces para verificar\n",
    "else:\n",
    "    print(\"Error al obtener la página:\", response.status_code)\n"
   ]
  },
  {
   "cell_type": "code",
   "execution_count": 7,
   "metadata": {},
   "outputs": [
    {
     "name": "stdout",
     "output_type": "stream",
     "text": [
      "Error al descargar el archivo: 403\n"
     ]
    }
   ],
   "source": [
    "import requests\n",
    "\n",
    "url = \"https://gcs-storage.airavirtual.com/public/feeds/aira_el_puerto_de_liverpool.json?expires=1720735060&signature=88d25a8443deb4abe26b820edd309977\"\n",
    "\n",
    "response = requests.get(url)\n",
    "\n",
    "if response.status_code == 200:\n",
    "    # Guardar el contenido del archivo JSON en un archivo local\n",
    "    with open(\"aira_el_puerto_de_liverpool.json\", \"wb\") as file:\n",
    "        file.write(response.content)\n",
    "    print(\"Archivo descargado exitosamente.\")\n",
    "else:\n",
    "    print(\"Error al descargar el archivo:\", response.status_code)\n"
   ]
  },
  {
   "cell_type": "markdown",
   "metadata": {},
   "source": [
    "Prueba con header User Agent"
   ]
  },
  {
   "cell_type": "code",
   "execution_count": 1,
   "metadata": {},
   "outputs": [
    {
     "name": "stdout",
     "output_type": "stream",
     "text": [
      "Archivo descargado exitosamente.\n"
     ]
    }
   ],
   "source": [
    "import requests\n",
    "\n",
    "url = \"https://gcs-storage.airavirtual.com/public/feeds/aira_el_puerto_de_liverpool.json?expires=1720735060&signature=88d25a8443deb4abe26b820edd309977\"\n",
    "\n",
    "# Definir el encabezado personalizado\n",
    "header = {'User-Agent': 'Mozilla/5.0 (Windows NT 10.0; Win64; x64) AppleWebKit/537.36 (KHTML, like Gecko) Chrome/98.0.4758.102 Safari/537.36'}\n",
    "\n",
    "response = requests.get(url, headers=header)\n",
    "\n",
    "if response.status_code == 200:\n",
    "    # Guardar el contenido del archivo JSON en un archivo local\n",
    "    with open(\"aira_el_puerto_de_liverpool.json\", \"wb\") as file:\n",
    "        file.write(response.content)\n",
    "    print(\"Archivo descargado exitosamente.\")\n",
    "else:\n",
    "    print(\"Error al descargar el archivo:\", response.status_code)\n"
   ]
  }
 ],
 "metadata": {
  "kernelspec": {
   "display_name": "Python 3",
   "language": "python",
   "name": "python3"
  },
  "language_info": {
   "codemirror_mode": {
    "name": "ipython",
    "version": 3
   },
   "file_extension": ".py",
   "mimetype": "text/x-python",
   "name": "python",
   "nbconvert_exporter": "python",
   "pygments_lexer": "ipython3",
   "version": "3.11.4"
  }
 },
 "nbformat": 4,
 "nbformat_minor": 2
}
