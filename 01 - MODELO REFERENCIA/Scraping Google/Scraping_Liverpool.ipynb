{
 "cells": [
  {
   "cell_type": "markdown",
   "metadata": {},
   "source": [
    "Scraping BBVA\n"
   ]
  },
  {
   "cell_type": "code",
   "execution_count": 1,
   "metadata": {},
   "outputs": [],
   "source": [
    "url= \"https://jobs.airavirtual.com/el_puerto_de_liverpool#_ver_empleos\""
   ]
  },
  {
   "cell_type": "code",
   "execution_count": 1,
   "metadata": {},
   "outputs": [],
   "source": [
    "from bs4 import BeautifulSoup\n",
    "import requests\n",
    "import pandas as pd \n",
    "import numpy as np\n",
    "import re\n",
    "from deep_translator import GoogleTranslator\n",
    "from nanoid import generate\n",
    "from slugify import slugify"
   ]
  },
  {
   "cell_type": "code",
   "execution_count": 2,
   "metadata": {},
   "outputs": [],
   "source": [
    "def aira():\n",
    "    url = \"https://jobs.airavirtual.com/el_puerto_de_liverpool#_ver_empleos\"\n",
    "    response = requests.get(url)\n",
    "    if response.status_code == 200:\n",
    "        soup = BeautifulSoup(response.text, \"html.parser\")\n",
    "\n",
    "    # Encuentra todos los enlaces que dirigen a las vacantes\n",
    "    vacancy_links = []\n",
    "\n",
    "    for link in soup.find_all(\"div\", class_=\"offer-description\", href=True):\n",
    "        vacancy_links.append(link[\"href\"])\n",
    "\n",
    "    # Los enlaces pueden ser relativos, así que construye las URL completas\n",
    "    base_url = \"https://jobs.airavirtual.com/el_puerto_de_liverpool#_ver_empleos\"\n",
    "    full_vacancy_links = [base_url + link for link in vacancy_links]\n",
    "        \n",
    "    # Crear un DataFrame a partir de la lista de enlaces\n",
    "    df_url = pd.DataFrame({\"url\": full_vacancy_links})\n",
    "    return df_url\n"
   ]
  },
  {
   "cell_type": "code",
   "execution_count": 3,
   "metadata": {},
   "outputs": [
    {
     "ename": "NameError",
     "evalue": "name 'soup' is not defined",
     "output_type": "error",
     "traceback": [
      "\u001b[1;31m---------------------------------------------------------------------------\u001b[0m",
      "\u001b[1;31mNameError\u001b[0m                                 Traceback (most recent call last)",
      "Cell \u001b[1;32mIn[3], line 10\u001b[0m\n\u001b[0;32m      7\u001b[0m     \u001b[38;5;66;03m# Encuentra todos los enlaces que dirigen a las vacantes\u001b[39;00m\n\u001b[0;32m      8\u001b[0m vacancy_links \u001b[38;5;241m=\u001b[39m []\n\u001b[1;32m---> 10\u001b[0m \u001b[38;5;28;01mfor\u001b[39;00m link \u001b[38;5;129;01min\u001b[39;00m \u001b[43msoup\u001b[49m\u001b[38;5;241m.\u001b[39mfind_all(\u001b[38;5;124m\"\u001b[39m\u001b[38;5;124mdiv\u001b[39m\u001b[38;5;124m\"\u001b[39m, class_\u001b[38;5;241m=\u001b[39m\u001b[38;5;124m\"\u001b[39m\u001b[38;5;124moffer-description\u001b[39m\u001b[38;5;124m\"\u001b[39m, href\u001b[38;5;241m=\u001b[39m\u001b[38;5;28;01mTrue\u001b[39;00m):\n\u001b[0;32m     11\u001b[0m     vacancy_links\u001b[38;5;241m.\u001b[39mappend(link[\u001b[38;5;124m\"\u001b[39m\u001b[38;5;124mhref\u001b[39m\u001b[38;5;124m\"\u001b[39m])\n\u001b[0;32m     13\u001b[0m     \u001b[38;5;66;03m# Los enlaces pueden ser relativos, así que construye las URL completas\u001b[39;00m\n",
      "\u001b[1;31mNameError\u001b[0m: name 'soup' is not defined"
     ]
    }
   ],
   "source": [
    "url = \"https://jobs.airavirtual.com/el_puerto_de_liverpool#_ver_empleos\"\n",
    "\n",
    "response = requests.get(url)\n",
    "if response.status_code == 200:\n",
    "    soup = BeautifulSoup(response.text, \"html.parser\")\n",
    "\n",
    "    # Encuentra todos los enlaces que dirigen a las vacantes\n",
    "vacancy_links = []\n",
    "\n",
    "for link in soup.find_all(\"div\", class_=\"offer-description\", href=True):\n",
    "    vacancy_links.append(link[\"href\"])\n",
    "\n",
    "    # Los enlaces pueden ser relativos, así que construye las URL completas\n",
    "base_url = \"https://jobs.airavirtual.com/el_puerto_de_liverpool#_ver_empleos\"\n",
    "full_vacancy_links = [base_url + link for link in vacancy_links]\n",
    "        \n",
    "    # Crear un DataFrame a partir de la lista de enlaces\n",
    "df_url = pd.DataFrame({\"url\": full_vacancy_links})"
   ]
  },
  {
   "cell_type": "code",
   "execution_count": 8,
   "metadata": {},
   "outputs": [
    {
     "data": {
      "text/html": [
       "<div>\n",
       "<style scoped>\n",
       "    .dataframe tbody tr th:only-of-type {\n",
       "        vertical-align: middle;\n",
       "    }\n",
       "\n",
       "    .dataframe tbody tr th {\n",
       "        vertical-align: top;\n",
       "    }\n",
       "\n",
       "    .dataframe thead th {\n",
       "        text-align: right;\n",
       "    }\n",
       "</style>\n",
       "<table border=\"1\" class=\"dataframe\">\n",
       "  <thead>\n",
       "    <tr style=\"text-align: right;\">\n",
       "      <th></th>\n",
       "      <th>url</th>\n",
       "    </tr>\n",
       "  </thead>\n",
       "  <tbody>\n",
       "  </tbody>\n",
       "</table>\n",
       "</div>"
      ],
      "text/plain": [
       "Empty DataFrame\n",
       "Columns: [url]\n",
       "Index: []"
      ]
     },
     "execution_count": 8,
     "metadata": {},
     "output_type": "execute_result"
    }
   ],
   "source": [
    "df_url.head(10)"
   ]
  },
  {
   "cell_type": "code",
   "execution_count": null,
   "metadata": {},
   "outputs": [],
   "source": [
    " # Busco la pagina sigruiente e itero sobre los links para guardarlos en las vacantes\n",
    "    page=soup.find('div', class_=\"p-gridcol col-12-device-none\", href=True)\n",
    "    if page is not None:\n",
    "        page_response=requests.get(page['href'])\n",
    "        \n",
    "        if page_response.status_code == 200:\n",
    "            pagesoup = BeautifulSoup(page_response.text, 'html.parser')\n",
    "            \n",
    "            for link in pagesoup.find_all(\"button\", class_=\"page-number p-bg-hv-grey70\", href=True):\n",
    "                vacancy_links.append(link[\"href\"])\n",
    "        else:\n",
    "            print(\"No existen más páginas:\", page_response.status_code)\n",
    "    else:\n",
    "        print(\"No se encontró el enlace a la página siguiente\")"
   ]
  }
 ],
 "metadata": {
  "kernelspec": {
   "display_name": "Python 3",
   "language": "python",
   "name": "python3"
  },
  "language_info": {
   "codemirror_mode": {
    "name": "ipython",
    "version": 3
   },
   "file_extension": ".py",
   "mimetype": "text/x-python",
   "name": "python",
   "nbconvert_exporter": "python",
   "pygments_lexer": "ipython3",
   "version": "3.11.2"
  }
 },
 "nbformat": 4,
 "nbformat_minor": 2
}
